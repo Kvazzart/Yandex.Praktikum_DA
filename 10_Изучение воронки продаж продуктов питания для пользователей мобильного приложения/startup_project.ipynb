{
 "cells": [
  {
   "cell_type": "markdown",
   "metadata": {},
   "source": [
    "<div style=\"border:solid green 2px; padding: 20px\">\n",
    "<b>Привет, Валентина!</b>\n",
    "\n",
    "Меня зовут Григорий Гусаров, и я буду проверять твой проект. Предлагаю общаться на «ты» :) Но если это не удобно - дай знать, и мы перейдем на \"вы\". \n",
    "\n",
    "Моя основная цель — не указать на совершенные тобою ошибки, а поделиться своим опытом и помочь тебе стать аналитиком данных. Ниже ты найдешь мои комментарии - пожалуйста, не перемещай, не изменяй и не удаляй их. Я буду использовать цветовую разметку:\n",
    "\n",
    "<div class=\"alert alert-danger\">\n",
    "<b>Комментарий ревьюера:</b> Так выделены самые важные замечания. Без их отработки проект не будет принят. </div>\n",
    "\n",
    "<div class=\"alert alert-warning\">\n",
    "<b>Комментарий ревьюера:</b> Так выделены дополнительные материалы и развивающие замечания. Их отработка остается на твое усмотрение.\n",
    "</div>\n",
    "\n",
    "<div class=\"alert alert-success\">\n",
    "<b>Комментарий ревьюера:</b> Так я выделяю все остальные комментарии.</div>\n",
    "\n",
    "Давай работать над проектом в диалоге: если ты что-то меняешь в проекте или отвечаешь на мои комменатри — пиши об этом. Мне будет легче отследить изменения, если ты выделишь свои комментарии:\n",
    "<div class=\"alert alert-info\"> <b>Комментарий студента:</b> Например, вот так.</div>\n",
    "\n",
    "Всё это поможет выполнить повторную проверку твоего проекта оперативнее. \n",
    "    \n",
    "</div>    "
   ]
  },
  {
   "cell_type": "markdown",
   "metadata": {},
   "source": [
    "### <font color='orange'>Общий отзыв</font>\n",
    "Спасибо за присланную работу! Прекрасное исследование, видно что ты тщательно разобралась в теории и примерах кода. Здорово, что ты реализовала перебор гипотез через цикл. Недочеты незначительны и касаются полноты выводов. Ниже я отметил проблемные точки. \n",
    "\n",
    "\n",
    "**Обновление**:<br>\n",
    "Спасибо за обновление! Здорово, что ты нашла время и для желтых комментариев. Обрати, пожалуйста, внимание на ячейку 43, процент дошедших до этапа оплаты.\n",
    "\n",
    "<div class=\"alert alert-info\">\n",
    "Привет! Спасибо за комментарии и полезные ссылки!</div>\n",
    "\n",
    "**Обновление**:<br>\n",
    "Спасибо за быстрые правки! Поздравляю, проект принят!"
   ]
  },
  {
   "cell_type": "markdown",
   "metadata": {},
   "source": []
  },
  {
   "cell_type": "markdown",
   "metadata": {},
   "source": [
    "<div class=\"alert alert-warning\">\n",
    "<b>Комментарий ревьюера: </b> Дополнительные ссылки:\n",
    "    <ul>\n",
    "        <li>Plotly cheat sheet: <a>https://images.plot.ly/plotly-documentation/images/python_cheat_sheet.pdf</a></li>\n",
    "       <li>Pingouin. Иногда он удобнее чем scipy: <a>https://pingouin-stats.org/#</a></li>\n",
    "        <li>Sweetviz <a>https://towardsdatascience.com/sweetviz-automated-eda-in-python-a97e4cabacde</a></li>\n",
    "    </ul>\n",
    "</div>"
   ]
  },
  {
   "cell_type": "markdown",
   "metadata": {},
   "source": [
    "---"
   ]
  },
  {
   "cell_type": "markdown",
   "metadata": {},
   "source": [
    "# Описание проекта\n",
    "\n",
    "Вы работаете в стартапе, который продаёт продукты питания. Нужно разобраться, как ведут себя пользователи вашего мобильного приложения.\n",
    "Изучите воронку продаж. Узнайте, как пользователи доходят до покупки. Сколько пользователей доходит до покупки, а сколько — «застревает» на предыдущих шагах? На каких именно?\n",
    "После этого исследуйте результаты A/A/B-эксперимента. Дизайнеры захотели поменять шрифты во всём приложении, а менеджеры испугались, что пользователям будет непривычно. Договорились принять решение по результатам A/A/B-теста. Пользователей разбили на 3 группы: 2 контрольные со старыми шрифтами и одну экспериментальную — с новыми. Выясните, какой шрифт лучше.\n",
    "Создание двух групп A вместо одной имеет определённые преимущества. Если две контрольные группы окажутся равны, вы можете быть уверены в точности проведенного тестирования. Если же между значениями A и A будут существенные различия, это поможет обнаружить факторы, которые привели к искажению результатов. Сравнение контрольных групп также помогает понять, сколько времени и данных потребуется для дальнейших тестов.\n",
    "В случае общей аналитики и A/A/B-эксперимента работайте с одними и теми же данными. В реальных проектах всегда идут эксперименты. Аналитики исследуют качество работы приложения по общим данным, не учитывая принадлежность пользователей к экспериментам."
   ]
  },
  {
   "cell_type": "markdown",
   "metadata": {},
   "source": [
    "Описание данных\n",
    "Каждая запись в логе — это действие пользователя, или событие.\n",
    "\n",
    "    EventName — название события;\n",
    "    DeviceIDHash — уникальный идентификатор пользователя;\n",
    "    EventTimestamp — время события;\n",
    "    ExpId — номер эксперимента: 246 и 247 — контрольные группы, а 248 — экспериментальная."
   ]
  },
  {
   "cell_type": "markdown",
   "metadata": {},
   "source": [
    "## Шаг 1. Откройте файл с данными и изучите общую информацию\n",
    "Изучим файл /datasets/logs_exp.csv. Изучим данные с помощью метода info(). Выведем первые строки таблицы методом head(), чтобы познакомиться с данными."
   ]
  },
  {
   "cell_type": "code",
   "execution_count": 1,
   "metadata": {},
   "outputs": [],
   "source": [
    "import pandas as pd\n",
    "from datetime import date\n",
    "\n",
    "from scipy import stats as st\n",
    "import numpy as np\n",
    "import math as mth\n",
    "\n",
    "import matplotlib.pyplot as plt \n",
    "import seaborn as sns\n",
    "import plotly.express as px\n",
    "\n",
    "from statsmodels.stats.proportion import proportions_ztest\n",
    "import warnings\n",
    "\n",
    "warnings.filterwarnings('ignore')"
   ]
  },
  {
   "cell_type": "code",
   "execution_count": 2,
   "metadata": {},
   "outputs": [
    {
     "data": {
      "text/html": [
       "<div>\n",
       "<style scoped>\n",
       "    .dataframe tbody tr th:only-of-type {\n",
       "        vertical-align: middle;\n",
       "    }\n",
       "\n",
       "    .dataframe tbody tr th {\n",
       "        vertical-align: top;\n",
       "    }\n",
       "\n",
       "    .dataframe thead th {\n",
       "        text-align: right;\n",
       "    }\n",
       "</style>\n",
       "<table border=\"1\" class=\"dataframe\">\n",
       "  <thead>\n",
       "    <tr style=\"text-align: right;\">\n",
       "      <th></th>\n",
       "      <th>EventName</th>\n",
       "      <th>DeviceIDHash</th>\n",
       "      <th>EventTimestamp</th>\n",
       "      <th>ExpId</th>\n",
       "    </tr>\n",
       "  </thead>\n",
       "  <tbody>\n",
       "    <tr>\n",
       "      <td>0</td>\n",
       "      <td>MainScreenAppear</td>\n",
       "      <td>4575588528974610257</td>\n",
       "      <td>1564029816</td>\n",
       "      <td>246</td>\n",
       "    </tr>\n",
       "    <tr>\n",
       "      <td>1</td>\n",
       "      <td>MainScreenAppear</td>\n",
       "      <td>7416695313311560658</td>\n",
       "      <td>1564053102</td>\n",
       "      <td>246</td>\n",
       "    </tr>\n",
       "    <tr>\n",
       "      <td>2</td>\n",
       "      <td>PaymentScreenSuccessful</td>\n",
       "      <td>3518123091307005509</td>\n",
       "      <td>1564054127</td>\n",
       "      <td>248</td>\n",
       "    </tr>\n",
       "    <tr>\n",
       "      <td>3</td>\n",
       "      <td>CartScreenAppear</td>\n",
       "      <td>3518123091307005509</td>\n",
       "      <td>1564054127</td>\n",
       "      <td>248</td>\n",
       "    </tr>\n",
       "    <tr>\n",
       "      <td>4</td>\n",
       "      <td>PaymentScreenSuccessful</td>\n",
       "      <td>6217807653094995999</td>\n",
       "      <td>1564055322</td>\n",
       "      <td>248</td>\n",
       "    </tr>\n",
       "  </tbody>\n",
       "</table>\n",
       "</div>"
      ],
      "text/plain": [
       "                 EventName         DeviceIDHash  EventTimestamp  ExpId\n",
       "0         MainScreenAppear  4575588528974610257      1564029816    246\n",
       "1         MainScreenAppear  7416695313311560658      1564053102    246\n",
       "2  PaymentScreenSuccessful  3518123091307005509      1564054127    248\n",
       "3         CartScreenAppear  3518123091307005509      1564054127    248\n",
       "4  PaymentScreenSuccessful  6217807653094995999      1564055322    248"
      ]
     },
     "execution_count": 2,
     "metadata": {},
     "output_type": "execute_result"
    }
   ],
   "source": [
    "exp = pd.read_csv('/datasets/logs_exp.csv', sep='\\t')\n",
    "exp.head()"
   ]
  },
  {
   "cell_type": "code",
   "execution_count": 3,
   "metadata": {},
   "outputs": [
    {
     "name": "stdout",
     "output_type": "stream",
     "text": [
      "<class 'pandas.core.frame.DataFrame'>\n",
      "RangeIndex: 244126 entries, 0 to 244125\n",
      "Data columns (total 4 columns):\n",
      "EventName         244126 non-null object\n",
      "DeviceIDHash      244126 non-null int64\n",
      "EventTimestamp    244126 non-null int64\n",
      "ExpId             244126 non-null int64\n",
      "dtypes: int64(3), object(1)\n",
      "memory usage: 7.5+ MB\n"
     ]
    }
   ],
   "source": [
    "exp.info()"
   ]
  },
  {
   "cell_type": "markdown",
   "metadata": {},
   "source": [
    "В датасете 4 колонки с записями о действиях пользователя: EventName типа object, DeviceIDHash типа int64, EventTimestamp типа int64 и ExpId типа int64. Всего 244126 строк в каждом столбце, значит, пропусков нет.            "
   ]
  },
  {
   "cell_type": "markdown",
   "metadata": {},
   "source": [
    "<div class=\"alert alert-success\">\n",
    "<b>Комментарий ревьюера:</b> Все верно, начнем 💪 \n",
    "</div>"
   ]
  },
  {
   "cell_type": "markdown",
   "metadata": {},
   "source": [
    "## Шаг 2. Подготовьте данные\n",
    "\n",
    "### Замените названия столбцов на удобные для вас;"
   ]
  },
  {
   "cell_type": "markdown",
   "metadata": {},
   "source": [
    "Текущие названия столбцов для меня удобны, поэому оставим их как есть."
   ]
  },
  {
   "cell_type": "markdown",
   "metadata": {},
   "source": [
    "### Проверьте пропуски и типы данных. Откорректируйте, если нужно;"
   ]
  },
  {
   "cell_type": "markdown",
   "metadata": {},
   "source": [
    "Пробежимся по данным и проверим их на корректность. Для этого воспользуемся методом describe() для численных строк и методами .unique()/.value_counts() для категориальных данных.\n"
   ]
  },
  {
   "cell_type": "code",
   "execution_count": 4,
   "metadata": {},
   "outputs": [
    {
     "data": {
      "text/plain": [
       "array(['MainScreenAppear', 'PaymentScreenSuccessful', 'CartScreenAppear',\n",
       "       'OffersScreenAppear', 'Tutorial'], dtype=object)"
      ]
     },
     "execution_count": 4,
     "metadata": {},
     "output_type": "execute_result"
    }
   ],
   "source": [
    "exp['EventName'].unique()"
   ]
  },
  {
   "cell_type": "code",
   "execution_count": 5,
   "metadata": {},
   "outputs": [
    {
     "data": {
      "text/plain": [
       "MainScreenAppear           119205\n",
       "OffersScreenAppear          46825\n",
       "CartScreenAppear            42731\n",
       "PaymentScreenSuccessful     34313\n",
       "Tutorial                     1052\n",
       "Name: EventName, dtype: int64"
      ]
     },
     "execution_count": 5,
     "metadata": {},
     "output_type": "execute_result"
    }
   ],
   "source": [
    "exp['EventName'].value_counts() "
   ]
  },
  {
   "cell_type": "markdown",
   "metadata": {},
   "source": [
    "Всего 5 возможных вариантов событий - 'MainScreenAppear', 'PaymentScreenSuccessful', 'CartScreenAppear',\n",
    "       'OffersScreenAppear', 'Tutorial'. Больше всего в выгрузке событий типа 'MainScreenAppear' (119205) - переходов на главный экран. Примерно в два раза меньше событий типа OffersScreenAppear и CartScreenAppear."
   ]
  },
  {
   "cell_type": "code",
   "execution_count": 6,
   "metadata": {},
   "outputs": [
    {
     "data": {
      "text/plain": [
       "6304868067479728361    2308\n",
       "197027893265565660     2003\n",
       "4623191541214045580    1771\n",
       "6932517045703054087    1448\n",
       "1754140665440434215    1222\n",
       "                       ... \n",
       "7724520246123323531       1\n",
       "2760145394827990211       1\n",
       "2086627244641656064       1\n",
       "8164821368561674670       1\n",
       "1083512226259476085       1\n",
       "Name: DeviceIDHash, Length: 7551, dtype: int64"
      ]
     },
     "execution_count": 6,
     "metadata": {},
     "output_type": "execute_result"
    }
   ],
   "source": [
    "exp['DeviceIDHash'].value_counts()"
   ]
  },
  {
   "cell_type": "markdown",
   "metadata": {},
   "source": [
    "Всего в датасете 7551 уникальных идетификаторов пользователя."
   ]
  },
  {
   "cell_type": "code",
   "execution_count": 7,
   "metadata": {},
   "outputs": [
    {
     "data": {
      "text/plain": [
       "count    2.441260e+05\n",
       "mean     1.564914e+09\n",
       "std      1.771343e+05\n",
       "min      1.564030e+09\n",
       "25%      1.564757e+09\n",
       "50%      1.564919e+09\n",
       "75%      1.565075e+09\n",
       "max      1.565213e+09\n",
       "Name: EventTimestamp, dtype: float64"
      ]
     },
     "execution_count": 7,
     "metadata": {},
     "output_type": "execute_result"
    }
   ],
   "source": [
    "exp['EventTimestamp'].describe()"
   ]
  },
  {
   "cell_type": "markdown",
   "metadata": {},
   "source": [
    "Рассматриваемый период времени - от 25 июля 2019 до 8 августа 2019 года, то есть, 14 дней."
   ]
  },
  {
   "cell_type": "code",
   "execution_count": 8,
   "metadata": {},
   "outputs": [
    {
     "data": {
      "text/plain": [
       "array([246, 248, 247])"
      ]
     },
     "execution_count": 8,
     "metadata": {},
     "output_type": "execute_result"
    }
   ],
   "source": [
    "exp['ExpId'].unique()"
   ]
  },
  {
   "cell_type": "code",
   "execution_count": 9,
   "metadata": {},
   "outputs": [
    {
     "data": {
      "text/plain": [
       "248    85747\n",
       "246    80304\n",
       "247    78075\n",
       "Name: ExpId, dtype: int64"
      ]
     },
     "execution_count": 9,
     "metadata": {},
     "output_type": "execute_result"
    }
   ],
   "source": [
    "exp['ExpId'].value_counts()"
   ]
  },
  {
   "cell_type": "markdown",
   "metadata": {},
   "source": [
    "В логах находится информация о трех экспериментах, разбивка по группам практически равная."
   ]
  },
  {
   "cell_type": "code",
   "execution_count": 10,
   "metadata": {},
   "outputs": [
    {
     "data": {
      "text/html": [
       "<div>\n",
       "<style scoped>\n",
       "    .dataframe tbody tr th:only-of-type {\n",
       "        vertical-align: middle;\n",
       "    }\n",
       "\n",
       "    .dataframe tbody tr th {\n",
       "        vertical-align: top;\n",
       "    }\n",
       "\n",
       "    .dataframe thead th {\n",
       "        text-align: right;\n",
       "    }\n",
       "</style>\n",
       "<table border=\"1\" class=\"dataframe\">\n",
       "  <thead>\n",
       "    <tr style=\"text-align: right;\">\n",
       "      <th></th>\n",
       "      <th>EventName</th>\n",
       "      <th>DeviceIDHash</th>\n",
       "      <th>EventTimestamp</th>\n",
       "      <th>ExpId</th>\n",
       "    </tr>\n",
       "  </thead>\n",
       "  <tbody>\n",
       "    <tr>\n",
       "      <td>453</td>\n",
       "      <td>MainScreenAppear</td>\n",
       "      <td>5613408041324010552</td>\n",
       "      <td>1564474784</td>\n",
       "      <td>248</td>\n",
       "    </tr>\n",
       "    <tr>\n",
       "      <td>2350</td>\n",
       "      <td>CartScreenAppear</td>\n",
       "      <td>1694940645335807244</td>\n",
       "      <td>1564609899</td>\n",
       "      <td>248</td>\n",
       "    </tr>\n",
       "    <tr>\n",
       "      <td>3573</td>\n",
       "      <td>MainScreenAppear</td>\n",
       "      <td>434103746454591587</td>\n",
       "      <td>1564628377</td>\n",
       "      <td>248</td>\n",
       "    </tr>\n",
       "    <tr>\n",
       "      <td>4076</td>\n",
       "      <td>MainScreenAppear</td>\n",
       "      <td>3761373764179762633</td>\n",
       "      <td>1564631266</td>\n",
       "      <td>247</td>\n",
       "    </tr>\n",
       "    <tr>\n",
       "      <td>4803</td>\n",
       "      <td>MainScreenAppear</td>\n",
       "      <td>2835328739789306622</td>\n",
       "      <td>1564634641</td>\n",
       "      <td>248</td>\n",
       "    </tr>\n",
       "    <tr>\n",
       "      <td>...</td>\n",
       "      <td>...</td>\n",
       "      <td>...</td>\n",
       "      <td>...</td>\n",
       "      <td>...</td>\n",
       "    </tr>\n",
       "    <tr>\n",
       "      <td>242329</td>\n",
       "      <td>MainScreenAppear</td>\n",
       "      <td>8870358373313968633</td>\n",
       "      <td>1565206004</td>\n",
       "      <td>247</td>\n",
       "    </tr>\n",
       "    <tr>\n",
       "      <td>242332</td>\n",
       "      <td>PaymentScreenSuccessful</td>\n",
       "      <td>4718002964983105693</td>\n",
       "      <td>1565206005</td>\n",
       "      <td>247</td>\n",
       "    </tr>\n",
       "    <tr>\n",
       "      <td>242360</td>\n",
       "      <td>PaymentScreenSuccessful</td>\n",
       "      <td>2382591782303281935</td>\n",
       "      <td>1565206049</td>\n",
       "      <td>246</td>\n",
       "    </tr>\n",
       "    <tr>\n",
       "      <td>242362</td>\n",
       "      <td>CartScreenAppear</td>\n",
       "      <td>2382591782303281935</td>\n",
       "      <td>1565206049</td>\n",
       "      <td>246</td>\n",
       "    </tr>\n",
       "    <tr>\n",
       "      <td>242635</td>\n",
       "      <td>MainScreenAppear</td>\n",
       "      <td>4097782667445790512</td>\n",
       "      <td>1565206618</td>\n",
       "      <td>246</td>\n",
       "    </tr>\n",
       "  </tbody>\n",
       "</table>\n",
       "<p>413 rows × 4 columns</p>\n",
       "</div>"
      ],
      "text/plain": [
       "                      EventName         DeviceIDHash  EventTimestamp  ExpId\n",
       "453            MainScreenAppear  5613408041324010552      1564474784    248\n",
       "2350           CartScreenAppear  1694940645335807244      1564609899    248\n",
       "3573           MainScreenAppear   434103746454591587      1564628377    248\n",
       "4076           MainScreenAppear  3761373764179762633      1564631266    247\n",
       "4803           MainScreenAppear  2835328739789306622      1564634641    248\n",
       "...                         ...                  ...             ...    ...\n",
       "242329         MainScreenAppear  8870358373313968633      1565206004    247\n",
       "242332  PaymentScreenSuccessful  4718002964983105693      1565206005    247\n",
       "242360  PaymentScreenSuccessful  2382591782303281935      1565206049    246\n",
       "242362         CartScreenAppear  2382591782303281935      1565206049    246\n",
       "242635         MainScreenAppear  4097782667445790512      1565206618    246\n",
       "\n",
       "[413 rows x 4 columns]"
      ]
     },
     "execution_count": 10,
     "metadata": {},
     "output_type": "execute_result"
    }
   ],
   "source": [
    "#проверим на дубликаты\n",
    "exp[exp.duplicated()]"
   ]
  },
  {
   "cell_type": "markdown",
   "metadata": {},
   "source": [
    "<div class=\"alert alert-warning\">\n",
    "<b>Комментарий ревьюера: </b> Обрати, пожалуйста, внимание на форматирование датафреймов в твоем проекте. Не забывай использовать head(), tail() илм sample() при выводе больших таблиц. Это позволит тебе контролировать размер итогового исследования (на github-e неотформатированные таблицы разворачиваются в полную длину) и не даст зависнуть браузеру на больших датасетах.\n",
    "</div>"
   ]
  },
  {
   "cell_type": "markdown",
   "metadata": {},
   "source": [
    "Видим дубликаты. Удалим их."
   ]
  },
  {
   "cell_type": "markdown",
   "metadata": {},
   "source": [
    "<div class=\"alert alert-success\">\n",
    "<b>Комментарий ревьюера:</b> Окей, согласен с тобой.\n",
    "</div>"
   ]
  },
  {
   "cell_type": "code",
   "execution_count": 11,
   "metadata": {},
   "outputs": [],
   "source": [
    "exp.drop_duplicates(inplace = True)"
   ]
  },
  {
   "cell_type": "code",
   "execution_count": 12,
   "metadata": {},
   "outputs": [
    {
     "name": "stdout",
     "output_type": "stream",
     "text": [
      "<class 'pandas.core.frame.DataFrame'>\n",
      "Int64Index: 243713 entries, 0 to 244125\n",
      "Data columns (total 4 columns):\n",
      "EventName         243713 non-null object\n",
      "DeviceIDHash      243713 non-null int64\n",
      "EventTimestamp    243713 non-null int64\n",
      "ExpId             243713 non-null int64\n",
      "dtypes: int64(3), object(1)\n",
      "memory usage: 9.3+ MB\n"
     ]
    }
   ],
   "source": [
    "exp.info()"
   ]
  },
  {
   "cell_type": "code",
   "execution_count": 13,
   "metadata": {},
   "outputs": [
    {
     "data": {
      "text/html": [
       "<style  type=\"text/css\" >\n",
       "    #T_270c44ba_07e7_11ec_bf3a_02420a39528erow0_col0 {\n",
       "            background-color:  #3b4cc0;\n",
       "            color:  #f1f1f1;\n",
       "        }    #T_270c44ba_07e7_11ec_bf3a_02420a39528erow1_col0 {\n",
       "            background-color:  #3b4cc0;\n",
       "            color:  #f1f1f1;\n",
       "        }    #T_270c44ba_07e7_11ec_bf3a_02420a39528erow2_col0 {\n",
       "            background-color:  #3b4cc0;\n",
       "            color:  #f1f1f1;\n",
       "        }    #T_270c44ba_07e7_11ec_bf3a_02420a39528erow3_col0 {\n",
       "            background-color:  #3b4cc0;\n",
       "            color:  #f1f1f1;\n",
       "        }</style><table id=\"T_270c44ba_07e7_11ec_bf3a_02420a39528e\" ><thead>    <tr>        <th class=\"blank level0\" ></th>        <th class=\"col_heading level0 col0\" >0</th>    </tr></thead><tbody>\n",
       "                <tr>\n",
       "                        <th id=\"T_270c44ba_07e7_11ec_bf3a_02420a39528elevel0_row0\" class=\"row_heading level0 row0\" >EventName</th>\n",
       "                        <td id=\"T_270c44ba_07e7_11ec_bf3a_02420a39528erow0_col0\" class=\"data row0 col0\" >0</td>\n",
       "            </tr>\n",
       "            <tr>\n",
       "                        <th id=\"T_270c44ba_07e7_11ec_bf3a_02420a39528elevel0_row1\" class=\"row_heading level0 row1\" >DeviceIDHash</th>\n",
       "                        <td id=\"T_270c44ba_07e7_11ec_bf3a_02420a39528erow1_col0\" class=\"data row1 col0\" >0</td>\n",
       "            </tr>\n",
       "            <tr>\n",
       "                        <th id=\"T_270c44ba_07e7_11ec_bf3a_02420a39528elevel0_row2\" class=\"row_heading level0 row2\" >EventTimestamp</th>\n",
       "                        <td id=\"T_270c44ba_07e7_11ec_bf3a_02420a39528erow2_col0\" class=\"data row2 col0\" >0</td>\n",
       "            </tr>\n",
       "            <tr>\n",
       "                        <th id=\"T_270c44ba_07e7_11ec_bf3a_02420a39528elevel0_row3\" class=\"row_heading level0 row3\" >ExpId</th>\n",
       "                        <td id=\"T_270c44ba_07e7_11ec_bf3a_02420a39528erow3_col0\" class=\"data row3 col0\" >0</td>\n",
       "            </tr>\n",
       "    </tbody></table>"
      ],
      "text/plain": [
       "<pandas.io.formats.style.Styler at 0x7f48425ad1d0>"
      ]
     },
     "execution_count": 13,
     "metadata": {},
     "output_type": "execute_result"
    }
   ],
   "source": [
    "#посмотрим на нулевые значения\n",
    "pd.DataFrame(round((exp.isna().mean()*100),2)).style.background_gradient('coolwarm')"
   ]
  },
  {
   "cell_type": "markdown",
   "metadata": {},
   "source": [
    "Нулевых значений нет."
   ]
  },
  {
   "cell_type": "markdown",
   "metadata": {},
   "source": [
    "<div class=\"alert alert-success\">\n",
    "<b>Комментарий ревьюера:</b> Здорово, что ты уже знакома со стайлингом таблиц pandas 👍\n",
    "</div>"
   ]
  },
  {
   "cell_type": "markdown",
   "metadata": {},
   "source": [
    "###  Добавьте столбец даты и времени, а также отдельный столбец дат;"
   ]
  },
  {
   "cell_type": "code",
   "execution_count": 14,
   "metadata": {},
   "outputs": [],
   "source": [
    "#добавим колонку с датой и временем\n",
    "exp['EventDateTime'] = pd.to_datetime(exp.EventTimestamp, unit='s')"
   ]
  },
  {
   "cell_type": "code",
   "execution_count": 15,
   "metadata": {},
   "outputs": [],
   "source": [
    "#добавим колонку с датой\n",
    "exp['EventDate'] = exp['EventDateTime'].dt.date"
   ]
  },
  {
   "cell_type": "markdown",
   "metadata": {},
   "source": [
    "В датасет добавлены столбцы EventDateTime и EventDate."
   ]
  },
  {
   "cell_type": "markdown",
   "metadata": {},
   "source": [
    "## Шаг 3. Изучите и проверьте данные"
   ]
  },
  {
   "cell_type": "markdown",
   "metadata": {},
   "source": [
    "### Сколько всего событий в логе?"
   ]
  },
  {
   "cell_type": "code",
   "execution_count": 16,
   "metadata": {},
   "outputs": [
    {
     "data": {
      "text/plain": [
       "MainScreenAppear           119101\n",
       "OffersScreenAppear          46808\n",
       "CartScreenAppear            42668\n",
       "PaymentScreenSuccessful     34118\n",
       "Tutorial                     1018\n",
       "Name: EventName, dtype: int64"
      ]
     },
     "execution_count": 16,
     "metadata": {},
     "output_type": "execute_result"
    }
   ],
   "source": [
    "exp['EventName'].value_counts() "
   ]
  },
  {
   "cell_type": "markdown",
   "metadata": {},
   "source": [
    "В логе 5 событий."
   ]
  },
  {
   "cell_type": "markdown",
   "metadata": {},
   "source": [
    "### Сколько всего пользователей в логе?"
   ]
  },
  {
   "cell_type": "code",
   "execution_count": 17,
   "metadata": {},
   "outputs": [
    {
     "name": "stdout",
     "output_type": "stream",
     "text": [
      "Число уникальных пользователей: 7,551\n"
     ]
    }
   ],
   "source": [
    "before = exp.DeviceIDHash.nunique()\n",
    "print(f'Число уникальных пользователей: {exp.DeviceIDHash.nunique():,}')"
   ]
  },
  {
   "cell_type": "markdown",
   "metadata": {},
   "source": [
    "Всего в датасете 7551 уникальных идетификаторов пользователя."
   ]
  },
  {
   "cell_type": "markdown",
   "metadata": {},
   "source": [
    "<div class=\"alert alert-warning\">\n",
    "<b>Комментарий ревьюера: </b> Совет: можно форматировать результаты с помощью f-строк: <code>print(f'Число уникальных пользователей: {exp.DeviceIDHash.nunique():,}')</code>\n",
    "</div>"
   ]
  },
  {
   "cell_type": "markdown",
   "metadata": {},
   "source": [
    "<div class=\"alert alert-info\">\n",
    "Добавила!</div>"
   ]
  },
  {
   "cell_type": "markdown",
   "metadata": {},
   "source": [
    "<div class=\"alert alert-warning\">\n",
    "<b>Комментарий ревьюера v2: </b> Отлично, ниже у тебя будет еще несколько возможностей использовать этот синтаксис!\n",
    "</div>"
   ]
  },
  {
   "cell_type": "markdown",
   "metadata": {},
   "source": [
    "### Сколько в среднем событий приходится на пользователя?"
   ]
  },
  {
   "cell_type": "code",
   "execution_count": 18,
   "metadata": {},
   "outputs": [
    {
     "data": {
      "text/plain": [
       "count    7551.000000\n",
       "mean       32.275593\n",
       "std        65.154219\n",
       "min         1.000000\n",
       "25%         9.000000\n",
       "50%        20.000000\n",
       "75%        37.000000\n",
       "max      2307.000000\n",
       "Name: DeviceIDHash, dtype: float64"
      ]
     },
     "execution_count": 18,
     "metadata": {},
     "output_type": "execute_result"
    }
   ],
   "source": [
    "exp['DeviceIDHash'].value_counts().describe()"
   ]
  },
  {
   "cell_type": "markdown",
   "metadata": {},
   "source": [
    "В среднем на пользователя приходится 32 события, медианное значение - 20. Видим большое максимальное число событий - 2308, возможно, именно такие числа и внесли различие между средним и медианой."
   ]
  },
  {
   "cell_type": "markdown",
   "metadata": {},
   "source": [
    "<div class=\"alert alert-success\">\n",
    "<b>Комментарий ревьюера:</b> Грамотный выбор средней метрики, медиана тут действительно показательнее.\n",
    "</div>"
   ]
  },
  {
   "cell_type": "markdown",
   "metadata": {},
   "source": [
    "### Данными за какой период вы располагаете?\n",
    "\n",
    "Найдите максимальную и минимальную дату. Постройте гистограмму по дате и времени. Можно ли быть уверенным, что у вас одинаково полные данные за весь период? Технически в логи новых дней по некоторым пользователям могут «доезжать» события из прошлого — это может «перекашивать данные». Определите, с какого момента данные полные и отбросьте более старые. Данными за какой период времени вы располагаете на самом деле?"
   ]
  },
  {
   "cell_type": "code",
   "execution_count": 19,
   "metadata": {},
   "outputs": [
    {
     "data": {
      "text/plain": [
       "datetime.date(2019, 8, 7)"
      ]
     },
     "execution_count": 19,
     "metadata": {},
     "output_type": "execute_result"
    }
   ],
   "source": [
    "exp['EventDate'].max()"
   ]
  },
  {
   "cell_type": "markdown",
   "metadata": {},
   "source": [
    "Максимальная дата - 7 августа 2019 года."
   ]
  },
  {
   "cell_type": "code",
   "execution_count": 20,
   "metadata": {},
   "outputs": [
    {
     "data": {
      "text/plain": [
       "datetime.date(2019, 7, 25)"
      ]
     },
     "execution_count": 20,
     "metadata": {},
     "output_type": "execute_result"
    }
   ],
   "source": [
    "exp['EventDate'].min()"
   ]
  },
  {
   "cell_type": "markdown",
   "metadata": {},
   "source": [
    "Минимальная дата - 25 июля 2019 года."
   ]
  },
  {
   "cell_type": "code",
   "execution_count": 21,
   "metadata": {},
   "outputs": [
    {
     "data": {
      "image/png": "[encoded data removed]",
      "text/plain": [
       "<Figure size 576x432 with 1 Axes>"
      ]
     },
     "metadata": {
      "needs_background": "light"
     },
     "output_type": "display_data"
    }
   ],
   "source": [
    "plt.figure(figsize =(8, 6))\n",
    "exp['EventDateTime'].hist(\n",
    "                bins=14, edgecolor='black'\n",
    "                )\n",
    "plt.title('Распределение по столбцу EventDateTime')\n",
    "plt.xlabel('Значение')\n",
    "plt.xticks(rotation=45)\n",
    "plt.ylabel('Частота')\n",
    "plt.grid()\n",
    "plt.show()"
   ]
  },
  {
   "cell_type": "markdown",
   "metadata": {},
   "source": [
    "<div class=\"alert alert-warning\">\n",
    "<s><b>Комментарий ревьюера:</b> Совет: можно разделить столбцы линиями с помощью параметра <code>edgecolor='black'</code>\n",
    "</div>"
   ]
  },
  {
   "cell_type": "markdown",
   "metadata": {},
   "source": [
    "<div class=\"alert alert-info\">\n",
    "Спасибо, добавила)</div>"
   ]
  },
  {
   "cell_type": "markdown",
   "metadata": {},
   "source": [
    "Мало данных за период с 25.07.2019 по 31.07.2019. Большое число событий за период с 01.08.2019 по 07.08.2019, порядка 35 тысяч в день.\n",
    "Если подумать о причине, можно предположить, что если это моб. приложение, то в в них сложно провести AB-тест без апдейта через стор, и дальше мы можем либо сразу открыть обновление на всех пользователей, либо на процент. Скорее всего, в данном случае обновление включалось на процент, постепенно.\n",
    "\n",
    "Если говорить о достоверности анализа данных за 7-8 дней, то, в общем, это зависит от дизайна теста. В нашем случае это приложение по доставке еды, поэтому человеку не нужно находиться в приложении месяц, чтобы сделать заказ, и, по сути, для того, чтобы совершить целевое действие, ему достаточно 1 дня.\n",
    "Поэтому для данного теста 7 дней будет достаточно."
   ]
  },
  {
   "cell_type": "markdown",
   "metadata": {},
   "source": [
    "<div class=\"alert alert-success\">\n",
    "<b>Комментарий ревьюера:</b> Граница фильтрации данных выбрана корректно.\n",
    "</div>"
   ]
  },
  {
   "cell_type": "code",
   "execution_count": 22,
   "metadata": {},
   "outputs": [
    {
     "data": {
      "text/html": [
       "<div>\n",
       "<style scoped>\n",
       "    .dataframe tbody tr th:only-of-type {\n",
       "        vertical-align: middle;\n",
       "    }\n",
       "\n",
       "    .dataframe tbody tr th {\n",
       "        vertical-align: top;\n",
       "    }\n",
       "\n",
       "    .dataframe thead th {\n",
       "        text-align: right;\n",
       "    }\n",
       "</style>\n",
       "<table border=\"1\" class=\"dataframe\">\n",
       "  <thead>\n",
       "    <tr style=\"text-align: right;\">\n",
       "      <th></th>\n",
       "      <th>index</th>\n",
       "      <th>EventDate</th>\n",
       "    </tr>\n",
       "  </thead>\n",
       "  <tbody>\n",
       "    <tr>\n",
       "      <td>13</td>\n",
       "      <td>2019-07-25</td>\n",
       "      <td>9</td>\n",
       "    </tr>\n",
       "    <tr>\n",
       "      <td>12</td>\n",
       "      <td>2019-07-26</td>\n",
       "      <td>31</td>\n",
       "    </tr>\n",
       "    <tr>\n",
       "      <td>11</td>\n",
       "      <td>2019-07-27</td>\n",
       "      <td>55</td>\n",
       "    </tr>\n",
       "    <tr>\n",
       "      <td>10</td>\n",
       "      <td>2019-07-28</td>\n",
       "      <td>105</td>\n",
       "    </tr>\n",
       "    <tr>\n",
       "      <td>9</td>\n",
       "      <td>2019-07-29</td>\n",
       "      <td>184</td>\n",
       "    </tr>\n",
       "    <tr>\n",
       "      <td>8</td>\n",
       "      <td>2019-07-30</td>\n",
       "      <td>412</td>\n",
       "    </tr>\n",
       "    <tr>\n",
       "      <td>7</td>\n",
       "      <td>2019-07-31</td>\n",
       "      <td>2030</td>\n",
       "    </tr>\n",
       "    <tr>\n",
       "      <td>0</td>\n",
       "      <td>2019-08-01</td>\n",
       "      <td>36141</td>\n",
       "    </tr>\n",
       "    <tr>\n",
       "      <td>3</td>\n",
       "      <td>2019-08-02</td>\n",
       "      <td>35554</td>\n",
       "    </tr>\n",
       "    <tr>\n",
       "      <td>4</td>\n",
       "      <td>2019-08-03</td>\n",
       "      <td>33282</td>\n",
       "    </tr>\n",
       "    <tr>\n",
       "      <td>5</td>\n",
       "      <td>2019-08-04</td>\n",
       "      <td>32968</td>\n",
       "    </tr>\n",
       "    <tr>\n",
       "      <td>1</td>\n",
       "      <td>2019-08-05</td>\n",
       "      <td>36058</td>\n",
       "    </tr>\n",
       "    <tr>\n",
       "      <td>2</td>\n",
       "      <td>2019-08-06</td>\n",
       "      <td>35788</td>\n",
       "    </tr>\n",
       "    <tr>\n",
       "      <td>6</td>\n",
       "      <td>2019-08-07</td>\n",
       "      <td>31096</td>\n",
       "    </tr>\n",
       "  </tbody>\n",
       "</table>\n",
       "</div>"
      ],
      "text/plain": [
       "         index  EventDate\n",
       "13  2019-07-25          9\n",
       "12  2019-07-26         31\n",
       "11  2019-07-27         55\n",
       "10  2019-07-28        105\n",
       "9   2019-07-29        184\n",
       "8   2019-07-30        412\n",
       "7   2019-07-31       2030\n",
       "0   2019-08-01      36141\n",
       "3   2019-08-02      35554\n",
       "4   2019-08-03      33282\n",
       "5   2019-08-04      32968\n",
       "1   2019-08-05      36058\n",
       "2   2019-08-06      35788\n",
       "6   2019-08-07      31096"
      ]
     },
     "execution_count": 22,
     "metadata": {},
     "output_type": "execute_result"
    }
   ],
   "source": [
    "exp['EventDate'].value_counts().reset_index().sort_values('index')"
   ]
  },
  {
   "cell_type": "markdown",
   "metadata": {},
   "source": [
    "Продолжительность теста, по сути, не влияет на достоверность теста.\n",
    "Достоверность теста зависит от числа пользователей в каждой группе. Чем больше пользователей, чем больше разница в поведении, и тем с большей вероятностью результаты теста будут достоверными. "
   ]
  },
  {
   "cell_type": "code",
   "execution_count": 23,
   "metadata": {},
   "outputs": [],
   "source": [
    "#Отбросим события, произошедшие раньше 1 августа\n",
    "exp = exp[exp.EventDate > date(2019, 7, 31)].copy()"
   ]
  },
  {
   "cell_type": "markdown",
   "metadata": {},
   "source": [
    "### Много ли событий и пользователей вы потеряли, отбросив старые данные?"
   ]
  },
  {
   "cell_type": "code",
   "execution_count": 24,
   "metadata": {},
   "outputs": [
    {
     "name": "stdout",
     "output_type": "stream",
     "text": [
      "<class 'pandas.core.frame.DataFrame'>\n",
      "Int64Index: 240887 entries, 2828 to 244125\n",
      "Data columns (total 6 columns):\n",
      "EventName         240887 non-null object\n",
      "DeviceIDHash      240887 non-null int64\n",
      "EventTimestamp    240887 non-null int64\n",
      "ExpId             240887 non-null int64\n",
      "EventDateTime     240887 non-null datetime64[ns]\n",
      "EventDate         240887 non-null object\n",
      "dtypes: datetime64[ns](1), int64(3), object(2)\n",
      "memory usage: 12.9+ MB\n"
     ]
    }
   ],
   "source": [
    "exp.info()"
   ]
  },
  {
   "cell_type": "markdown",
   "metadata": {},
   "source": [
    "Потеряли порядка 3 тысяч записей. Среди общего числа записей это немного, порядка 1%."
   ]
  },
  {
   "cell_type": "code",
   "execution_count": 25,
   "metadata": {},
   "outputs": [
    {
     "name": "stdout",
     "output_type": "stream",
     "text": [
      "Число потерянных пользователей: 17\n"
     ]
    }
   ],
   "source": [
    "after = exp.DeviceIDHash.nunique()\n",
    "print(f'Число потерянных пользователей: {before - after}')"
   ]
  },
  {
   "cell_type": "markdown",
   "metadata": {},
   "source": [
    "Потеряли 17 пользователей. Это очень немного."
   ]
  },
  {
   "cell_type": "markdown",
   "metadata": {},
   "source": [
    "<div class=\"alert alert-warning\">\n",
    "<b>Комментарий ревьюера: </b> Все верно, но лучше отразить эти расчеты в коде, а не только в письменных выводах.\n",
    "</div>"
   ]
  },
  {
   "cell_type": "markdown",
   "metadata": {},
   "source": [
    "### Проверьте, что у вас есть пользователи из всех трёх экспериментальных групп."
   ]
  },
  {
   "cell_type": "code",
   "execution_count": 26,
   "metadata": {},
   "outputs": [
    {
     "data": {
      "text/plain": [
       "248    84563\n",
       "246    79302\n",
       "247    77022\n",
       "Name: ExpId, dtype: int64"
      ]
     },
     "execution_count": 26,
     "metadata": {},
     "output_type": "execute_result"
    }
   ],
   "source": [
    "exp['ExpId'].value_counts()"
   ]
  },
  {
   "cell_type": "markdown",
   "metadata": {},
   "source": [
    "Пользователи из всех трех экспериментальных групп у нас есть."
   ]
  },
  {
   "cell_type": "markdown",
   "metadata": {},
   "source": [
    "<div class=\"alert alert-danger\">\n",
    "<s><b>Комментарий ревьюера:</b> Добавь, пожалуйста, общий вывод по шагу 3.\n",
    "</div>"
   ]
  },
  {
   "cell_type": "markdown",
   "metadata": {},
   "source": [
    "### Вывод"
   ]
  },
  {
   "cell_type": "markdown",
   "metadata": {},
   "source": [
    "Изучены и проверены данные из логов.\n",
    "\n",
    "В логе всего 5 событий: MainScreenAppear, OffersScreenAppear, CartScreenAppear, PaymentScreenSuccessful и Tutorial.\n",
    "\n",
    "Всего в датасете 7551 уникальных идетификаторов пользователя.\n",
    "\n",
    "В среднем на пользователя приходится 32 события, медианное значение - 20. Максимальное число событий - 2308, возможно, именно такие числа и внесли различие между средним и медианой.\n",
    "\n",
    "Максимальная дата - 7 августа 2019 года. Минимальная дата - 25 июля 2019 года.\n",
    "\n",
    "Мало данных за период с 25.07.2019 по 31.07.2019. Большое число событий за период с 01.08.2019 по 07.08.2019, порядка 35 тысяч в день. Если подумать о причине, можно предположить, что если это моб. приложение, то в в них сложно провести AB-тест без апдейта через стор, и дальше мы можем либо сразу открыть обновление на всех пользователей, либо на процент. Скорее всего, в данном случае обновление включалось на процент, постепенно.\n",
    "\n",
    "Если говорить о достоверности анализа данных за 7-8 дней, то, в общем, это зависит от дизайна теста. В нашем случае это приложение по доставке еды, поэтому человеку не нужно находиться в приложении месяц, чтобы сделать заказ, и, по сути, для того, чтобы совершить целевое действие, ему достаточно 1 дня. Поэтому для данного теста 7 дней будет достаточно.\n",
    "\n",
    "Отбросив старые данные, потеряли порядка 3 тысяч записей. Среди общего числа записей это немного, порядка 1%. Потеряно 17 пользователей.\n",
    "\n",
    "Пользователи из всех трех экспериментальных групп у нас есть."
   ]
  },
  {
   "cell_type": "markdown",
   "metadata": {},
   "source": [
    "<div class=\"alert alert-info\">\n",
    "Добавила!</div>"
   ]
  },
  {
   "cell_type": "markdown",
   "metadata": {},
   "source": [
    "## Шаг 4. Изучите воронку событий"
   ]
  },
  {
   "cell_type": "markdown",
   "metadata": {},
   "source": [
    "### Посмотрите, какие события есть в логах, как часто они встречаются. Отсортируйте события по частоте."
   ]
  },
  {
   "cell_type": "code",
   "execution_count": 27,
   "metadata": {},
   "outputs": [
    {
     "data": {
      "text/html": [
       "<div>\n",
       "<style scoped>\n",
       "    .dataframe tbody tr th:only-of-type {\n",
       "        vertical-align: middle;\n",
       "    }\n",
       "\n",
       "    .dataframe tbody tr th {\n",
       "        vertical-align: top;\n",
       "    }\n",
       "\n",
       "    .dataframe thead th {\n",
       "        text-align: right;\n",
       "    }\n",
       "</style>\n",
       "<table border=\"1\" class=\"dataframe\">\n",
       "  <thead>\n",
       "    <tr style=\"text-align: right;\">\n",
       "      <th></th>\n",
       "      <th>index</th>\n",
       "      <th>EventName</th>\n",
       "    </tr>\n",
       "  </thead>\n",
       "  <tbody>\n",
       "    <tr>\n",
       "      <td>4</td>\n",
       "      <td>Tutorial</td>\n",
       "      <td>1005</td>\n",
       "    </tr>\n",
       "    <tr>\n",
       "      <td>3</td>\n",
       "      <td>PaymentScreenSuccessful</td>\n",
       "      <td>33918</td>\n",
       "    </tr>\n",
       "    <tr>\n",
       "      <td>2</td>\n",
       "      <td>CartScreenAppear</td>\n",
       "      <td>42303</td>\n",
       "    </tr>\n",
       "    <tr>\n",
       "      <td>1</td>\n",
       "      <td>OffersScreenAppear</td>\n",
       "      <td>46333</td>\n",
       "    </tr>\n",
       "    <tr>\n",
       "      <td>0</td>\n",
       "      <td>MainScreenAppear</td>\n",
       "      <td>117328</td>\n",
       "    </tr>\n",
       "  </tbody>\n",
       "</table>\n",
       "</div>"
      ],
      "text/plain": [
       "                     index  EventName\n",
       "4                 Tutorial       1005\n",
       "3  PaymentScreenSuccessful      33918\n",
       "2         CartScreenAppear      42303\n",
       "1       OffersScreenAppear      46333\n",
       "0         MainScreenAppear     117328"
      ]
     },
     "execution_count": 27,
     "metadata": {},
     "output_type": "execute_result"
    }
   ],
   "source": [
    "exp['EventName'].value_counts().reset_index().sort_values('EventName')"
   ]
  },
  {
   "cell_type": "markdown",
   "metadata": {},
   "source": [
    "В логах есть события Tutorial, PaymentScreenSuccessful, CartScreenAppear, OffersScreenAppear, MainScreenAppear. Чаще всего встречается событие с переходом на главный экран."
   ]
  },
  {
   "cell_type": "markdown",
   "metadata": {},
   "source": [
    "### Посчитайте, сколько пользователей совершали каждое из этих событий. Отсортируйте события по числу пользователей. Посчитайте долю пользователей, которые хоть раз совершали событие."
   ]
  },
  {
   "cell_type": "code",
   "execution_count": 28,
   "metadata": {},
   "outputs": [
    {
     "data": {
      "text/plain": [
       "EventName\n",
       "Tutorial                    840\n",
       "PaymentScreenSuccessful    3539\n",
       "CartScreenAppear           3734\n",
       "OffersScreenAppear         4593\n",
       "MainScreenAppear           7419\n",
       "Name: DeviceIDHash, dtype: int64"
      ]
     },
     "execution_count": 28,
     "metadata": {},
     "output_type": "execute_result"
    }
   ],
   "source": [
    "exp.groupby('EventName')['DeviceIDHash'].nunique().sort_values()"
   ]
  },
  {
   "cell_type": "markdown",
   "metadata": {},
   "source": [
    "Видим количество пользователей, которые совершили то или иное действие. Чаще всего встречается событие MainScreenAppear - появление главного экрана(7419). Меньше всего встречается событие Tutorial (840).                  "
   ]
  },
  {
   "cell_type": "markdown",
   "metadata": {},
   "source": [
    "Далее, чтобы расчитать долю, берем кол-во уникальных пользователей, совершивших событие, и делим его на общее число уникальных пользователей."
   ]
  },
  {
   "cell_type": "code",
   "execution_count": 29,
   "metadata": {},
   "outputs": [
    {
     "data": {
      "text/plain": [
       "EventName\n",
       "Tutorial                    840\n",
       "PaymentScreenSuccessful    3539\n",
       "CartScreenAppear           3734\n",
       "OffersScreenAppear         4593\n",
       "MainScreenAppear           7419\n",
       "Name: DeviceIDHash, dtype: int64"
      ]
     },
     "execution_count": 29,
     "metadata": {},
     "output_type": "execute_result"
    }
   ],
   "source": [
    "exp_aggr = exp.groupby('EventName')['DeviceIDHash'].nunique().sort_values()\n",
    "exp_aggr"
   ]
  },
  {
   "cell_type": "code",
   "execution_count": 30,
   "metadata": {},
   "outputs": [],
   "source": [
    "exp_aggr = exp_aggr.to_frame().reset_index()"
   ]
  },
  {
   "cell_type": "code",
   "execution_count": 31,
   "metadata": {},
   "outputs": [
    {
     "data": {
      "text/plain": [
       "20125"
      ]
     },
     "execution_count": 31,
     "metadata": {},
     "output_type": "execute_result"
    }
   ],
   "source": [
    "total = exp_aggr['DeviceIDHash'].sum()\n",
    "total"
   ]
  },
  {
   "cell_type": "code",
   "execution_count": 32,
   "metadata": {},
   "outputs": [
    {
     "data": {
      "text/html": [
       "<div>\n",
       "<style scoped>\n",
       "    .dataframe tbody tr th:only-of-type {\n",
       "        vertical-align: middle;\n",
       "    }\n",
       "\n",
       "    .dataframe tbody tr th {\n",
       "        vertical-align: top;\n",
       "    }\n",
       "\n",
       "    .dataframe thead th {\n",
       "        text-align: right;\n",
       "    }\n",
       "</style>\n",
       "<table border=\"1\" class=\"dataframe\">\n",
       "  <thead>\n",
       "    <tr style=\"text-align: right;\">\n",
       "      <th></th>\n",
       "      <th>EventName</th>\n",
       "      <th>DeviceIDHash</th>\n",
       "      <th>share</th>\n",
       "    </tr>\n",
       "  </thead>\n",
       "  <tbody>\n",
       "    <tr>\n",
       "      <td>0</td>\n",
       "      <td>Tutorial</td>\n",
       "      <td>840</td>\n",
       "      <td>4.00%</td>\n",
       "    </tr>\n",
       "    <tr>\n",
       "      <td>1</td>\n",
       "      <td>PaymentScreenSuccessful</td>\n",
       "      <td>3539</td>\n",
       "      <td>18.00%</td>\n",
       "    </tr>\n",
       "    <tr>\n",
       "      <td>2</td>\n",
       "      <td>CartScreenAppear</td>\n",
       "      <td>3734</td>\n",
       "      <td>19.00%</td>\n",
       "    </tr>\n",
       "    <tr>\n",
       "      <td>3</td>\n",
       "      <td>OffersScreenAppear</td>\n",
       "      <td>4593</td>\n",
       "      <td>23.00%</td>\n",
       "    </tr>\n",
       "    <tr>\n",
       "      <td>4</td>\n",
       "      <td>MainScreenAppear</td>\n",
       "      <td>7419</td>\n",
       "      <td>37.00%</td>\n",
       "    </tr>\n",
       "  </tbody>\n",
       "</table>\n",
       "</div>"
      ],
      "text/plain": [
       "                 EventName  DeviceIDHash   share\n",
       "0                 Tutorial           840   4.00%\n",
       "1  PaymentScreenSuccessful          3539  18.00%\n",
       "2         CartScreenAppear          3734  19.00%\n",
       "3       OffersScreenAppear          4593  23.00%\n",
       "4         MainScreenAppear          7419  37.00%"
      ]
     },
     "execution_count": 32,
     "metadata": {},
     "output_type": "execute_result"
    }
   ],
   "source": [
    "exp_aggr['share'] = (exp_aggr['DeviceIDHash'] / total).round(2) * 100\n",
    "exp_aggr['share'] = exp_aggr['share'].map('{0:.2f}%'.format)\n",
    "exp_aggr"
   ]
  },
  {
   "cell_type": "markdown",
   "metadata": {},
   "source": [
    "<div class=\"alert alert-warning\">\n",
    "<b>Комментарий ревьюера: </b> Совет: можно изменить настройки форматирования датафрейма таким образом, чтобы доли отображались как проценты: <a>https://stackoverflow.com/a/36175424/11664121</a>. При этом сами данные не изменятся, настраивается только внешний вид выбранного датафрейма.\n",
    "</div>"
   ]
  },
  {
   "cell_type": "markdown",
   "metadata": {},
   "source": [
    "Доли пользователей, которые хоть раз совершали событие, увеличиваются в том же порядке. Больше всего доля пользователей, перешедших на главный экран (0.37), далее идут пользователи, увидевшие оффер (0.23), после чего увидевшие корзину (0.19) и совершившие оплату (0.18). Доля прошедших туториал меньше всего - 0.04."
   ]
  },
  {
   "cell_type": "markdown",
   "metadata": {},
   "source": [
    "<div class=\"alert alert-success\">\n",
    "<b>Комментарий ревьюера:</b> По этой части рассчетов вопрсов нет 👍\n",
    "</div>"
   ]
  },
  {
   "cell_type": "markdown",
   "metadata": {},
   "source": [
    "### Предположите, в каком порядке происходят события. Все ли они выстраиваются в последовательную цепочку? Их не нужно учитывать при расчёте воронки."
   ]
  },
  {
   "cell_type": "markdown",
   "metadata": {},
   "source": [
    "Понятно, что порядок событий не явлется строгим, но логичтно предположить, что сначала пользователь видит основной экран (MainScreenAppear), затем экран с оффером (OffersScreenAppear), потом попадает в корзину (CartScreenAppear), потом экран успешной оплаты (PaymentScreenSuccessful). Туториал, наверное, есть перед всем этим, но в воронку его включать, я думаю, не стоит."
   ]
  },
  {
   "cell_type": "markdown",
   "metadata": {},
   "source": [
    "<div class=\"alert alert-success\">\n",
    "<b>Комментарий ревьюера:</b> Абсолютно верно, Туториал частью воронки не является.\n",
    "</div>"
   ]
  },
  {
   "cell_type": "markdown",
   "metadata": {},
   "source": [
    "### По воронке событий посчитайте, какая доля пользователей проходит на следующий шаг воронки (от числа пользователей на предыдущем). То есть для последовательности событий A → B → C посчитайте отношение числа пользователей с событием B к количеству пользователей с событием A, а также отношение числа пользователей с событием C к количеству пользователей с событием B."
   ]
  },
  {
   "cell_type": "markdown",
   "metadata": {},
   "source": [
    "Создадим список с событиями, которые будем включать в воронку, и отфильтруем наш датасет по ним."
   ]
  },
  {
   "cell_type": "code",
   "execution_count": 33,
   "metadata": {},
   "outputs": [
    {
     "data": {
      "text/plain": [
       "['MainScreenAppear',\n",
       " 'OffersScreenAppear',\n",
       " 'CartScreenAppear',\n",
       " 'PaymentScreenSuccessful']"
      ]
     },
     "execution_count": 33,
     "metadata": {},
     "output_type": "execute_result"
    }
   ],
   "source": [
    "funnel_events = [event for event in exp.EventName.unique() if 'Screen' in event]\n",
    "funnel_events"
   ]
  },
  {
   "cell_type": "code",
   "execution_count": 34,
   "metadata": {},
   "outputs": [],
   "source": [
    "#сделаем отдельный датафрем для воронки\n",
    "exp_funnel = exp[exp.EventName.isin(funnel_events)]"
   ]
  },
  {
   "cell_type": "code",
   "execution_count": 35,
   "metadata": {},
   "outputs": [
    {
     "data": {
      "text/plain": [
       "MainScreenAppear           117328\n",
       "OffersScreenAppear          46333\n",
       "CartScreenAppear            42303\n",
       "PaymentScreenSuccessful     33918\n",
       "Name: EventName, dtype: int64"
      ]
     },
     "execution_count": 35,
     "metadata": {},
     "output_type": "execute_result"
    }
   ],
   "source": [
    "exp_funnel.EventName.value_counts()"
   ]
  },
  {
   "cell_type": "markdown",
   "metadata": {},
   "source": [
    "Посчитаем количество уникальных пользователей для каждого события."
   ]
  },
  {
   "cell_type": "code",
   "execution_count": 36,
   "metadata": {},
   "outputs": [
    {
     "data": {
      "text/html": [
       "<div>\n",
       "<style scoped>\n",
       "    .dataframe tbody tr th:only-of-type {\n",
       "        vertical-align: middle;\n",
       "    }\n",
       "\n",
       "    .dataframe tbody tr th {\n",
       "        vertical-align: top;\n",
       "    }\n",
       "\n",
       "    .dataframe thead th {\n",
       "        text-align: right;\n",
       "    }\n",
       "</style>\n",
       "<table border=\"1\" class=\"dataframe\">\n",
       "  <thead>\n",
       "    <tr style=\"text-align: right;\">\n",
       "      <th></th>\n",
       "      <th>EventName</th>\n",
       "      <th>DeviceIDHash</th>\n",
       "    </tr>\n",
       "  </thead>\n",
       "  <tbody>\n",
       "    <tr>\n",
       "      <td>0</td>\n",
       "      <td>CartScreenAppear</td>\n",
       "      <td>3734</td>\n",
       "    </tr>\n",
       "    <tr>\n",
       "      <td>1</td>\n",
       "      <td>MainScreenAppear</td>\n",
       "      <td>7419</td>\n",
       "    </tr>\n",
       "    <tr>\n",
       "      <td>2</td>\n",
       "      <td>OffersScreenAppear</td>\n",
       "      <td>4593</td>\n",
       "    </tr>\n",
       "    <tr>\n",
       "      <td>3</td>\n",
       "      <td>PaymentScreenSuccessful</td>\n",
       "      <td>3539</td>\n",
       "    </tr>\n",
       "  </tbody>\n",
       "</table>\n",
       "</div>"
      ],
      "text/plain": [
       "                 EventName  DeviceIDHash\n",
       "0         CartScreenAppear          3734\n",
       "1         MainScreenAppear          7419\n",
       "2       OffersScreenAppear          4593\n",
       "3  PaymentScreenSuccessful          3539"
      ]
     },
     "execution_count": 36,
     "metadata": {},
     "output_type": "execute_result"
    }
   ],
   "source": [
    "exp_funnel = exp_funnel.groupby('EventName')['DeviceIDHash'].nunique().reset_index()\n",
    "exp_funnel"
   ]
  },
  {
   "cell_type": "code",
   "execution_count": 37,
   "metadata": {},
   "outputs": [
    {
     "data": {
      "text/html": [
       "<div>\n",
       "<style scoped>\n",
       "    .dataframe tbody tr th:only-of-type {\n",
       "        vertical-align: middle;\n",
       "    }\n",
       "\n",
       "    .dataframe tbody tr th {\n",
       "        vertical-align: top;\n",
       "    }\n",
       "\n",
       "    .dataframe thead th {\n",
       "        text-align: right;\n",
       "    }\n",
       "</style>\n",
       "<table border=\"1\" class=\"dataframe\">\n",
       "  <thead>\n",
       "    <tr style=\"text-align: right;\">\n",
       "      <th></th>\n",
       "      <th>EventName</th>\n",
       "      <th>DeviceIDHash</th>\n",
       "    </tr>\n",
       "  </thead>\n",
       "  <tbody>\n",
       "    <tr>\n",
       "      <td>1</td>\n",
       "      <td>MainScreenAppear</td>\n",
       "      <td>7419</td>\n",
       "    </tr>\n",
       "    <tr>\n",
       "      <td>2</td>\n",
       "      <td>OffersScreenAppear</td>\n",
       "      <td>4593</td>\n",
       "    </tr>\n",
       "    <tr>\n",
       "      <td>0</td>\n",
       "      <td>CartScreenAppear</td>\n",
       "      <td>3734</td>\n",
       "    </tr>\n",
       "    <tr>\n",
       "      <td>3</td>\n",
       "      <td>PaymentScreenSuccessful</td>\n",
       "      <td>3539</td>\n",
       "    </tr>\n",
       "  </tbody>\n",
       "</table>\n",
       "</div>"
      ],
      "text/plain": [
       "                 EventName  DeviceIDHash\n",
       "1         MainScreenAppear          7419\n",
       "2       OffersScreenAppear          4593\n",
       "0         CartScreenAppear          3734\n",
       "3  PaymentScreenSuccessful          3539"
      ]
     },
     "execution_count": 37,
     "metadata": {},
     "output_type": "execute_result"
    }
   ],
   "source": [
    "#отсортируем в порядке убывания\n",
    "a = exp_funnel.sort_values(by='DeviceIDHash',ascending=False)\n",
    "a"
   ]
  },
  {
   "cell_type": "markdown",
   "metadata": {},
   "source": [
    "Посчитаем, какая доля пользователей проходит на следующий шаг воронки (от числа пользователей на предыдущем)."
   ]
  },
  {
   "cell_type": "code",
   "execution_count": 38,
   "metadata": {},
   "outputs": [
    {
     "data": {
      "text/html": [
       "<div>\n",
       "<style scoped>\n",
       "    .dataframe tbody tr th:only-of-type {\n",
       "        vertical-align: middle;\n",
       "    }\n",
       "\n",
       "    .dataframe tbody tr th {\n",
       "        vertical-align: top;\n",
       "    }\n",
       "\n",
       "    .dataframe thead th {\n",
       "        text-align: right;\n",
       "    }\n",
       "</style>\n",
       "<table border=\"1\" class=\"dataframe\">\n",
       "  <thead>\n",
       "    <tr style=\"text-align: right;\">\n",
       "      <th></th>\n",
       "      <th>EventName</th>\n",
       "      <th>DeviceIDHash</th>\n",
       "      <th>share</th>\n",
       "    </tr>\n",
       "  </thead>\n",
       "  <tbody>\n",
       "    <tr>\n",
       "      <td>1</td>\n",
       "      <td>MainScreenAppear</td>\n",
       "      <td>7419</td>\n",
       "      <td>nan%</td>\n",
       "    </tr>\n",
       "    <tr>\n",
       "      <td>2</td>\n",
       "      <td>OffersScreenAppear</td>\n",
       "      <td>4593</td>\n",
       "      <td>61.91%</td>\n",
       "    </tr>\n",
       "    <tr>\n",
       "      <td>0</td>\n",
       "      <td>CartScreenAppear</td>\n",
       "      <td>3734</td>\n",
       "      <td>81.30%</td>\n",
       "    </tr>\n",
       "    <tr>\n",
       "      <td>3</td>\n",
       "      <td>PaymentScreenSuccessful</td>\n",
       "      <td>3539</td>\n",
       "      <td>94.78%</td>\n",
       "    </tr>\n",
       "  </tbody>\n",
       "</table>\n",
       "</div>"
      ],
      "text/plain": [
       "                 EventName  DeviceIDHash   share\n",
       "1         MainScreenAppear          7419    nan%\n",
       "2       OffersScreenAppear          4593  61.91%\n",
       "0         CartScreenAppear          3734  81.30%\n",
       "3  PaymentScreenSuccessful          3539  94.78%"
      ]
     },
     "execution_count": 38,
     "metadata": {},
     "output_type": "execute_result"
    }
   ],
   "source": [
    "a['share'] = a['DeviceIDHash']/a['DeviceIDHash'].shift(1)\n",
    "a['share'] = (a['share'] * 100).round(2).map('{0:.2f}%'.format)\n",
    "a"
   ]
  },
  {
   "cell_type": "markdown",
   "metadata": {},
   "source": [
    "Доли пользователей, которые проходят на следующий шаг воронки (от числа пользователей на предыдущем):\n",
    "* 62% переходят на шаг от MainScreenAppear до OffersScreenAppear\n",
    "* 81% переходят на шаг от OffersScreenAppear до CartScreenAppear\n",
    "* 94% переходят на шаг  от CartScreenAppear до PaymentScreenSuccessful"
   ]
  },
  {
   "cell_type": "markdown",
   "metadata": {},
   "source": [
    "### На каком шаге теряете больше всего пользователей?"
   ]
  },
  {
   "cell_type": "markdown",
   "metadata": {},
   "source": [
    "Построим график воронки."
   ]
  },
  {
   "cell_type": "code",
   "execution_count": 39,
   "metadata": {},
   "outputs": [
    {
     "data": {
      "image/png": "[encoded data removed]",
      "text/plain": [
       "<Figure size 432x288 with 1 Axes>"
      ]
     },
     "metadata": {
      "needs_background": "light"
     },
     "output_type": "display_data"
    }
   ],
   "source": [
    "exp_funnel.sort_values('DeviceIDHash', ascending=False).plot(kind='bar', x='EventName')\n",
    "plt.title('Воронка событий')\n",
    "plt.xlabel('Событие')\n",
    "plt.xticks(rotation=45)\n",
    "plt.ylabel('Число уникальных пользователей')\n",
    "plt.show()"
   ]
  },
  {
   "cell_type": "markdown",
   "metadata": {},
   "source": [
    "Между первым (7419) и вторым шагом (4593) мы теряем больше всего пользователей."
   ]
  },
  {
   "cell_type": "markdown",
   "metadata": {},
   "source": [
    "### Какая доля пользователей доходит от первого события до оплаты?"
   ]
  },
  {
   "cell_type": "markdown",
   "metadata": {},
   "source": [
    "Посмотрим на процентное различие между событими воронки."
   ]
  },
  {
   "cell_type": "code",
   "execution_count": 40,
   "metadata": {},
   "outputs": [
    {
     "data": {
      "text/plain": [
       "1         NaN\n",
       "2   -0.380914\n",
       "0   -0.187024\n",
       "3   -0.052223\n",
       "Name: DeviceIDHash, dtype: float64"
      ]
     },
     "execution_count": 40,
     "metadata": {},
     "output_type": "execute_result"
    }
   ],
   "source": [
    "exp_funnel.sort_values('DeviceIDHash', ascending=False)['DeviceIDHash'].pct_change()"
   ]
  },
  {
   "cell_type": "markdown",
   "metadata": {},
   "source": [
    "Получили доли, которые мы теряем на каждом шаге воронки:\n",
    "\n",
    "38% терям на шаге от MainScreenAppear до OffersScreenAppear\n",
    "\n",
    "19% теряем на шаге от OffersScreenAppear до CartScreenAppear\n",
    "\n",
    "5% теряем на шаге от CartScreenAppear до PaymentScreenSuccessful"
   ]
  },
  {
   "cell_type": "markdown",
   "metadata": {},
   "source": [
    "Проход по всем этапам воронки не является обязательным, так что работать нужно относительно общего числа клиентов в группах. Нам важно не то, как пользователи идут по воронке, а то, сколько пользователей доходит до каждого шага."
   ]
  },
  {
   "cell_type": "markdown",
   "metadata": {},
   "source": [
    "<div class=\"alert alert-danger\">\n",
    "<s><b>Комментарий ревьюера:</b> Все верно, но так и не нашел ответа на вопрос - какой процент пользователей доходит от первого события до оплаты?\n",
    "</div>"
   ]
  },
  {
   "cell_type": "markdown",
   "metadata": {},
   "source": [
    "Вычислим, какой процент пользователей доходит от первого события до оплаты. Конверсия считается по формуле:\n",
    "(Количество пользователей совершивших целевое действие/общее число пользователей)*100%"
   ]
  },
  {
   "cell_type": "code",
   "execution_count": 42,
   "metadata": {},
   "outputs": [
    {
     "data": {
      "text/html": [
       "<div>\n",
       "<style scoped>\n",
       "    .dataframe tbody tr th:only-of-type {\n",
       "        vertical-align: middle;\n",
       "    }\n",
       "\n",
       "    .dataframe tbody tr th {\n",
       "        vertical-align: top;\n",
       "    }\n",
       "\n",
       "    .dataframe thead th {\n",
       "        text-align: right;\n",
       "    }\n",
       "</style>\n",
       "<table border=\"1\" class=\"dataframe\">\n",
       "  <thead>\n",
       "    <tr style=\"text-align: right;\">\n",
       "      <th></th>\n",
       "      <th>EventName</th>\n",
       "      <th>DeviceIDHash</th>\n",
       "    </tr>\n",
       "  </thead>\n",
       "  <tbody>\n",
       "    <tr>\n",
       "      <td>0</td>\n",
       "      <td>CartScreenAppear</td>\n",
       "      <td>3734</td>\n",
       "    </tr>\n",
       "    <tr>\n",
       "      <td>1</td>\n",
       "      <td>MainScreenAppear</td>\n",
       "      <td>7419</td>\n",
       "    </tr>\n",
       "    <tr>\n",
       "      <td>2</td>\n",
       "      <td>OffersScreenAppear</td>\n",
       "      <td>4593</td>\n",
       "    </tr>\n",
       "    <tr>\n",
       "      <td>3</td>\n",
       "      <td>PaymentScreenSuccessful</td>\n",
       "      <td>3539</td>\n",
       "    </tr>\n",
       "  </tbody>\n",
       "</table>\n",
       "</div>"
      ],
      "text/plain": [
       "                 EventName  DeviceIDHash\n",
       "0         CartScreenAppear          3734\n",
       "1         MainScreenAppear          7419\n",
       "2       OffersScreenAppear          4593\n",
       "3  PaymentScreenSuccessful          3539"
      ]
     },
     "execution_count": 42,
     "metadata": {},
     "output_type": "execute_result"
    }
   ],
   "source": [
    "exp_funnel"
   ]
  },
  {
   "cell_type": "code",
   "execution_count": 45,
   "metadata": {},
   "outputs": [
    {
     "name": "stdout",
     "output_type": "stream",
     "text": [
      "48% пользователей доходит от первого события до оплаты\n"
     ]
    }
   ],
   "source": [
    "share = (exp_funnel.get_value(3,'DeviceIDHash') / exp_funnel.get_value(1,'DeviceIDHash')).round(2)\n",
    "print('{:.0%} пользователей доходит от первого события до оплаты'.format(share))"
   ]
  },
  {
   "cell_type": "markdown",
   "metadata": {},
   "source": [
    "<div class=\"alert alert-danger\">\n",
    "<s><b>Комментарий ревьюера:</b> Здесь так же нужны общие выводы по шагу 4.\n",
    "</div>\n"
   ]
  },
  {
   "cell_type": "markdown",
   "metadata": {},
   "source": [
    "<div class=\"alert alert-info\">\n",
    "Готово!</div>"
   ]
  },
  {
   "cell_type": "markdown",
   "metadata": {},
   "source": [
    "---"
   ]
  },
  {
   "cell_type": "markdown",
   "metadata": {},
   "source": [
    "<div class=\"alert alert-danger\">\n",
    "<s><b>Комментарий ревьюера v2:</b> Выше у тебя идет расчета количества пользователей на каждом уровне воронки, где в начале 7419 пользователей, а на этапе оплаты - 3539. 18% процентов явно не бьются с этми цифрами :)\n",
    "</div>"
   ]
  },
  {
   "cell_type": "markdown",
   "metadata": {},
   "source": [
    "<div class=\"alert alert-info\">\n",
    "Прошу прощения, была невнимательна. Поправила!</div>"
   ]
  },
  {
   "cell_type": "markdown",
   "metadata": {},
   "source": [
    "<div class=\"alert alert-success\">\n",
    "<b>Комментарий ревьюера v3:</b> 👍\n",
    "</div>\n"
   ]
  },
  {
   "cell_type": "markdown",
   "metadata": {},
   "source": [
    "### Вывод"
   ]
  },
  {
   "cell_type": "markdown",
   "metadata": {},
   "source": [
    "Изучены события в логах и то, как часто они встречаются. \n",
    "В логах есть события Tutorial, PaymentScreenSuccessful, CartScreenAppear, OffersScreenAppear, MainScreenAppear. Чаще всего встречается событие с переходом на главный экран.\n",
    "\n",
    "Проверено, сколько пользователей совершали каждое из этих событий. Чаще всего встречается событие MainScreenAppear - появление главного экрана(7419). Меньше всего встречается событие Tutorial (840).\n",
    "\n",
    "Чтобы расчитать долю пользователей, которые хоть раз совершали событие, мы взяли кол-во уникальных пользователей, совершивших событие, и разделили его на общее число уникальных пользователей. Доли пользователей, которые хоть раз совершали событие, увеличиваются в том же порядке. Больше всего доля пользователей, перешедших на главный экран (0.37), далее идут пользователи, увидевшие оффер (0.23), после чего увидевшие корзину (0.19) и совершившие оплату (0.18). Доля прошедших туториал меньше всего - 0.04.\n",
    "\n",
    "Понятно, что порядок событий не явлется строгим, но логичтно предположить, что сначала пользователь видит основной экран (MainScreenAppear), затем экран с оффером (OffersScreenAppear), потом попадает в корзину (CartScreenAppear), потом экран успешной оплаты (PaymentScreenSuccessful). Туториал, наверное, есть перед всем этим, но в воронку его включать, я думаю, не стоит.\n",
    "\n",
    "Создан список с событиями, которые будут включены в воронку, далее посчитано количество уникальных пользователей для каждого события.\n",
    "Доли пользователей, которые проходят на следующий шаг воронки (от числа пользователей на предыдущем) следующие: \n",
    "\n",
    "    62% переходят на шаг от MainScreenAppear до OffersScreenAppear\n",
    "    81% переходят на шаг от OffersScreenAppear до CartScreenAppear\n",
    "    94% переходят на шаг от CartScreenAppear до PaymentScreenSuccessful\n",
    "\n",
    "\n",
    "Построен график воронки. Между первым (7419) и вторым шагом (4593) мы теряем больше всего пользователей.\n",
    "\n",
    "Изучено процентное различие между событими воронки. Получены доли, которые мы теряем на каждом шаге воронки:\n",
    "\n",
    "    38% терям на шаге от MainScreenAppear до OffersScreenAppear\n",
    "    19% теряем на шаге от OffersScreenAppear до CartScreenAppear\n",
    "    5% теряем на шаге от CartScreenAppear до PaymentScreenSuccessful\n",
    "\n",
    "При этом 48% пользователей доходит от первого события до оплаты."
   ]
  },
  {
   "cell_type": "markdown",
   "metadata": {},
   "source": [
    "## Шаг 5. Изучите результаты эксперимента\n",
    "\n",
    "    \n",
    "    \n",
    "    \n",
    "   \n",
    "    "
   ]
  },
  {
   "cell_type": "markdown",
   "metadata": {},
   "source": [
    "### Сколько пользователей в каждой экспериментальной группе?"
   ]
  },
  {
   "cell_type": "code",
   "execution_count": 46,
   "metadata": {},
   "outputs": [
    {
     "data": {
      "text/plain": [
       "ExpId\n",
       "246    2484\n",
       "247    2513\n",
       "248    2537\n",
       "Name: DeviceIDHash, dtype: int64"
      ]
     },
     "execution_count": 46,
     "metadata": {},
     "output_type": "execute_result"
    }
   ],
   "source": [
    "exp.groupby('ExpId')['DeviceIDHash'].nunique()"
   ]
  },
  {
   "cell_type": "markdown",
   "metadata": {},
   "source": [
    "В каждой экспериментальной группе примерно одинаковое число участников - около 2.5 тысяч."
   ]
  },
  {
   "cell_type": "markdown",
   "metadata": {},
   "source": [
    "### Есть 2 контрольные группы для А/А-эксперимента, чтобы проверить корректность всех механизмов и расчётов. Проверьте, находят ли статистические критерии разницу между выборками 246 и 247."
   ]
  },
  {
   "cell_type": "markdown",
   "metadata": {},
   "source": [
    "В тесте у нас есть пользователи контрольных групп 246 и 247 и пользователи экспериментальной группы 248."
   ]
  },
  {
   "cell_type": "code",
   "execution_count": 47,
   "metadata": {},
   "outputs": [],
   "source": [
    "exp_246 = exp.query('ExpId == 246').groupby('ExpId')['DeviceIDHash'].nunique().reset_index()\n",
    "exp_247 = exp.query('ExpId == 247').groupby('ExpId')['DeviceIDHash'].nunique().reset_index()"
   ]
  },
  {
   "cell_type": "code",
   "execution_count": 48,
   "metadata": {},
   "outputs": [
    {
     "name": "stdout",
     "output_type": "stream",
     "text": [
      "Разница между выборками 246 и 247 - 1.15%\n"
     ]
    }
   ],
   "source": [
    "diff = 1 - exp_246.iloc[0]['DeviceIDHash'] / exp_247.iloc[0]['DeviceIDHash']\n",
    "print('Разница между выборками 246 и 247 - {:.2%}'.format(diff))"
   ]
  },
  {
   "cell_type": "markdown",
   "metadata": {},
   "source": [
    "Между выборками 246 и 247 разница небольшая, ~1%, это приемлемо для контрольных групп."
   ]
  },
  {
   "cell_type": "markdown",
   "metadata": {},
   "source": [
    "<div class=\"alert alert-danger\">\n",
    "<s><b>Комментарий ревьюера:</b> Хардкодинг переменных. Эти значения необходимо получить с помощью кода.\n",
    "</div>"
   ]
  },
  {
   "cell_type": "markdown",
   "metadata": {},
   "source": [
    "<div class=\"alert alert-info\">\n",
    "Исправлено!</div>"
   ]
  },
  {
   "cell_type": "markdown",
   "metadata": {},
   "source": [
    "### Выберите самое популярное событие. Посчитайте число пользователей, совершивших это событие в каждой из контрольных групп. Посчитайте долю пользователей, совершивших это событие. Проверьте, будет ли отличие между группами статистически достоверным. Проделайте то же самое для всех других событий (удобно обернуть проверку в отдельную функцию). Можно ли сказать, что разбиение на группы работает корректно?"
   ]
  },
  {
   "cell_type": "markdown",
   "metadata": {},
   "source": [
    "Посмотрим, сколько пользователей совершали каждое событие в каждой экспериментальной группе."
   ]
  },
  {
   "cell_type": "code",
   "execution_count": 49,
   "metadata": {},
   "outputs": [
    {
     "data": {
      "text/html": [
       "<div>\n",
       "<style scoped>\n",
       "    .dataframe tbody tr th:only-of-type {\n",
       "        vertical-align: middle;\n",
       "    }\n",
       "\n",
       "    .dataframe tbody tr th {\n",
       "        vertical-align: top;\n",
       "    }\n",
       "\n",
       "    .dataframe thead th {\n",
       "        text-align: right;\n",
       "    }\n",
       "</style>\n",
       "<table border=\"1\" class=\"dataframe\">\n",
       "  <thead>\n",
       "    <tr style=\"text-align: right;\">\n",
       "      <th>ExpId</th>\n",
       "      <th>246</th>\n",
       "      <th>247</th>\n",
       "      <th>248</th>\n",
       "    </tr>\n",
       "    <tr>\n",
       "      <th>EventName</th>\n",
       "      <th></th>\n",
       "      <th></th>\n",
       "      <th></th>\n",
       "    </tr>\n",
       "  </thead>\n",
       "  <tbody>\n",
       "    <tr>\n",
       "      <td>CartScreenAppear</td>\n",
       "      <td>1266</td>\n",
       "      <td>1238</td>\n",
       "      <td>1230</td>\n",
       "    </tr>\n",
       "    <tr>\n",
       "      <td>MainScreenAppear</td>\n",
       "      <td>2450</td>\n",
       "      <td>2476</td>\n",
       "      <td>2493</td>\n",
       "    </tr>\n",
       "    <tr>\n",
       "      <td>OffersScreenAppear</td>\n",
       "      <td>1542</td>\n",
       "      <td>1520</td>\n",
       "      <td>1531</td>\n",
       "    </tr>\n",
       "    <tr>\n",
       "      <td>PaymentScreenSuccessful</td>\n",
       "      <td>1200</td>\n",
       "      <td>1158</td>\n",
       "      <td>1181</td>\n",
       "    </tr>\n",
       "    <tr>\n",
       "      <td>Tutorial</td>\n",
       "      <td>278</td>\n",
       "      <td>283</td>\n",
       "      <td>279</td>\n",
       "    </tr>\n",
       "  </tbody>\n",
       "</table>\n",
       "</div>"
      ],
      "text/plain": [
       "ExpId                     246   247   248\n",
       "EventName                                \n",
       "CartScreenAppear         1266  1238  1230\n",
       "MainScreenAppear         2450  2476  2493\n",
       "OffersScreenAppear       1542  1520  1531\n",
       "PaymentScreenSuccessful  1200  1158  1181\n",
       "Tutorial                  278   283   279"
      ]
     },
     "execution_count": 49,
     "metadata": {},
     "output_type": "execute_result"
    }
   ],
   "source": [
    "exp.pivot_table(index='EventName', columns='ExpId', values='DeviceIDHash', aggfunc='nunique')"
   ]
  },
  {
   "cell_type": "markdown",
   "metadata": {},
   "source": [
    "Самое популярное событие - MainScreenAppear. Тут большой разницы между количеством пользователей нет.\n",
    "В 246 группе больше всего событий оплаты (PaymentScreenSuccessful)."
   ]
  },
  {
   "cell_type": "markdown",
   "metadata": {},
   "source": [
    "Создадим функцию, считающую статистическую значимость между группами.\n",
    "Датафрейм будем обрабатывать внутри функции, группы будем передавать в виде списка. "
   ]
  },
  {
   "cell_type": "markdown",
   "metadata": {},
   "source": [
    "Сформулируем гипотезы\n",
    "\n",
    "Н0 - различия между экспериментальными группами, совершившими указанное событие, статистически не значимы\n",
    "\n",
    "Н1 - различия между экспериментальными группами, совершившими указанное событие, статистически значимы\n",
    "\n",
    "Пороговое значение alpha примем за 5%."
   ]
  },
  {
   "cell_type": "markdown",
   "metadata": {},
   "source": [
    "<div class=\"alert alert-success\">\n",
    "<b>Комментарий ревьюера:</b> 👍 \n",
    "</div>"
   ]
  },
  {
   "cell_type": "code",
   "execution_count": 50,
   "metadata": {},
   "outputs": [],
   "source": [
    "def ab_calc(df, group_ids, alpha):\n",
    "    #найдем уникальных пользователей в каждой группе\n",
    "    users = [df.query('ExpId == @group_id')['DeviceIDHash'].nunique() for group_id in group_ids]\n",
    "    #перебираем все экспериментальные группы для каждого события, считаем количество пользователей и долю\n",
    "    for event in df.EventName.unique():\n",
    "        events = [df.query('ExpId == %d and EventName == \"%s\"' % (group_id, event))['DeviceIDHash'].nunique() for group_id in group_ids]\n",
    "        # сравниваем кол-во уникальных юзеров на каждом шаге группы к кол-ву уникальных юзеров в этой группе всего\n",
    "        p1 = events[0] / users[0] #считаем долю для 1 группы\n",
    "        p2 = events[1] / users[1] #считаем долю для 2 группы\n",
    "        \n",
    "        p_combined = sum(events) / sum(users) \n",
    "        \n",
    "        difference = p1 - p2 # разница в датасетах\n",
    "        \n",
    "        z_value = difference / mth.sqrt(\n",
    "            p_combined * (1 - p_combined) * (1 / users[0] + 1 / users[1]) #считаем z-value, которая покажет, насколько она далека от среднего значения точки данных\n",
    "        )\n",
    "        \n",
    "        distr = st.norm(0, 1) #распределение\n",
    "        p_value = (1 - distr.cdf(abs(z_value))) * 2 #считаем p-value\n",
    "        \n",
    "        print(event)\n",
    "        print(p1, p2)\n",
    "        print('p-значение: ', p_value)\n",
    "        #сравниваем p-value и alpha\n",
    "        if p_value < alpha:\n",
    "            print('Отвергаем нулевую гипотезу по событию %s: между долями есть значимая разница' % (event))\n",
    "        else:\n",
    "            print('Не получилось отвергнуть нулевую гипотезу по событию %s: нет оснований считать доли разными' % (event))\n",
    "            \n",
    "        print('-------------------------------')\n",
    "        print(' ')"
   ]
  },
  {
   "cell_type": "markdown",
   "metadata": {},
   "source": [
    "Сначала проводим A/A тестирование - это проверка всего эксперимента на валидность."
   ]
  },
  {
   "cell_type": "code",
   "execution_count": 51,
   "metadata": {},
   "outputs": [
    {
     "name": "stdout",
     "output_type": "stream",
     "text": [
      "Tutorial\n",
      "0.11191626409017713 0.11261440509351373\n",
      "p-значение:  0.9376996189257114\n",
      "Не получилось отвергнуть нулевую гипотезу по событию Tutorial: нет оснований считать доли разными\n",
      "-------------------------------\n",
      " \n",
      "MainScreenAppear\n",
      "0.9863123993558777 0.9852765618782332\n",
      "p-значение:  0.7570597232046099\n",
      "Не получилось отвергнуть нулевую гипотезу по событию MainScreenAppear: нет оснований считать доли разными\n",
      "-------------------------------\n",
      " \n",
      "OffersScreenAppear\n",
      "0.6207729468599034 0.6048547552725826\n",
      "p-значение:  0.2480954578522181\n",
      "Не получилось отвергнуть нулевую гипотезу по событию OffersScreenAppear: нет оснований считать доли разными\n",
      "-------------------------------\n",
      " \n",
      "CartScreenAppear\n",
      "0.5096618357487923 0.4926382809391166\n",
      "p-значение:  0.22883372237997213\n",
      "Не получилось отвергнуть нулевую гипотезу по событию CartScreenAppear: нет оснований считать доли разными\n",
      "-------------------------------\n",
      " \n",
      "PaymentScreenSuccessful\n",
      "0.4830917874396135 0.46080382013529647\n",
      "p-значение:  0.11456679313141849\n",
      "Не получилось отвергнуть нулевую гипотезу по событию PaymentScreenSuccessful: нет оснований считать доли разными\n",
      "-------------------------------\n",
      " \n"
     ]
    }
   ],
   "source": [
    "#посмотрим на события в 246 и 247 группах\n",
    "ab_calc(exp, [246, 247], 0.05)"
   ]
  },
  {
   "cell_type": "markdown",
   "metadata": {},
   "source": [
    "Видим, что различия между экспериментальными контрольными группами 246 и 247, совершившими все события, статистически не значимы. Можно сказать, что пользователи, пришедшие в АБ-тест, довольно однородно распределились, и мы можем делать сравнение любой из этих групп с тестовой (248)."
   ]
  },
  {
   "cell_type": "markdown",
   "metadata": {},
   "source": [
    "###  Аналогично поступите с группой с изменённым шрифтом. Сравните результаты с каждой из контрольных групп в отдельности по каждому событию. Сравните результаты с объединённой контрольной группой. Какие выводы из эксперимента можно сделать?"
   ]
  },
  {
   "cell_type": "markdown",
   "metadata": {},
   "source": [
    "Переходим к A/B  тесту - здесь важно понять, есть ли у нас статистически значимые различия.\n",
    "\n",
    "Проверим все три возможных комбинации А-групп и единственной B-группы."
   ]
  },
  {
   "cell_type": "code",
   "execution_count": 52,
   "metadata": {},
   "outputs": [
    {
     "name": "stdout",
     "output_type": "stream",
     "text": [
      "Tutorial\n",
      "0.11191626409017713 0.10997240835632636\n",
      "p-значение:  0.8264294010087645\n",
      "Не получилось отвергнуть нулевую гипотезу по событию Tutorial: нет оснований считать доли разными\n",
      "-------------------------------\n",
      " \n",
      "MainScreenAppear\n",
      "0.9863123993558777 0.9826566811194324\n",
      "p-значение:  0.2949721933554552\n",
      "Не получилось отвергнуть нулевую гипотезу по событию MainScreenAppear: нет оснований считать доли разными\n",
      "-------------------------------\n",
      " \n",
      "OffersScreenAppear\n",
      "0.6207729468599034 0.6034686637761135\n",
      "p-значение:  0.20836205402738917\n",
      "Не получилось отвергнуть нулевую гипотезу по событию OffersScreenAppear: нет оснований считать доли разными\n",
      "-------------------------------\n",
      " \n",
      "CartScreenAppear\n",
      "0.5096618357487923 0.48482459597950334\n",
      "p-значение:  0.07842923237520116\n",
      "Не получилось отвергнуть нулевую гипотезу по событию CartScreenAppear: нет оснований считать доли разными\n",
      "-------------------------------\n",
      " \n",
      "PaymentScreenSuccessful\n",
      "0.4830917874396135 0.46551044540796216\n",
      "p-значение:  0.2122553275697796\n",
      "Не получилось отвергнуть нулевую гипотезу по событию PaymentScreenSuccessful: нет оснований считать доли разными\n",
      "-------------------------------\n",
      " \n"
     ]
    }
   ],
   "source": [
    "#посмотрим на события в 246 и 248 группах\n",
    "ab_calc(exp, [246, 248], 0.05)"
   ]
  },
  {
   "cell_type": "markdown",
   "metadata": {},
   "source": [
    "Различия между экспериментальными группами 246 и 248, совершившими все события, статистически не значимы.\n",
    "Высокое p-value (выше критерия значимости 0.05) обозначает, что мы имеем высокую вероятность случайных различий между показателями, обусловленных обычной дисперсий/вариацией в данных, а не реальной разницей. "
   ]
  },
  {
   "cell_type": "code",
   "execution_count": 53,
   "metadata": {},
   "outputs": [
    {
     "name": "stdout",
     "output_type": "stream",
     "text": [
      "Tutorial\n",
      "0.11261440509351373 0.10997240835632636\n",
      "p-значение:  0.765323922474501\n",
      "Не получилось отвергнуть нулевую гипотезу по событию Tutorial: нет оснований считать доли разными\n",
      "-------------------------------\n",
      " \n",
      "MainScreenAppear\n",
      "0.9852765618782332 0.9826566811194324\n",
      "p-значение:  0.4587053616621515\n",
      "Не получилось отвергнуть нулевую гипотезу по событию MainScreenAppear: нет оснований считать доли разными\n",
      "-------------------------------\n",
      " \n",
      "OffersScreenAppear\n",
      "0.6048547552725826 0.6034686637761135\n",
      "p-значение:  0.9197817830592261\n",
      "Не получилось отвергнуть нулевую гипотезу по событию OffersScreenAppear: нет оснований считать доли разными\n",
      "-------------------------------\n",
      " \n",
      "CartScreenAppear\n",
      "0.4926382809391166 0.48482459597950334\n",
      "p-значение:  0.5786197879539783\n",
      "Не получилось отвергнуть нулевую гипотезу по событию CartScreenAppear: нет оснований считать доли разными\n",
      "-------------------------------\n",
      " \n",
      "PaymentScreenSuccessful\n",
      "0.46080382013529647 0.46551044540796216\n",
      "p-значение:  0.7373415053803964\n",
      "Не получилось отвергнуть нулевую гипотезу по событию PaymentScreenSuccessful: нет оснований считать доли разными\n",
      "-------------------------------\n",
      " \n"
     ]
    }
   ],
   "source": [
    "#посмотрим на события в 247 и 248 группах\n",
    "ab_calc(exp, [247, 248], 0.05)"
   ]
  },
  {
   "cell_type": "markdown",
   "metadata": {},
   "source": [
    "Различия между экспериментальными группами 247 и 248, совершившими все события, статистически не значимы.  p-value > 0.05, значит различия могли получиться случайно, и можно считать, что группы не имеют различий."
   ]
  },
  {
   "cell_type": "code",
   "execution_count": 54,
   "metadata": {},
   "outputs": [
    {
     "data": {
      "text/plain": [
       "246    156324\n",
       "248     84563\n",
       "Name: ExpId, dtype: int64"
      ]
     },
     "execution_count": 54,
     "metadata": {},
     "output_type": "execute_result"
    }
   ],
   "source": [
    "#объединим две контрольные группы в одну и оставим ее под номером 246.\n",
    "exp_combined = exp.copy()\n",
    "exp_combined[\"ExpId\"].replace({247: 246}, inplace=True)\n",
    "exp_combined[\"ExpId\"].value_counts()"
   ]
  },
  {
   "cell_type": "code",
   "execution_count": 55,
   "metadata": {},
   "outputs": [
    {
     "name": "stdout",
     "output_type": "stream",
     "text": [
      "Tutorial\n",
      "0.11226736041624975 0.10997240835632636\n",
      "p-значение:  0.764862472531507\n",
      "Не получилось отвергнуть нулевую гипотезу по событию Tutorial: нет оснований считать доли разными\n",
      "-------------------------------\n",
      " \n",
      "MainScreenAppear\n",
      "0.9857914748849309 0.9826566811194324\n",
      "p-значение:  0.29424526837179577\n",
      "Не получилось отвергнуть нулевую гипотезу по событию MainScreenAppear: нет оснований считать доли разными\n",
      "-------------------------------\n",
      " \n",
      "OffersScreenAppear\n",
      "0.6127676605963578 0.6034686637761135\n",
      "p-значение:  0.43425549655188256\n",
      "Не получилось отвергнуть нулевую гипотезу по событию OffersScreenAppear: нет оснований считать доли разными\n",
      "-------------------------------\n",
      " \n",
      "CartScreenAppear\n",
      "0.5011006603962378 0.48482459597950334\n",
      "p-значение:  0.18175875284404386\n",
      "Не получилось отвергнуть нулевую гипотезу по событию CartScreenAppear: нет оснований считать доли разными\n",
      "-------------------------------\n",
      " \n",
      "PaymentScreenSuccessful\n",
      "0.47188312987792674 0.46551044540796216\n",
      "p-значение:  0.6004294282308704\n",
      "Не получилось отвергнуть нулевую гипотезу по событию PaymentScreenSuccessful: нет оснований считать доли разными\n",
      "-------------------------------\n",
      " \n"
     ]
    }
   ],
   "source": [
    "#посмотрим на события в объединенной контрольной группе 246 и 248 группе.\n",
    "ab_calc(exp_combined, [246, 248], 0.05)"
   ]
  },
  {
   "cell_type": "markdown",
   "metadata": {},
   "source": [
    "Различия между объединенными контрольной группами 246-247 и группой 248, совершившими все события, статистически не значимы.\n",
    "P-value > alpha, вероятно, результат случаен, т.к. попадает в интервал 3 сигмы. Т.е. от 0.05 до 1."
   ]
  },
  {
   "cell_type": "markdown",
   "metadata": {},
   "source": [
    "<div class=\"alert alert-success\">\n",
    "<b>Комментарий ревьюера:</b> Отлично, все тесты правильные!\n",
    "</div>"
   ]
  },
  {
   "cell_type": "markdown",
   "metadata": {},
   "source": [
    "### Какой уровень значимости вы выбрали при проверке статистических гипотез выше? Посчитайте, сколько проверок статистических гипотез вы сделали. При уровне значимости 0.1 каждый десятый раз можно получать ложный результат. Какой уровень значимости стоит применить? Если вы хотите изменить его, проделайте предыдущие пункты и проверьте свои выводы."
   ]
  },
  {
   "cell_type": "markdown",
   "metadata": {},
   "source": [
    "Одну и ту же гипотезу мы тестируем в разных вариациях. \n",
    "Важная особенность множественного теста в том, что вероятность ошибки первого рода увеличивается с каждой новой проверкой гипотезы.\n",
    "\n",
    "Чтобы снизить вероятность ложнопозитивного результата при множественном тестировании гипотез, применим метод Бонферони.\n",
    "Для этого поделим принятый уровень значимости (0.05) на число сравнений (16), которые проводят на одних и тех же данных, без сбора новых наблюдений для каждого теста.\n",
    "\n",
    "Всего 16 вариантов - 4 пары групп и 4 события. С учетом поправки, альфа будет равна 0.05/16 = 0.003."
   ]
  },
  {
   "cell_type": "markdown",
   "metadata": {},
   "source": [
    "<div class=\"alert alert-warning\">\n",
    "<b>Комментарий ревьюера: </b> Очень хорошо, что ты уже знакома с поправкой Бонферрони! Действительно, она может уберечь тебя от ложно отрицательной ошибки, однако она очень строгая. При использовании этой поправки практически невозможно отвергнуть нулевую гипотезу. Поэтому на практике обычно используются другие поправки, можешь почитать про них здесь:<a>https://habr.com/ru/company/yandex/blog/476826/\n",
    "</a>\n",
    "</div>"
   ]
  },
  {
   "cell_type": "markdown",
   "metadata": {},
   "source": [
    "<div class=\"alert alert-info\">\n",
    "Спасибо, интересная статья!</div>"
   ]
  },
  {
   "cell_type": "markdown",
   "metadata": {},
   "source": [
    "<div class=\"alert alert-warning\">\n",
    "<b>Комментарий ревьюера: </b> Дополнительное видео:\n",
    "</div>\n"
   ]
  },
  {
   "cell_type": "code",
   "execution_count": 56,
   "metadata": {},
   "outputs": [
    {
     "data": {
      "image/jpeg": "[encoded data removed]",
      "text/html": [
       "\n",
       "        <iframe\n",
       "            width=\"900\"\n",
       "            height=\"500\"\n",
       "            src=\"https://www.youtube.com/embed/A2FgJP-OHWE\"\n",
       "            frameborder=\"0\"\n",
       "            allowfullscreen\n",
       "        ></iframe>\n",
       "        "
      ],
      "text/plain": [
       "<IPython.lib.display.YouTubeVideo at 0x7f48ab0af790>"
      ]
     },
     "execution_count": 56,
     "metadata": {},
     "output_type": "execute_result"
    }
   ],
   "source": [
    "#  Институт биоинформатики \"Проблема проверки множества статистических гипотез — Антон Коробейников\", rus\n",
    "\n",
    "from IPython.display import YouTubeVideo\n",
    "YouTubeVideo('A2FgJP-OHWE', width=900, height=500)"
   ]
  },
  {
   "cell_type": "markdown",
   "metadata": {},
   "source": [
    "Проверим те же гипотезы с уровнем значимости 0.003. Еще раз их озвучим:"
   ]
  },
  {
   "cell_type": "markdown",
   "metadata": {},
   "source": [
    "Н0 - различия между экспериментальными группами, совершившими указанное событие, статистически не значимы\n",
    "\n",
    "Н1 - различия между экспериментальными группами, совершившими указанное событие, статистически значимы"
   ]
  },
  {
   "cell_type": "code",
   "execution_count": 57,
   "metadata": {},
   "outputs": [
    {
     "name": "stdout",
     "output_type": "stream",
     "text": [
      "Tutorial\n",
      "0.11191626409017713 0.10997240835632636\n",
      "p-значение:  0.8264294010087645\n",
      "Не получилось отвергнуть нулевую гипотезу по событию Tutorial: нет оснований считать доли разными\n",
      "-------------------------------\n",
      " \n",
      "MainScreenAppear\n",
      "0.9863123993558777 0.9826566811194324\n",
      "p-значение:  0.2949721933554552\n",
      "Не получилось отвергнуть нулевую гипотезу по событию MainScreenAppear: нет оснований считать доли разными\n",
      "-------------------------------\n",
      " \n",
      "OffersScreenAppear\n",
      "0.6207729468599034 0.6034686637761135\n",
      "p-значение:  0.20836205402738917\n",
      "Не получилось отвергнуть нулевую гипотезу по событию OffersScreenAppear: нет оснований считать доли разными\n",
      "-------------------------------\n",
      " \n",
      "CartScreenAppear\n",
      "0.5096618357487923 0.48482459597950334\n",
      "p-значение:  0.07842923237520116\n",
      "Не получилось отвергнуть нулевую гипотезу по событию CartScreenAppear: нет оснований считать доли разными\n",
      "-------------------------------\n",
      " \n",
      "PaymentScreenSuccessful\n",
      "0.4830917874396135 0.46551044540796216\n",
      "p-значение:  0.2122553275697796\n",
      "Не получилось отвергнуть нулевую гипотезу по событию PaymentScreenSuccessful: нет оснований считать доли разными\n",
      "-------------------------------\n",
      " \n"
     ]
    }
   ],
   "source": [
    "#посмотрим на события в 246 и 248 группах\n",
    "ab_calc(exp, [246, 248], 0.003)"
   ]
  },
  {
   "cell_type": "markdown",
   "metadata": {},
   "source": [
    "Различия между экспериментальными группами 246 и 248, совершившими все события, статистически не значимы."
   ]
  },
  {
   "cell_type": "code",
   "execution_count": 58,
   "metadata": {},
   "outputs": [
    {
     "name": "stdout",
     "output_type": "stream",
     "text": [
      "Tutorial\n",
      "0.11261440509351373 0.10997240835632636\n",
      "p-значение:  0.765323922474501\n",
      "Не получилось отвергнуть нулевую гипотезу по событию Tutorial: нет оснований считать доли разными\n",
      "-------------------------------\n",
      " \n",
      "MainScreenAppear\n",
      "0.9852765618782332 0.9826566811194324\n",
      "p-значение:  0.4587053616621515\n",
      "Не получилось отвергнуть нулевую гипотезу по событию MainScreenAppear: нет оснований считать доли разными\n",
      "-------------------------------\n",
      " \n",
      "OffersScreenAppear\n",
      "0.6048547552725826 0.6034686637761135\n",
      "p-значение:  0.9197817830592261\n",
      "Не получилось отвергнуть нулевую гипотезу по событию OffersScreenAppear: нет оснований считать доли разными\n",
      "-------------------------------\n",
      " \n",
      "CartScreenAppear\n",
      "0.4926382809391166 0.48482459597950334\n",
      "p-значение:  0.5786197879539783\n",
      "Не получилось отвергнуть нулевую гипотезу по событию CartScreenAppear: нет оснований считать доли разными\n",
      "-------------------------------\n",
      " \n",
      "PaymentScreenSuccessful\n",
      "0.46080382013529647 0.46551044540796216\n",
      "p-значение:  0.7373415053803964\n",
      "Не получилось отвергнуть нулевую гипотезу по событию PaymentScreenSuccessful: нет оснований считать доли разными\n",
      "-------------------------------\n",
      " \n"
     ]
    }
   ],
   "source": [
    "#посмотрим на события в 247 и 248 группах\n",
    "ab_calc(exp, [247, 248], 0.003)"
   ]
  },
  {
   "cell_type": "markdown",
   "metadata": {},
   "source": [
    "Различия между экспериментальными группами 247 и 248, совершившими все события, статистически не значимы."
   ]
  },
  {
   "cell_type": "code",
   "execution_count": 59,
   "metadata": {},
   "outputs": [
    {
     "name": "stdout",
     "output_type": "stream",
     "text": [
      "Tutorial\n",
      "0.11226736041624975 0.10997240835632636\n",
      "p-значение:  0.764862472531507\n",
      "Не получилось отвергнуть нулевую гипотезу по событию Tutorial: нет оснований считать доли разными\n",
      "-------------------------------\n",
      " \n",
      "MainScreenAppear\n",
      "0.9857914748849309 0.9826566811194324\n",
      "p-значение:  0.29424526837179577\n",
      "Не получилось отвергнуть нулевую гипотезу по событию MainScreenAppear: нет оснований считать доли разными\n",
      "-------------------------------\n",
      " \n",
      "OffersScreenAppear\n",
      "0.6127676605963578 0.6034686637761135\n",
      "p-значение:  0.43425549655188256\n",
      "Не получилось отвергнуть нулевую гипотезу по событию OffersScreenAppear: нет оснований считать доли разными\n",
      "-------------------------------\n",
      " \n",
      "CartScreenAppear\n",
      "0.5011006603962378 0.48482459597950334\n",
      "p-значение:  0.18175875284404386\n",
      "Не получилось отвергнуть нулевую гипотезу по событию CartScreenAppear: нет оснований считать доли разными\n",
      "-------------------------------\n",
      " \n",
      "PaymentScreenSuccessful\n",
      "0.47188312987792674 0.46551044540796216\n",
      "p-значение:  0.6004294282308704\n",
      "Не получилось отвергнуть нулевую гипотезу по событию PaymentScreenSuccessful: нет оснований считать доли разными\n",
      "-------------------------------\n",
      " \n"
     ]
    }
   ],
   "source": [
    "#посмотрим на события в объединенной контрольной группе и группе 248\n",
    "ab_calc(exp_combined, [246, 248], 0.003)"
   ]
  },
  {
   "cell_type": "markdown",
   "metadata": {},
   "source": [
    "Различия между объединенной контрольной группой (246-247) и экспериментальной группой 248, совершившими все события, статистически не значимы."
   ]
  },
  {
   "cell_type": "markdown",
   "metadata": {},
   "source": [
    "Все тесты превышают указанную поправку, соответсвенно нет оснований отвергнуть нулевую гипотезу."
   ]
  },
  {
   "cell_type": "markdown",
   "metadata": {},
   "source": [
    "<div class=\"alert alert-success\">\n",
    "<b>Комментарий ревьюера:</b> 👍\n",
    "</div>\n"
   ]
  },
  {
   "cell_type": "markdown",
   "metadata": {},
   "source": [
    "### Вывод"
   ]
  },
  {
   "cell_type": "markdown",
   "metadata": {},
   "source": [
    "С учетом полученных данных, можно сделать такой вывод:\n",
    "\n",
    "Изменение шрифта не повлияло на метрики воронки.\n",
    "Конверсии не различаются, все далеко за пределами стат значимости => шрифт можно менять или не менять, выручка от этого не изменится.\n",
    "Возможно стоит провести уточняющий повторный эксперимент."
   ]
  },
  {
   "cell_type": "markdown",
   "metadata": {},
   "source": [
    "<div class=\"alert alert-success\">\n",
    "<b>Комментарий ревьюера:</b> Спасибо за исследование и рекомендации!\n",
    "</div>"
   ]
  },
  {
   "cell_type": "code",
   "execution_count": null,
   "metadata": {},
   "outputs": [],
   "source": []
  }
 ],
 "metadata": {
  "ExecuteTimeLog": [
   {
    "duration": 1257,
    "start_time": "2021-08-22T13:59:52.428Z"
   },
   {
    "duration": 3565,
    "start_time": "2021-08-22T14:00:10.341Z"
   },
   {
    "duration": 184,
    "start_time": "2021-08-22T14:00:46.455Z"
   },
   {
    "duration": 22,
    "start_time": "2021-08-22T14:01:09.133Z"
   },
   {
    "duration": 15,
    "start_time": "2021-08-22T14:04:50.797Z"
   },
   {
    "duration": 135,
    "start_time": "2021-08-22T14:06:26.271Z"
   },
   {
    "duration": 323,
    "start_time": "2021-08-22T14:06:52.934Z"
   },
   {
    "duration": 13,
    "start_time": "2021-08-22T14:07:02.351Z"
   },
   {
    "duration": 323,
    "start_time": "2021-08-22T21:06:28.571Z"
   },
   {
    "duration": 1179,
    "start_time": "2021-08-22T21:06:33.591Z"
   },
   {
    "duration": 177,
    "start_time": "2021-08-22T21:06:35.594Z"
   },
   {
    "duration": 21,
    "start_time": "2021-08-22T21:06:36.476Z"
   },
   {
    "duration": 21,
    "start_time": "2021-08-22T21:06:40.826Z"
   },
   {
    "duration": 23,
    "start_time": "2021-08-22T21:07:31.143Z"
   },
   {
    "duration": 31,
    "start_time": "2021-08-22T21:09:51.847Z"
   },
   {
    "duration": 21,
    "start_time": "2021-08-22T21:17:03.009Z"
   },
   {
    "duration": 15,
    "start_time": "2021-08-22T21:19:11.516Z"
   },
   {
    "duration": 1354,
    "start_time": "2021-08-23T19:42:14.846Z"
   },
   {
    "duration": 290,
    "start_time": "2021-08-23T19:42:17.423Z"
   },
   {
    "duration": 24,
    "start_time": "2021-08-23T19:42:18.778Z"
   },
   {
    "duration": 20,
    "start_time": "2021-08-23T19:42:25.124Z"
   },
   {
    "duration": 38,
    "start_time": "2021-08-23T19:42:36.741Z"
   },
   {
    "duration": 21,
    "start_time": "2021-08-23T19:42:38.846Z"
   },
   {
    "duration": 20,
    "start_time": "2021-08-23T19:42:43.357Z"
   },
   {
    "duration": 43,
    "start_time": "2021-08-23T19:44:23.721Z"
   },
   {
    "duration": 9,
    "start_time": "2021-08-23T19:44:27.797Z"
   },
   {
    "duration": 12,
    "start_time": "2021-08-23T19:44:32.647Z"
   },
   {
    "duration": 19,
    "start_time": "2021-08-23T19:56:54.209Z"
   },
   {
    "duration": 198,
    "start_time": "2021-08-23T19:56:55.159Z"
   },
   {
    "duration": 19,
    "start_time": "2021-08-23T20:01:04.207Z"
   },
   {
    "duration": 31,
    "start_time": "2021-08-23T20:04:02.184Z"
   },
   {
    "duration": 108,
    "start_time": "2021-08-23T20:04:12.819Z"
   },
   {
    "duration": 46,
    "start_time": "2021-08-23T20:10:13.008Z"
   },
   {
    "duration": 205,
    "start_time": "2021-08-23T20:11:24.303Z"
   },
   {
    "duration": 134,
    "start_time": "2021-08-23T20:12:10.884Z"
   },
   {
    "duration": 989,
    "start_time": "2021-08-23T20:12:31.847Z"
   },
   {
    "duration": 91,
    "start_time": "2021-08-23T20:12:46.134Z"
   },
   {
    "duration": 177,
    "start_time": "2021-08-23T20:15:25.785Z"
   },
   {
    "duration": 126,
    "start_time": "2021-08-23T20:27:25.936Z"
   },
   {
    "duration": 49,
    "start_time": "2021-08-23T20:27:39.634Z"
   },
   {
    "duration": 25,
    "start_time": "2021-08-23T20:29:41.282Z"
   },
   {
    "duration": 25,
    "start_time": "2021-08-23T20:30:01.514Z"
   },
   {
    "duration": 318,
    "start_time": "2021-08-23T20:36:47.302Z"
   },
   {
    "duration": 131,
    "start_time": "2021-08-23T20:46:31.581Z"
   },
   {
    "duration": 440,
    "start_time": "2021-08-23T20:46:54.135Z"
   },
   {
    "duration": 397,
    "start_time": "2021-08-23T20:47:09.170Z"
   },
   {
    "duration": 389,
    "start_time": "2021-08-23T20:56:14.364Z"
   },
   {
    "duration": 380,
    "start_time": "2021-08-23T21:03:55.232Z"
   },
   {
    "duration": 1931,
    "start_time": "2021-08-24T03:32:12.163Z"
   },
   {
    "duration": 179,
    "start_time": "2021-08-24T03:32:14.097Z"
   },
   {
    "duration": 21,
    "start_time": "2021-08-24T03:32:14.278Z"
   },
   {
    "duration": 23,
    "start_time": "2021-08-24T03:32:19.893Z"
   },
   {
    "duration": 30,
    "start_time": "2021-08-24T03:32:20.794Z"
   },
   {
    "duration": 14,
    "start_time": "2021-08-24T03:32:22.374Z"
   },
   {
    "duration": 14,
    "start_time": "2021-08-24T03:32:23.872Z"
   },
   {
    "duration": 7,
    "start_time": "2021-08-24T03:32:25.540Z"
   },
   {
    "duration": 10,
    "start_time": "2021-08-24T03:32:26.414Z"
   },
   {
    "duration": 86,
    "start_time": "2021-08-24T03:32:28.167Z"
   },
   {
    "duration": 95,
    "start_time": "2021-08-24T03:32:30.931Z"
   },
   {
    "duration": 20,
    "start_time": "2021-08-24T03:32:31.788Z"
   },
   {
    "duration": 670,
    "start_time": "2021-08-24T03:32:32.663Z"
   },
   {
    "duration": 13,
    "start_time": "2021-08-24T03:32:35.171Z"
   },
   {
    "duration": 105,
    "start_time": "2021-08-24T03:32:36.029Z"
   },
   {
    "duration": 31,
    "start_time": "2021-08-24T03:32:41.490Z"
   },
   {
    "duration": 12,
    "start_time": "2021-08-24T03:32:45.152Z"
   },
   {
    "duration": 18,
    "start_time": "2021-08-24T03:32:50.983Z"
   },
   {
    "duration": 25,
    "start_time": "2021-08-24T03:32:56.593Z"
   },
   {
    "duration": 27,
    "start_time": "2021-08-24T03:32:58.257Z"
   },
   {
    "duration": 415,
    "start_time": "2021-08-24T03:33:20.331Z"
   },
   {
    "duration": 1002,
    "start_time": "2021-08-24T03:36:32.390Z"
   },
   {
    "duration": 1052,
    "start_time": "2021-08-24T03:36:43.902Z"
   },
   {
    "duration": 959,
    "start_time": "2021-08-24T03:37:27.976Z"
   },
   {
    "duration": 961,
    "start_time": "2021-08-24T03:38:41.702Z"
   },
   {
    "duration": 913,
    "start_time": "2021-08-24T03:40:26.034Z"
   },
   {
    "duration": 429,
    "start_time": "2021-08-24T03:42:07.381Z"
   },
   {
    "duration": 1064,
    "start_time": "2021-08-24T03:42:33.008Z"
   },
   {
    "duration": 932,
    "start_time": "2021-08-24T03:42:50.850Z"
   },
   {
    "duration": 899,
    "start_time": "2021-08-24T03:43:11.761Z"
   },
   {
    "duration": 141,
    "start_time": "2021-08-24T03:46:34.082Z"
   },
   {
    "duration": 1132,
    "start_time": "2021-08-24T03:47:15.419Z"
   },
   {
    "duration": 1200,
    "start_time": "2021-08-24T03:48:06.486Z"
   },
   {
    "duration": 2172,
    "start_time": "2021-08-24T03:48:45.488Z"
   },
   {
    "duration": 1708,
    "start_time": "2021-08-24T03:49:09.180Z"
   },
   {
    "duration": 435,
    "start_time": "2021-08-24T03:49:45.156Z"
   },
   {
    "duration": 487,
    "start_time": "2021-08-24T03:50:17.448Z"
   },
   {
    "duration": 49,
    "start_time": "2021-08-24T03:52:41.107Z"
   },
   {
    "duration": 383,
    "start_time": "2021-08-24T04:00:03.723Z"
   },
   {
    "duration": 39,
    "start_time": "2021-08-24T04:12:45.447Z"
   },
   {
    "duration": 46,
    "start_time": "2021-08-24T04:13:56.165Z"
   },
   {
    "duration": 31,
    "start_time": "2021-08-24T04:15:31.443Z"
   },
   {
    "duration": 8,
    "start_time": "2021-08-24T04:17:00.017Z"
   },
   {
    "duration": 10,
    "start_time": "2021-08-24T04:18:45.111Z"
   },
   {
    "duration": 382,
    "start_time": "2021-08-24T04:19:54.668Z"
   },
   {
    "duration": 59,
    "start_time": "2021-08-24T04:20:03.977Z"
   },
   {
    "duration": 464,
    "start_time": "2021-08-24T04:24:00.270Z"
   },
   {
    "duration": 571,
    "start_time": "2021-08-24T04:24:09.270Z"
   },
   {
    "duration": 64,
    "start_time": "2021-08-24T04:25:30.058Z"
   },
   {
    "duration": 39,
    "start_time": "2021-08-24T04:31:16.939Z"
   },
   {
    "duration": 172,
    "start_time": "2021-08-24T04:31:32.656Z"
   },
   {
    "duration": 477,
    "start_time": "2021-08-24T05:33:17.888Z"
   },
   {
    "duration": 22,
    "start_time": "2021-08-24T05:33:32.521Z"
   },
   {
    "duration": 19,
    "start_time": "2021-08-24T05:35:26.761Z"
   },
   {
    "duration": 21,
    "start_time": "2021-08-24T05:35:33.279Z"
   },
   {
    "duration": 26,
    "start_time": "2021-08-24T05:36:34.540Z"
   },
   {
    "duration": 31,
    "start_time": "2021-08-24T05:37:00.322Z"
   },
   {
    "duration": 60,
    "start_time": "2021-08-24T05:38:50.765Z"
   },
   {
    "duration": 14,
    "start_time": "2021-08-24T05:38:57.719Z"
   },
   {
    "duration": 21,
    "start_time": "2021-08-24T05:39:31.793Z"
   },
   {
    "duration": 24,
    "start_time": "2021-08-24T05:39:37.720Z"
   },
   {
    "duration": 31,
    "start_time": "2021-08-24T05:39:39.079Z"
   },
   {
    "duration": 68,
    "start_time": "2021-08-24T05:45:13.071Z"
   },
   {
    "duration": 302,
    "start_time": "2021-08-24T05:48:01.755Z"
   },
   {
    "duration": 10,
    "start_time": "2021-08-24T05:49:36.040Z"
   },
   {
    "duration": 36,
    "start_time": "2021-08-24T05:52:20.210Z"
   },
   {
    "duration": 7,
    "start_time": "2021-08-24T05:54:39.202Z"
   },
   {
    "duration": 291,
    "start_time": "2021-08-24T05:55:21.603Z"
   },
   {
    "duration": 135,
    "start_time": "2021-08-24T06:03:35.652Z"
   },
   {
    "duration": 9,
    "start_time": "2021-08-24T06:59:36.949Z"
   },
   {
    "duration": 213,
    "start_time": "2021-08-24T07:01:14.688Z"
   },
   {
    "duration": 9,
    "start_time": "2021-08-24T07:02:14.485Z"
   },
   {
    "duration": 193,
    "start_time": "2021-08-24T07:02:20.235Z"
   },
   {
    "duration": 11,
    "start_time": "2021-08-24T07:04:41.455Z"
   },
   {
    "duration": 194,
    "start_time": "2021-08-24T07:04:42.064Z"
   },
   {
    "duration": 205,
    "start_time": "2021-08-24T07:17:21.696Z"
   },
   {
    "duration": 188,
    "start_time": "2021-08-24T07:18:44.775Z"
   },
   {
    "duration": 122,
    "start_time": "2021-08-24T07:19:16.126Z"
   },
   {
    "duration": 20,
    "start_time": "2021-08-24T07:24:53.716Z"
   },
   {
    "duration": 765,
    "start_time": "2021-08-24T07:35:12.136Z"
   },
   {
    "duration": 48,
    "start_time": "2021-08-24T07:35:34.999Z"
   },
   {
    "duration": 20,
    "start_time": "2021-08-24T07:36:01.366Z"
   },
   {
    "duration": 206,
    "start_time": "2021-08-24T07:36:34.966Z"
   },
   {
    "duration": 200,
    "start_time": "2021-08-24T07:41:32.820Z"
   },
   {
    "duration": 197,
    "start_time": "2021-08-24T07:41:52.685Z"
   },
   {
    "duration": 191,
    "start_time": "2021-08-24T07:42:05.417Z"
   },
   {
    "duration": 7695,
    "start_time": "2021-08-24T07:42:24.866Z"
   },
   {
    "duration": 222,
    "start_time": "2021-08-24T07:42:36.809Z"
   },
   {
    "duration": 203,
    "start_time": "2021-08-24T07:42:57.641Z"
   },
   {
    "duration": 9,
    "start_time": "2021-08-24T07:43:19.413Z"
   },
   {
    "duration": 195,
    "start_time": "2021-08-24T07:43:29.035Z"
   },
   {
    "duration": 201,
    "start_time": "2021-08-24T07:43:38.458Z"
   },
   {
    "duration": 203,
    "start_time": "2021-08-24T07:43:46.462Z"
   },
   {
    "duration": 233,
    "start_time": "2021-08-24T07:43:54.585Z"
   },
   {
    "duration": 210,
    "start_time": "2021-08-24T07:44:04.794Z"
   },
   {
    "duration": 209,
    "start_time": "2021-08-24T07:44:51.680Z"
   },
   {
    "duration": 201,
    "start_time": "2021-08-24T07:44:55.878Z"
   },
   {
    "duration": 203,
    "start_time": "2021-08-24T07:45:41.341Z"
   },
   {
    "duration": 2108,
    "start_time": "2021-08-24T17:03:06.907Z"
   },
   {
    "duration": 182,
    "start_time": "2021-08-24T17:03:09.018Z"
   },
   {
    "duration": 22,
    "start_time": "2021-08-24T17:03:09.203Z"
   },
   {
    "duration": 23,
    "start_time": "2021-08-24T17:03:13.571Z"
   },
   {
    "duration": 32,
    "start_time": "2021-08-24T17:03:14.281Z"
   },
   {
    "duration": 15,
    "start_time": "2021-08-24T17:03:15.803Z"
   },
   {
    "duration": 17,
    "start_time": "2021-08-24T17:03:17.186Z"
   },
   {
    "duration": 9,
    "start_time": "2021-08-24T17:03:18.611Z"
   },
   {
    "duration": 12,
    "start_time": "2021-08-24T17:03:19.583Z"
   },
   {
    "duration": 95,
    "start_time": "2021-08-24T17:03:20.746Z"
   },
   {
    "duration": 102,
    "start_time": "2021-08-24T17:03:22.103Z"
   },
   {
    "duration": 22,
    "start_time": "2021-08-24T17:03:22.831Z"
   },
   {
    "duration": 756,
    "start_time": "2021-08-24T17:03:23.526Z"
   },
   {
    "duration": 13,
    "start_time": "2021-08-24T17:03:25.391Z"
   },
   {
    "duration": 108,
    "start_time": "2021-08-24T17:03:26.098Z"
   },
   {
    "duration": 33,
    "start_time": "2021-08-24T17:03:28.133Z"
   },
   {
    "duration": 8,
    "start_time": "2021-08-24T17:03:30.142Z"
   },
   {
    "duration": 18,
    "start_time": "2021-08-24T17:03:32.441Z"
   },
   {
    "duration": 26,
    "start_time": "2021-08-24T17:03:34.553Z"
   },
   {
    "duration": 29,
    "start_time": "2021-08-24T17:03:35.951Z"
   },
   {
    "duration": 395,
    "start_time": "2021-08-24T17:03:37.352Z"
   },
   {
    "duration": 49,
    "start_time": "2021-08-24T17:03:38.801Z"
   },
   {
    "duration": 89,
    "start_time": "2021-08-24T17:03:40.641Z"
   },
   {
    "duration": 49,
    "start_time": "2021-08-24T17:03:42.138Z"
   },
   {
    "duration": 16,
    "start_time": "2021-08-24T17:03:43.732Z"
   },
   {
    "duration": 494,
    "start_time": "2021-08-24T17:03:44.501Z"
   },
   {
    "duration": 11,
    "start_time": "2021-08-24T17:03:46.204Z"
   },
   {
    "duration": 41,
    "start_time": "2021-08-24T17:03:49.169Z"
   },
   {
    "duration": 72,
    "start_time": "2021-08-24T17:03:50.622Z"
   },
   {
    "duration": 21,
    "start_time": "2021-08-24T17:03:54.811Z"
   },
   {
    "duration": 28,
    "start_time": "2021-08-24T17:03:55.521Z"
   },
   {
    "duration": 31,
    "start_time": "2021-08-24T17:03:56.261Z"
   },
   {
    "duration": 70,
    "start_time": "2021-08-24T17:03:57.734Z"
   },
   {
    "duration": 295,
    "start_time": "2021-08-24T17:03:59.929Z"
   },
   {
    "duration": 10,
    "start_time": "2021-08-24T17:04:04.113Z"
   },
   {
    "duration": 40,
    "start_time": "2021-08-24T17:04:07.261Z"
   },
   {
    "duration": 5,
    "start_time": "2021-08-24T17:04:10.521Z"
   },
   {
    "duration": 297,
    "start_time": "2021-08-24T17:04:14.289Z"
   },
   {
    "duration": 10,
    "start_time": "2021-08-24T17:04:17.879Z"
   },
   {
    "duration": 9,
    "start_time": "2021-08-24T17:04:25.981Z"
   },
   {
    "duration": 224,
    "start_time": "2021-08-24T17:04:29.472Z"
   },
   {
    "duration": 9,
    "start_time": "2021-08-24T17:05:46.582Z"
   },
   {
    "duration": 279,
    "start_time": "2021-08-24T17:05:48.791Z"
   },
   {
    "duration": 231,
    "start_time": "2021-08-24T17:05:56.511Z"
   },
   {
    "duration": 240,
    "start_time": "2021-08-24T17:06:01.091Z"
   },
   {
    "duration": 19,
    "start_time": "2021-08-24T17:06:05.986Z"
   },
   {
    "duration": 241,
    "start_time": "2021-08-24T17:06:08.551Z"
   },
   {
    "duration": 218,
    "start_time": "2021-08-24T17:06:19.241Z"
   },
   {
    "duration": 242,
    "start_time": "2021-08-24T17:06:24.022Z"
   },
   {
    "duration": 237,
    "start_time": "2021-08-24T17:06:25.431Z"
   },
   {
    "duration": 118,
    "start_time": "2021-08-24T17:29:56.146Z"
   },
   {
    "duration": 1940,
    "start_time": "2021-08-25T00:52:11.846Z"
   },
   {
    "duration": 180,
    "start_time": "2021-08-25T00:52:20.303Z"
   },
   {
    "duration": 32,
    "start_time": "2021-08-25T00:52:24.224Z"
   },
   {
    "duration": 23,
    "start_time": "2021-08-25T00:52:36.865Z"
   },
   {
    "duration": 30,
    "start_time": "2021-08-25T00:52:46.528Z"
   },
   {
    "duration": 16,
    "start_time": "2021-08-25T00:52:56.164Z"
   },
   {
    "duration": 15,
    "start_time": "2021-08-25T00:52:57.740Z"
   },
   {
    "duration": 6,
    "start_time": "2021-08-25T00:53:13.591Z"
   },
   {
    "duration": 11,
    "start_time": "2021-08-25T00:53:15.248Z"
   },
   {
    "duration": 86,
    "start_time": "2021-08-25T00:53:16.412Z"
   },
   {
    "duration": 93,
    "start_time": "2021-08-25T00:53:17.835Z"
   },
   {
    "duration": 20,
    "start_time": "2021-08-25T00:53:18.518Z"
   },
   {
    "duration": 709,
    "start_time": "2021-08-25T00:53:19.355Z"
   },
   {
    "duration": 14,
    "start_time": "2021-08-25T00:53:21.983Z"
   },
   {
    "duration": 109,
    "start_time": "2021-08-25T00:53:22.800Z"
   },
   {
    "duration": 32,
    "start_time": "2021-08-25T00:53:25.449Z"
   },
   {
    "duration": 9,
    "start_time": "2021-08-25T00:54:25.452Z"
   },
   {
    "duration": 17,
    "start_time": "2021-08-25T00:54:30.054Z"
   },
   {
    "duration": 26,
    "start_time": "2021-08-25T00:54:34.331Z"
   },
   {
    "duration": 25,
    "start_time": "2021-08-25T00:54:36.081Z"
   },
   {
    "duration": 386,
    "start_time": "2021-08-25T00:54:41.071Z"
   },
   {
    "duration": 49,
    "start_time": "2021-08-25T00:54:43.459Z"
   },
   {
    "duration": 72,
    "start_time": "2021-08-25T00:54:46.226Z"
   },
   {
    "duration": 33,
    "start_time": "2021-08-25T00:54:54.784Z"
   },
   {
    "duration": 7,
    "start_time": "2021-08-25T00:54:56.820Z"
   },
   {
    "duration": 168,
    "start_time": "2021-08-25T00:55:00.713Z"
   },
   {
    "duration": 12,
    "start_time": "2021-08-25T00:55:03.716Z"
   },
   {
    "duration": 42,
    "start_time": "2021-08-25T00:55:04.555Z"
   },
   {
    "duration": 59,
    "start_time": "2021-08-25T00:55:07.455Z"
   },
   {
    "duration": 21,
    "start_time": "2021-08-25T00:55:09.834Z"
   },
   {
    "duration": 27,
    "start_time": "2021-08-25T00:55:10.327Z"
   },
   {
    "duration": 29,
    "start_time": "2021-08-25T00:55:11.046Z"
   },
   {
    "duration": 68,
    "start_time": "2021-08-25T00:55:13.096Z"
   },
   {
    "duration": 287,
    "start_time": "2021-08-25T00:55:18.204Z"
   },
   {
    "duration": 10,
    "start_time": "2021-08-25T00:55:21.400Z"
   },
   {
    "duration": 37,
    "start_time": "2021-08-25T00:55:25.017Z"
   },
   {
    "duration": 5,
    "start_time": "2021-08-25T00:55:29.102Z"
   },
   {
    "duration": 335,
    "start_time": "2021-08-25T00:55:39.091Z"
   },
   {
    "duration": 10,
    "start_time": "2021-08-25T00:55:43.931Z"
   },
   {
    "duration": 214,
    "start_time": "2021-08-25T00:55:54.421Z"
   },
   {
    "duration": 211,
    "start_time": "2021-08-25T01:02:25.591Z"
   },
   {
    "duration": 210,
    "start_time": "2021-08-25T01:07:38.733Z"
   },
   {
    "duration": 203,
    "start_time": "2021-08-25T01:07:46.328Z"
   },
   {
    "duration": 18,
    "start_time": "2021-08-25T01:07:56.425Z"
   },
   {
    "duration": 224,
    "start_time": "2021-08-25T01:08:00.339Z"
   },
   {
    "duration": 239,
    "start_time": "2021-08-25T01:11:55.227Z"
   },
   {
    "duration": 293,
    "start_time": "2021-08-25T01:12:44.397Z"
   },
   {
    "duration": 232,
    "start_time": "2021-08-25T01:13:24.431Z"
   },
   {
    "duration": 63,
    "start_time": "2021-08-25T02:01:40.165Z"
   },
   {
    "duration": 10802,
    "start_time": "2021-08-25T02:06:40.986Z"
   },
   {
    "duration": 11490,
    "start_time": "2021-08-25T02:09:58.177Z"
   },
   {
    "duration": 11629,
    "start_time": "2021-08-25T02:11:05.567Z"
   },
   {
    "duration": 7,
    "start_time": "2021-08-25T02:11:28.425Z"
   },
   {
    "duration": 59,
    "start_time": "2021-08-25T02:12:56.893Z"
   },
   {
    "duration": 6,
    "start_time": "2021-08-25T02:12:57.933Z"
   },
   {
    "duration": 64,
    "start_time": "2021-08-25T02:13:26.114Z"
   },
   {
    "duration": 6,
    "start_time": "2021-08-25T02:13:52.925Z"
   },
   {
    "duration": 412,
    "start_time": "2021-08-25T02:15:02.497Z"
   },
   {
    "duration": 440,
    "start_time": "2021-08-25T02:15:39.507Z"
   },
   {
    "duration": 65,
    "start_time": "2021-08-25T02:16:06.104Z"
   },
   {
    "duration": 10,
    "start_time": "2021-08-25T02:16:09.537Z"
   },
   {
    "duration": 60,
    "start_time": "2021-08-25T02:16:22.698Z"
   },
   {
    "duration": 9,
    "start_time": "2021-08-25T02:16:27.402Z"
   },
   {
    "duration": 12,
    "start_time": "2021-08-25T02:16:31.662Z"
   },
   {
    "duration": 10713,
    "start_time": "2021-08-25T02:16:42.455Z"
   },
   {
    "duration": 10432,
    "start_time": "2021-08-25T02:17:01.043Z"
   },
   {
    "duration": 10810,
    "start_time": "2021-08-25T02:18:27.822Z"
   },
   {
    "duration": 372,
    "start_time": "2021-08-25T02:18:56.083Z"
   },
   {
    "duration": 59,
    "start_time": "2021-08-25T02:21:14.265Z"
   },
   {
    "duration": 8,
    "start_time": "2021-08-25T02:21:15.142Z"
   },
   {
    "duration": 9,
    "start_time": "2021-08-25T02:21:19.023Z"
   },
   {
    "duration": 6,
    "start_time": "2021-08-25T02:21:23.534Z"
   },
   {
    "duration": 12,
    "start_time": "2021-08-25T02:21:38.591Z"
   },
   {
    "duration": 11,
    "start_time": "2021-08-25T02:22:06.778Z"
   },
   {
    "duration": 9,
    "start_time": "2021-08-25T02:32:28.226Z"
   },
   {
    "duration": 17,
    "start_time": "2021-08-25T03:00:27.079Z"
   },
   {
    "duration": 15,
    "start_time": "2021-08-25T03:00:36.071Z"
   },
   {
    "duration": 8,
    "start_time": "2021-08-25T03:00:47.208Z"
   },
   {
    "duration": 20,
    "start_time": "2021-08-25T03:00:55.219Z"
   },
   {
    "duration": 27,
    "start_time": "2021-08-25T03:00:56.008Z"
   },
   {
    "duration": 30,
    "start_time": "2021-08-25T03:00:56.952Z"
   },
   {
    "duration": 69,
    "start_time": "2021-08-25T03:00:58.432Z"
   },
   {
    "duration": 13,
    "start_time": "2021-08-25T03:01:16.956Z"
   },
   {
    "duration": 13,
    "start_time": "2021-08-25T03:01:43.479Z"
   },
   {
    "duration": 13,
    "start_time": "2021-08-25T03:03:05.443Z"
   },
   {
    "duration": 41,
    "start_time": "2021-08-25T03:03:12.431Z"
   },
   {
    "duration": 27,
    "start_time": "2021-08-25T03:03:13.794Z"
   },
   {
    "duration": 31,
    "start_time": "2021-08-25T03:03:14.988Z"
   },
   {
    "duration": 77,
    "start_time": "2021-08-25T03:03:16.943Z"
   },
   {
    "duration": 13,
    "start_time": "2021-08-25T03:06:07.449Z"
   },
   {
    "duration": 1395,
    "start_time": "2021-08-25T05:41:40.637Z"
   },
   {
    "duration": 121,
    "start_time": "2021-08-25T05:41:42.034Z"
   },
   {
    "duration": 15,
    "start_time": "2021-08-25T05:41:43.206Z"
   },
   {
    "duration": 15,
    "start_time": "2021-08-25T05:41:48.416Z"
   },
   {
    "duration": 21,
    "start_time": "2021-08-25T05:41:58.034Z"
   },
   {
    "duration": 10,
    "start_time": "2021-08-25T05:42:00.344Z"
   },
   {
    "duration": 11,
    "start_time": "2021-08-25T05:42:02.309Z"
   },
   {
    "duration": 6,
    "start_time": "2021-08-25T05:42:04.096Z"
   },
   {
    "duration": 7,
    "start_time": "2021-08-25T05:42:05.138Z"
   },
   {
    "duration": 56,
    "start_time": "2021-08-25T05:42:09.963Z"
   },
   {
    "duration": 58,
    "start_time": "2021-08-25T05:42:11.570Z"
   },
   {
    "duration": 14,
    "start_time": "2021-08-25T05:42:12.171Z"
   },
   {
    "duration": 494,
    "start_time": "2021-08-25T05:42:12.877Z"
   },
   {
    "duration": 11,
    "start_time": "2021-08-25T05:42:15.732Z"
   },
   {
    "duration": 68,
    "start_time": "2021-08-25T05:42:16.420Z"
   },
   {
    "duration": 22,
    "start_time": "2021-08-25T05:42:58.425Z"
   },
   {
    "duration": 6,
    "start_time": "2021-08-25T05:43:02.021Z"
   },
   {
    "duration": 12,
    "start_time": "2021-08-25T05:43:05.879Z"
   },
   {
    "duration": 19,
    "start_time": "2021-08-25T05:43:09.339Z"
   },
   {
    "duration": 19,
    "start_time": "2021-08-25T05:43:11.702Z"
   },
   {
    "duration": 217,
    "start_time": "2021-08-25T05:43:16.645Z"
   },
   {
    "duration": 31,
    "start_time": "2021-08-25T05:43:26.360Z"
   },
   {
    "duration": 50,
    "start_time": "2021-08-25T05:43:30.546Z"
   },
   {
    "duration": 24,
    "start_time": "2021-08-25T05:43:32.244Z"
   },
   {
    "duration": 6,
    "start_time": "2021-08-25T05:43:39.398Z"
   },
   {
    "duration": 8,
    "start_time": "2021-08-25T05:43:46.852Z"
   },
   {
    "duration": 25,
    "start_time": "2021-08-25T05:43:52.040Z"
   },
   {
    "duration": 43,
    "start_time": "2021-08-25T05:44:08.621Z"
   },
   {
    "duration": 41,
    "start_time": "2021-08-25T05:44:27.044Z"
   },
   {
    "duration": 4,
    "start_time": "2021-08-25T05:44:28.012Z"
   },
   {
    "duration": 5,
    "start_time": "2021-08-25T05:44:35.266Z"
   },
   {
    "duration": 8,
    "start_time": "2021-08-25T05:44:37.273Z"
   },
   {
    "duration": 14,
    "start_time": "2021-08-25T05:44:59.321Z"
   },
   {
    "duration": 19,
    "start_time": "2021-08-25T05:45:25.581Z"
   },
   {
    "duration": 22,
    "start_time": "2021-08-25T05:45:26.608Z"
   },
   {
    "duration": 53,
    "start_time": "2021-08-25T05:45:30.528Z"
   },
   {
    "duration": 478,
    "start_time": "2021-08-25T05:46:55.072Z"
   },
   {
    "duration": 10,
    "start_time": "2021-08-25T05:47:07.304Z"
   },
   {
    "duration": 9,
    "start_time": "2021-08-25T05:47:18.167Z"
   },
   {
    "duration": 9,
    "start_time": "2021-08-25T05:47:31.073Z"
   },
   {
    "duration": 9,
    "start_time": "2021-08-25T05:47:36.758Z"
   },
   {
    "duration": 14,
    "start_time": "2021-08-25T05:47:41.540Z"
   },
   {
    "duration": 17,
    "start_time": "2021-08-25T05:47:42.618Z"
   },
   {
    "duration": 21,
    "start_time": "2021-08-25T05:47:43.678Z"
   },
   {
    "duration": 49,
    "start_time": "2021-08-25T05:48:09.124Z"
   },
   {
    "duration": 9,
    "start_time": "2021-08-25T05:48:37.019Z"
   },
   {
    "duration": 9,
    "start_time": "2021-08-25T05:48:47.367Z"
   },
   {
    "duration": 9,
    "start_time": "2021-08-25T05:49:06.076Z"
   },
   {
    "duration": 9,
    "start_time": "2021-08-25T05:49:09.884Z"
   },
   {
    "duration": 19,
    "start_time": "2021-08-25T05:49:17.060Z"
   },
   {
    "duration": 21,
    "start_time": "2021-08-25T05:49:17.972Z"
   },
   {
    "duration": 50,
    "start_time": "2021-08-25T05:49:19.941Z"
   },
   {
    "duration": 6,
    "start_time": "2021-08-25T05:49:52.810Z"
   },
   {
    "duration": 10,
    "start_time": "2021-08-25T05:51:48.804Z"
   },
   {
    "duration": 9,
    "start_time": "2021-08-25T05:52:09.893Z"
   },
   {
    "duration": 8,
    "start_time": "2021-08-25T05:52:17.248Z"
   },
   {
    "duration": 19,
    "start_time": "2021-08-25T05:52:22.343Z"
   },
   {
    "duration": 21,
    "start_time": "2021-08-25T05:52:23.245Z"
   },
   {
    "duration": 64,
    "start_time": "2021-08-25T05:52:34.599Z"
   },
   {
    "duration": 6,
    "start_time": "2021-08-25T05:55:26.461Z"
   },
   {
    "duration": 13,
    "start_time": "2021-08-25T05:55:39.054Z"
   },
   {
    "duration": 18,
    "start_time": "2021-08-25T05:55:40.672Z"
   },
   {
    "duration": 22,
    "start_time": "2021-08-25T05:55:42.235Z"
   },
   {
    "duration": 50,
    "start_time": "2021-08-25T05:55:53.423Z"
   },
   {
    "duration": 8,
    "start_time": "2021-08-25T06:01:17.137Z"
   },
   {
    "duration": 12,
    "start_time": "2021-08-25T06:02:13.313Z"
   },
   {
    "duration": 176,
    "start_time": "2021-08-25T06:05:02.418Z"
   },
   {
    "duration": 7,
    "start_time": "2021-08-25T06:05:13.078Z"
   },
   {
    "duration": 33,
    "start_time": "2021-08-25T06:05:42.567Z"
   },
   {
    "duration": 5,
    "start_time": "2021-08-25T06:07:04.292Z"
   },
   {
    "duration": 226,
    "start_time": "2021-08-25T06:07:44.853Z"
   },
   {
    "duration": 108,
    "start_time": "2021-08-25T06:08:10.034Z"
   },
   {
    "duration": 5,
    "start_time": "2021-08-25T06:08:41.547Z"
   },
   {
    "duration": 143,
    "start_time": "2021-08-25T06:08:43.028Z"
   },
   {
    "duration": 149,
    "start_time": "2021-08-25T06:09:25.526Z"
   },
   {
    "duration": 157,
    "start_time": "2021-08-25T06:09:44.687Z"
   },
   {
    "duration": 19,
    "start_time": "2021-08-25T06:10:02.388Z"
   },
   {
    "duration": 19,
    "start_time": "2021-08-25T06:10:22.013Z"
   },
   {
    "duration": 157,
    "start_time": "2021-08-25T06:10:23.464Z"
   },
   {
    "duration": 145,
    "start_time": "2021-08-25T06:12:17.472Z"
   },
   {
    "duration": 142,
    "start_time": "2021-08-25T06:12:21.901Z"
   },
   {
    "duration": 150,
    "start_time": "2021-08-25T06:12:27.403Z"
   },
   {
    "duration": 1454,
    "start_time": "2021-08-25T10:33:59.107Z"
   },
   {
    "duration": 131,
    "start_time": "2021-08-25T10:34:00.562Z"
   },
   {
    "duration": 18,
    "start_time": "2021-08-25T10:34:00.696Z"
   },
   {
    "duration": 30,
    "start_time": "2021-08-25T10:34:00.716Z"
   },
   {
    "duration": 25,
    "start_time": "2021-08-25T10:34:00.748Z"
   },
   {
    "duration": 23,
    "start_time": "2021-08-25T10:34:00.775Z"
   },
   {
    "duration": 13,
    "start_time": "2021-08-25T10:34:00.801Z"
   },
   {
    "duration": 29,
    "start_time": "2021-08-25T10:34:00.817Z"
   },
   {
    "duration": 16,
    "start_time": "2021-08-25T10:34:00.848Z"
   },
   {
    "duration": 76,
    "start_time": "2021-08-25T10:34:00.866Z"
   },
   {
    "duration": 62,
    "start_time": "2021-08-25T10:34:00.944Z"
   },
   {
    "duration": 34,
    "start_time": "2021-08-25T10:34:01.008Z"
   },
   {
    "duration": 192670,
    "start_time": "2021-08-25T10:34:01.044Z"
   },
   {
    "duration": 10,
    "start_time": "2021-08-25T10:37:13.716Z"
   },
   {
    "duration": 75,
    "start_time": "2021-08-25T10:37:13.727Z"
   },
   {
    "duration": 24,
    "start_time": "2021-08-25T10:37:13.804Z"
   },
   {
    "duration": 17,
    "start_time": "2021-08-25T10:37:13.830Z"
   },
   {
    "duration": 20,
    "start_time": "2021-08-25T10:37:13.849Z"
   },
   {
    "duration": 23,
    "start_time": "2021-08-25T10:37:13.871Z"
   },
   {
    "duration": 23,
    "start_time": "2021-08-25T10:37:13.896Z"
   },
   {
    "duration": 282,
    "start_time": "2021-08-25T10:37:13.920Z"
   },
   {
    "duration": 40,
    "start_time": "2021-08-25T10:37:14.203Z"
   },
   {
    "duration": 80,
    "start_time": "2021-08-25T10:37:14.248Z"
   },
   {
    "duration": 25,
    "start_time": "2021-08-25T10:37:14.330Z"
   },
   {
    "duration": 7,
    "start_time": "2021-08-25T10:37:14.357Z"
   },
   {
    "duration": 8,
    "start_time": "2021-08-25T10:37:14.366Z"
   },
   {
    "duration": 28,
    "start_time": "2021-08-25T10:37:14.376Z"
   },
   {
    "duration": 68,
    "start_time": "2021-08-25T10:37:14.406Z"
   },
   {
    "duration": 42,
    "start_time": "2021-08-25T10:37:14.476Z"
   },
   {
    "duration": 3,
    "start_time": "2021-08-25T10:37:14.520Z"
   },
   {
    "duration": 3,
    "start_time": "2021-08-25T10:37:14.541Z"
   },
   {
    "duration": 9,
    "start_time": "2021-08-25T10:37:14.546Z"
   },
   {
    "duration": 16,
    "start_time": "2021-08-25T10:37:14.557Z"
   },
   {
    "duration": 17,
    "start_time": "2021-08-25T10:37:14.574Z"
   },
   {
    "duration": 23,
    "start_time": "2021-08-25T10:37:14.592Z"
   },
   {
    "duration": 47,
    "start_time": "2021-08-25T10:37:14.641Z"
   },
   {
    "duration": 6,
    "start_time": "2021-08-25T10:37:14.690Z"
   },
   {
    "duration": 9,
    "start_time": "2021-08-25T10:37:14.698Z"
   },
   {
    "duration": 185,
    "start_time": "2021-08-25T10:37:14.709Z"
   },
   {
    "duration": 6,
    "start_time": "2021-08-25T10:37:14.896Z"
   },
   {
    "duration": 43,
    "start_time": "2021-08-25T10:37:14.903Z"
   },
   {
    "duration": 4,
    "start_time": "2021-08-25T10:37:14.947Z"
   },
   {
    "duration": 205,
    "start_time": "2021-08-25T10:37:14.952Z"
   },
   {
    "duration": 67,
    "start_time": "2021-08-25T10:37:15.159Z"
   },
   {
    "duration": 157,
    "start_time": "2021-08-25T10:37:15.227Z"
   },
   {
    "duration": 138,
    "start_time": "2021-08-25T10:37:15.386Z"
   },
   {
    "duration": 150,
    "start_time": "2021-08-25T10:37:15.526Z"
   },
   {
    "duration": 12,
    "start_time": "2021-08-25T10:37:15.678Z"
   },
   {
    "duration": 165,
    "start_time": "2021-08-25T10:37:15.692Z"
   },
   {
    "duration": 141,
    "start_time": "2021-08-25T10:37:15.859Z"
   },
   {
    "duration": 148,
    "start_time": "2021-08-25T10:37:16.002Z"
   },
   {
    "duration": 152,
    "start_time": "2021-08-25T10:37:16.152Z"
   },
   {
    "duration": 5,
    "start_time": "2021-08-25T10:45:30.579Z"
   },
   {
    "duration": 2,
    "start_time": "2021-08-25T10:57:52.792Z"
   },
   {
    "duration": 144,
    "start_time": "2021-08-25T10:57:56.490Z"
   },
   {
    "duration": 117,
    "start_time": "2021-08-26T23:39:55.706Z"
   },
   {
    "duration": 1988,
    "start_time": "2021-08-26T23:41:35.085Z"
   },
   {
    "duration": 183,
    "start_time": "2021-08-26T23:41:39.589Z"
   },
   {
    "duration": 22,
    "start_time": "2021-08-26T23:41:40.653Z"
   },
   {
    "duration": 23,
    "start_time": "2021-08-26T23:41:45.489Z"
   },
   {
    "duration": 32,
    "start_time": "2021-08-26T23:41:46.203Z"
   },
   {
    "duration": 17,
    "start_time": "2021-08-26T23:41:47.259Z"
   },
   {
    "duration": 14,
    "start_time": "2021-08-26T23:41:48.304Z"
   },
   {
    "duration": 7,
    "start_time": "2021-08-26T23:41:49.393Z"
   },
   {
    "duration": 11,
    "start_time": "2021-08-26T23:41:50.014Z"
   },
   {
    "duration": 88,
    "start_time": "2021-08-26T23:41:51.368Z"
   },
   {
    "duration": 101,
    "start_time": "2021-08-26T23:41:54.699Z"
   },
   {
    "duration": 20,
    "start_time": "2021-08-26T23:41:55.611Z"
   },
   {
    "duration": 678,
    "start_time": "2021-08-26T23:41:56.469Z"
   },
   {
    "duration": 14,
    "start_time": "2021-08-26T23:41:59.331Z"
   },
   {
    "duration": 110,
    "start_time": "2021-08-26T23:42:00.559Z"
   },
   {
    "duration": 32,
    "start_time": "2021-08-26T23:42:03.679Z"
   },
   {
    "duration": 11,
    "start_time": "2021-08-26T23:42:07.544Z"
   },
   {
    "duration": 20,
    "start_time": "2021-08-26T23:42:19.879Z"
   },
   {
    "duration": 27,
    "start_time": "2021-08-26T23:42:27.585Z"
   },
   {
    "duration": 27,
    "start_time": "2021-08-26T23:42:29.051Z"
   },
   {
    "duration": 407,
    "start_time": "2021-08-26T23:42:52.869Z"
   },
   {
    "duration": 49,
    "start_time": "2021-08-26T23:44:08.159Z"
   },
   {
    "duration": 65,
    "start_time": "2021-08-26T23:44:13.573Z"
   },
   {
    "duration": 33,
    "start_time": "2021-08-26T23:44:15.623Z"
   },
   {
    "duration": 6,
    "start_time": "2021-08-26T23:45:29.495Z"
   },
   {
    "duration": 8,
    "start_time": "2021-08-26T23:46:06.921Z"
   },
   {
    "duration": 33,
    "start_time": "2021-08-26T23:47:26.538Z"
   },
   {
    "duration": 5,
    "start_time": "2021-08-26T23:51:25.897Z"
   },
   {
    "duration": 176,
    "start_time": "2021-08-26T23:51:27.394Z"
   },
   {
    "duration": 28,
    "start_time": "2021-08-26T23:51:30.070Z"
   },
   {
    "duration": 24,
    "start_time": "2021-08-26T23:51:36.110Z"
   },
   {
    "duration": 30,
    "start_time": "2021-08-26T23:51:41.500Z"
   },
   {
    "duration": 13,
    "start_time": "2021-08-26T23:51:43.308Z"
   },
   {
    "duration": 14,
    "start_time": "2021-08-26T23:51:44.724Z"
   },
   {
    "duration": 7,
    "start_time": "2021-08-26T23:51:46.323Z"
   },
   {
    "duration": 11,
    "start_time": "2021-08-26T23:51:47.334Z"
   },
   {
    "duration": 78,
    "start_time": "2021-08-26T23:51:50.600Z"
   },
   {
    "duration": 75,
    "start_time": "2021-08-26T23:51:53.513Z"
   },
   {
    "duration": 20,
    "start_time": "2021-08-26T23:51:54.570Z"
   },
   {
    "duration": 30,
    "start_time": "2021-08-26T23:51:56.604Z"
   },
   {
    "duration": 10,
    "start_time": "2021-08-26T23:52:00.809Z"
   },
   {
    "duration": 126,
    "start_time": "2021-08-26T23:52:01.401Z"
   },
   {
    "duration": 32,
    "start_time": "2021-08-26T23:52:07.034Z"
   },
   {
    "duration": 11,
    "start_time": "2021-08-26T23:52:24.371Z"
   },
   {
    "duration": 17,
    "start_time": "2021-08-26T23:52:33.501Z"
   },
   {
    "duration": 25,
    "start_time": "2021-08-26T23:52:52.486Z"
   },
   {
    "duration": 26,
    "start_time": "2021-08-26T23:52:53.835Z"
   },
   {
    "duration": 396,
    "start_time": "2021-08-26T23:52:57.946Z"
   },
   {
    "duration": 50,
    "start_time": "2021-08-26T23:53:05.015Z"
   },
   {
    "duration": 55,
    "start_time": "2021-08-26T23:53:06.277Z"
   },
   {
    "duration": 33,
    "start_time": "2021-08-26T23:53:07.980Z"
   },
   {
    "duration": 7,
    "start_time": "2021-08-26T23:54:37.356Z"
   },
   {
    "duration": 11,
    "start_time": "2021-08-26T23:54:49.744Z"
   },
   {
    "duration": 37,
    "start_time": "2021-08-27T00:10:52.477Z"
   },
   {
    "duration": 60,
    "start_time": "2021-08-27T00:10:57.521Z"
   },
   {
    "duration": 60,
    "start_time": "2021-08-27T00:12:15.938Z"
   },
   {
    "duration": 6,
    "start_time": "2021-08-27T00:12:17.453Z"
   },
   {
    "duration": 6,
    "start_time": "2021-08-27T00:12:18.339Z"
   },
   {
    "duration": 12,
    "start_time": "2021-08-27T00:12:20.767Z"
   },
   {
    "duration": 13,
    "start_time": "2021-08-27T00:16:21.166Z"
   },
   {
    "duration": 323,
    "start_time": "2021-08-27T06:52:43.838Z"
   },
   {
    "duration": 1849,
    "start_time": "2021-08-27T06:53:06.692Z"
   },
   {
    "duration": 175,
    "start_time": "2021-08-27T06:53:15.159Z"
   },
   {
    "duration": 21,
    "start_time": "2021-08-27T06:53:16.572Z"
   },
   {
    "duration": 23,
    "start_time": "2021-08-27T06:53:23.014Z"
   },
   {
    "duration": 30,
    "start_time": "2021-08-27T06:53:23.768Z"
   },
   {
    "duration": 14,
    "start_time": "2021-08-27T06:53:36.635Z"
   },
   {
    "duration": 13,
    "start_time": "2021-08-27T06:53:38.227Z"
   },
   {
    "duration": 6,
    "start_time": "2021-08-27T06:53:39.689Z"
   },
   {
    "duration": 10,
    "start_time": "2021-08-27T06:53:40.421Z"
   },
   {
    "duration": 82,
    "start_time": "2021-08-27T06:53:41.752Z"
   },
   {
    "duration": 85,
    "start_time": "2021-08-27T06:53:44.857Z"
   },
   {
    "duration": 20,
    "start_time": "2021-08-27T06:53:45.960Z"
   },
   {
    "duration": 649,
    "start_time": "2021-08-27T06:53:47.245Z"
   },
   {
    "duration": 13,
    "start_time": "2021-08-27T06:53:51.595Z"
   },
   {
    "duration": 108,
    "start_time": "2021-08-27T06:53:52.232Z"
   },
   {
    "duration": 31,
    "start_time": "2021-08-27T06:53:54.926Z"
   },
   {
    "duration": 11,
    "start_time": "2021-08-27T06:53:56.910Z"
   },
   {
    "duration": 18,
    "start_time": "2021-08-27T06:54:01.727Z"
   },
   {
    "duration": 25,
    "start_time": "2021-08-27T06:54:04.157Z"
   },
   {
    "duration": 24,
    "start_time": "2021-08-27T06:54:05.497Z"
   },
   {
    "duration": 389,
    "start_time": "2021-08-27T06:54:06.983Z"
   },
   {
    "duration": 49,
    "start_time": "2021-08-27T06:54:11.215Z"
   },
   {
    "duration": 62,
    "start_time": "2021-08-27T06:54:12.812Z"
   },
   {
    "duration": 33,
    "start_time": "2021-08-27T06:54:14.389Z"
   },
   {
    "duration": 7,
    "start_time": "2021-08-27T06:54:16.485Z"
   },
   {
    "duration": 10,
    "start_time": "2021-08-27T06:54:19.484Z"
   },
   {
    "duration": 36,
    "start_time": "2021-08-27T06:54:30.707Z"
   },
   {
    "duration": 56,
    "start_time": "2021-08-27T06:54:38.125Z"
   },
   {
    "duration": 60,
    "start_time": "2021-08-27T06:55:11.748Z"
   },
   {
    "duration": 6,
    "start_time": "2021-08-27T06:55:13.474Z"
   },
   {
    "duration": 5,
    "start_time": "2021-08-27T06:55:25.647Z"
   },
   {
    "duration": 14,
    "start_time": "2021-08-27T06:55:26.573Z"
   },
   {
    "duration": 21,
    "start_time": "2021-08-27T07:05:57.960Z"
   },
   {
    "duration": 27,
    "start_time": "2021-08-27T07:05:58.316Z"
   },
   {
    "duration": 32,
    "start_time": "2021-08-27T07:05:59.414Z"
   },
   {
    "duration": 69,
    "start_time": "2021-08-27T07:06:01.799Z"
   },
   {
    "duration": 11,
    "start_time": "2021-08-27T07:06:03.109Z"
   },
   {
    "duration": 12,
    "start_time": "2021-08-27T07:06:04.385Z"
   },
   {
    "duration": 14,
    "start_time": "2021-08-27T07:07:15.180Z"
   },
   {
    "duration": 14,
    "start_time": "2021-08-27T07:07:50.403Z"
   },
   {
    "duration": 271,
    "start_time": "2021-08-27T07:08:08.705Z"
   },
   {
    "duration": 10,
    "start_time": "2021-08-27T07:08:12.296Z"
   },
   {
    "duration": 10,
    "start_time": "2021-08-27T07:27:51.524Z"
   },
   {
    "duration": 6,
    "start_time": "2021-08-27T07:29:32.819Z"
   },
   {
    "duration": 6950,
    "start_time": "2021-08-27T07:33:34.513Z"
   },
   {
    "duration": 6699,
    "start_time": "2021-08-27T07:33:48.475Z"
   },
   {
    "duration": 306,
    "start_time": "2021-08-27T07:36:08.935Z"
   },
   {
    "duration": 6,
    "start_time": "2021-08-27T07:36:19.153Z"
   },
   {
    "duration": 6,
    "start_time": "2021-08-27T07:37:10.892Z"
   },
   {
    "duration": 802,
    "start_time": "2021-08-27T07:37:14.774Z"
   },
   {
    "duration": 6,
    "start_time": "2021-08-27T07:41:05.826Z"
   },
   {
    "duration": 278,
    "start_time": "2021-08-27T07:41:21.269Z"
   },
   {
    "duration": 276,
    "start_time": "2021-08-27T07:42:43.944Z"
   },
   {
    "duration": 4,
    "start_time": "2021-08-27T07:42:53.666Z"
   },
   {
    "duration": 382,
    "start_time": "2021-08-27T07:43:15.780Z"
   },
   {
    "duration": 263,
    "start_time": "2021-08-27T07:43:21.494Z"
   },
   {
    "duration": 269,
    "start_time": "2021-08-27T07:43:29.327Z"
   },
   {
    "duration": 687,
    "start_time": "2021-08-27T07:44:44.659Z"
   },
   {
    "duration": 5,
    "start_time": "2021-08-27T07:44:51.737Z"
   },
   {
    "duration": 5,
    "start_time": "2021-08-27T07:45:01.264Z"
   },
   {
    "duration": 4,
    "start_time": "2021-08-27T07:45:34.636Z"
   },
   {
    "duration": 5,
    "start_time": "2021-08-27T07:45:39.990Z"
   },
   {
    "duration": 6,
    "start_time": "2021-08-27T07:55:00.629Z"
   },
   {
    "duration": 5,
    "start_time": "2021-08-27T07:55:01.405Z"
   },
   {
    "duration": 5,
    "start_time": "2021-08-27T07:55:01.926Z"
   },
   {
    "duration": 36,
    "start_time": "2021-08-27T07:55:07.818Z"
   },
   {
    "duration": 20,
    "start_time": "2021-08-27T07:57:27.080Z"
   },
   {
    "duration": 35,
    "start_time": "2021-08-27T07:58:44.650Z"
   },
   {
    "duration": 46,
    "start_time": "2021-08-27T07:59:17.429Z"
   },
   {
    "duration": 8,
    "start_time": "2021-08-27T07:59:35.807Z"
   },
   {
    "duration": 6,
    "start_time": "2021-08-27T07:59:54.955Z"
   },
   {
    "duration": 5931,
    "start_time": "2021-08-27T08:00:20.471Z"
   },
   {
    "duration": 5296,
    "start_time": "2021-08-27T08:00:37.669Z"
   },
   {
    "duration": 7,
    "start_time": "2021-08-27T08:01:30.372Z"
   },
   {
    "duration": 4274,
    "start_time": "2021-08-27T08:01:53.260Z"
   },
   {
    "duration": 3901,
    "start_time": "2021-08-27T08:02:06.970Z"
   },
   {
    "duration": 10,
    "start_time": "2021-08-27T08:02:28.559Z"
   },
   {
    "duration": 9968,
    "start_time": "2021-08-27T08:02:41.671Z"
   },
   {
    "duration": 3655,
    "start_time": "2021-08-27T08:03:29.622Z"
   },
   {
    "duration": 276,
    "start_time": "2021-08-27T08:07:46.299Z"
   },
   {
    "duration": 297,
    "start_time": "2021-08-27T08:08:15.215Z"
   },
   {
    "duration": 6,
    "start_time": "2021-08-27T08:09:49.417Z"
   },
   {
    "duration": 6,
    "start_time": "2021-08-27T08:13:44.192Z"
   },
   {
    "duration": 9,
    "start_time": "2021-08-27T08:14:22.649Z"
   },
   {
    "duration": 7,
    "start_time": "2021-08-27T08:14:41.243Z"
   },
   {
    "duration": 45,
    "start_time": "2021-08-27T08:14:55.815Z"
   },
   {
    "duration": 308,
    "start_time": "2021-08-27T08:14:56.515Z"
   },
   {
    "duration": 288,
    "start_time": "2021-08-27T08:15:06.834Z"
   },
   {
    "duration": 36,
    "start_time": "2021-08-27T08:15:11.703Z"
   },
   {
    "duration": 43,
    "start_time": "2021-08-27T08:15:13.865Z"
   },
   {
    "duration": 281,
    "start_time": "2021-08-27T08:15:15.115Z"
   },
   {
    "duration": 7,
    "start_time": "2021-08-27T08:15:33.735Z"
   },
   {
    "duration": 281,
    "start_time": "2021-08-27T08:16:39.502Z"
   },
   {
    "duration": 10,
    "start_time": "2021-08-27T08:16:44.103Z"
   },
   {
    "duration": 196,
    "start_time": "2021-08-27T08:16:46.816Z"
   },
   {
    "duration": 205,
    "start_time": "2021-08-27T08:16:57.572Z"
   },
   {
    "duration": 197,
    "start_time": "2021-08-27T08:17:08.376Z"
   },
   {
    "duration": 18,
    "start_time": "2021-08-27T08:18:14.704Z"
   },
   {
    "duration": 215,
    "start_time": "2021-08-27T08:18:16.569Z"
   },
   {
    "duration": 155,
    "start_time": "2021-08-27T08:19:11.950Z"
   },
   {
    "duration": 128,
    "start_time": "2021-08-27T08:21:29.522Z"
   },
   {
    "duration": 173,
    "start_time": "2021-08-27T08:21:39.183Z"
   },
   {
    "duration": 293,
    "start_time": "2021-08-27T08:21:49.931Z"
   },
   {
    "duration": 294,
    "start_time": "2021-08-27T08:21:53.788Z"
   },
   {
    "duration": 201,
    "start_time": "2021-08-27T08:21:58.065Z"
   },
   {
    "duration": 24554,
    "start_time": "2021-08-27T10:46:51.280Z"
   },
   {
    "duration": 170,
    "start_time": "2021-08-27T10:47:15.837Z"
   },
   {
    "duration": 21,
    "start_time": "2021-08-27T10:47:16.010Z"
   },
   {
    "duration": 21,
    "start_time": "2021-08-27T10:47:16.034Z"
   },
   {
    "duration": 50,
    "start_time": "2021-08-27T10:47:16.058Z"
   },
   {
    "duration": 14,
    "start_time": "2021-08-27T10:47:16.111Z"
   },
   {
    "duration": 13,
    "start_time": "2021-08-27T10:47:16.127Z"
   },
   {
    "duration": 42,
    "start_time": "2021-08-27T10:47:16.143Z"
   },
   {
    "duration": 10,
    "start_time": "2021-08-27T10:47:16.190Z"
   },
   {
    "duration": 97,
    "start_time": "2021-08-27T10:47:16.203Z"
   },
   {
    "duration": 94,
    "start_time": "2021-08-27T10:47:16.303Z"
   },
   {
    "duration": 19,
    "start_time": "2021-08-27T10:47:16.399Z"
   },
   {
    "duration": 78722,
    "start_time": "2021-08-27T10:47:16.421Z"
   },
   {
    "duration": 17,
    "start_time": "2021-08-27T10:48:35.147Z"
   },
   {
    "duration": 119,
    "start_time": "2021-08-27T10:48:35.166Z"
   },
   {
    "duration": 50,
    "start_time": "2021-08-27T10:48:35.288Z"
   },
   {
    "duration": 13,
    "start_time": "2021-08-27T10:48:35.341Z"
   },
   {
    "duration": 17,
    "start_time": "2021-08-27T10:48:35.356Z"
   },
   {
    "duration": 24,
    "start_time": "2021-08-27T10:48:35.383Z"
   },
   {
    "duration": 24,
    "start_time": "2021-08-27T10:48:35.409Z"
   },
   {
    "duration": 387,
    "start_time": "2021-08-27T10:48:35.435Z"
   },
   {
    "duration": 58,
    "start_time": "2021-08-27T10:48:35.824Z"
   },
   {
    "duration": 59,
    "start_time": "2021-08-27T10:48:35.884Z"
   },
   {
    "duration": 51,
    "start_time": "2021-08-27T10:48:35.945Z"
   },
   {
    "duration": 11,
    "start_time": "2021-08-27T10:48:35.999Z"
   },
   {
    "duration": 16,
    "start_time": "2021-08-27T10:48:36.013Z"
   },
   {
    "duration": 61,
    "start_time": "2021-08-27T10:48:36.037Z"
   },
   {
    "duration": 62,
    "start_time": "2021-08-27T10:48:36.101Z"
   },
   {
    "duration": 63,
    "start_time": "2021-08-27T10:48:36.165Z"
   },
   {
    "duration": 6,
    "start_time": "2021-08-27T10:48:36.230Z"
   },
   {
    "duration": 9,
    "start_time": "2021-08-27T10:48:36.238Z"
   },
   {
    "duration": 40,
    "start_time": "2021-08-27T10:48:36.249Z"
   },
   {
    "duration": 22,
    "start_time": "2021-08-27T10:48:36.292Z"
   },
   {
    "duration": 26,
    "start_time": "2021-08-27T10:48:36.316Z"
   },
   {
    "duration": 58,
    "start_time": "2021-08-27T10:48:36.344Z"
   },
   {
    "duration": 82,
    "start_time": "2021-08-27T10:48:36.404Z"
   },
   {
    "duration": 10,
    "start_time": "2021-08-27T10:48:36.488Z"
   },
   {
    "duration": 14,
    "start_time": "2021-08-27T10:48:36.501Z"
   },
   {
    "duration": 291,
    "start_time": "2021-08-27T10:48:36.518Z"
   },
   {
    "duration": 9,
    "start_time": "2021-08-27T10:48:36.811Z"
   },
   {
    "duration": 7,
    "start_time": "2021-08-27T10:48:36.823Z"
   },
   {
    "duration": 6,
    "start_time": "2021-08-27T10:48:36.832Z"
   },
   {
    "duration": 41,
    "start_time": "2021-08-27T10:48:36.841Z"
   },
   {
    "duration": 35,
    "start_time": "2021-08-27T10:48:36.885Z"
   },
   {
    "duration": 62,
    "start_time": "2021-08-27T10:48:36.923Z"
   },
   {
    "duration": 5,
    "start_time": "2021-08-27T10:48:36.987Z"
   },
   {
    "duration": 290,
    "start_time": "2021-08-27T10:48:36.995Z"
   },
   {
    "duration": 9,
    "start_time": "2021-08-27T10:48:37.288Z"
   },
   {
    "duration": 207,
    "start_time": "2021-08-27T10:48:37.299Z"
   },
   {
    "duration": 213,
    "start_time": "2021-08-27T10:48:37.508Z"
   },
   {
    "duration": 227,
    "start_time": "2021-08-27T10:48:37.723Z"
   },
   {
    "duration": 35,
    "start_time": "2021-08-27T10:48:37.953Z"
   },
   {
    "duration": 268,
    "start_time": "2021-08-27T10:48:37.991Z"
   },
   {
    "duration": 94,
    "start_time": "2021-08-27T10:48:38.262Z"
   },
   {
    "duration": 190,
    "start_time": "2021-08-27T10:48:38.359Z"
   },
   {
    "duration": 210,
    "start_time": "2021-08-27T10:48:38.551Z"
   },
   {
    "duration": 218,
    "start_time": "2021-08-27T10:48:38.764Z"
   },
   {
    "duration": 120,
    "start_time": "2021-08-27T10:50:24.026Z"
   },
   {
    "duration": 134,
    "start_time": "2021-08-27T10:52:21.460Z"
   },
   {
    "duration": 1899,
    "start_time": "2021-08-28T10:02:50.078Z"
   },
   {
    "duration": 177,
    "start_time": "2021-08-28T10:02:52.519Z"
   },
   {
    "duration": 23,
    "start_time": "2021-08-28T10:02:52.944Z"
   },
   {
    "duration": 23,
    "start_time": "2021-08-28T10:03:00.437Z"
   },
   {
    "duration": 31,
    "start_time": "2021-08-28T10:03:00.953Z"
   },
   {
    "duration": 15,
    "start_time": "2021-08-28T10:03:07.779Z"
   },
   {
    "duration": 18,
    "start_time": "2021-08-28T10:03:08.502Z"
   },
   {
    "duration": 8,
    "start_time": "2021-08-28T10:03:09.151Z"
   },
   {
    "duration": 26,
    "start_time": "2021-08-28T10:03:09.163Z"
   },
   {
    "duration": 88,
    "start_time": "2021-08-28T10:03:09.529Z"
   },
   {
    "duration": 100,
    "start_time": "2021-08-28T10:03:09.963Z"
   },
   {
    "duration": 21,
    "start_time": "2021-08-28T10:03:10.385Z"
   },
   {
    "duration": 737,
    "start_time": "2021-08-28T10:03:10.829Z"
   },
   {
    "duration": 13,
    "start_time": "2021-08-28T10:03:12.396Z"
   },
   {
    "duration": 115,
    "start_time": "2021-08-28T10:03:12.801Z"
   },
   {
    "duration": 39,
    "start_time": "2021-08-28T10:03:14.399Z"
   },
   {
    "duration": 13,
    "start_time": "2021-08-28T10:03:15.494Z"
   },
   {
    "duration": 18,
    "start_time": "2021-08-28T10:03:18.470Z"
   },
   {
    "duration": 23,
    "start_time": "2021-08-28T10:03:28.033Z"
   },
   {
    "duration": 24,
    "start_time": "2021-08-28T10:03:29.386Z"
   },
   {
    "duration": 403,
    "start_time": "2021-08-28T10:03:30.073Z"
   },
   {
    "duration": 74,
    "start_time": "2021-08-28T10:03:31.807Z"
   },
   {
    "duration": 62,
    "start_time": "2021-08-28T10:03:32.440Z"
   },
   {
    "duration": 33,
    "start_time": "2021-08-28T10:03:33.045Z"
   },
   {
    "duration": 8,
    "start_time": "2021-08-28T10:03:33.631Z"
   },
   {
    "duration": 10,
    "start_time": "2021-08-28T10:03:34.975Z"
   },
   {
    "duration": 44,
    "start_time": "2021-08-28T10:03:37.793Z"
   },
   {
    "duration": 69,
    "start_time": "2021-08-28T10:03:40.513Z"
   },
   {
    "duration": 91,
    "start_time": "2021-08-28T10:03:40.585Z"
   },
   {
    "duration": 6,
    "start_time": "2021-08-28T10:03:40.679Z"
   },
   {
    "duration": 6,
    "start_time": "2021-08-28T10:03:40.903Z"
   },
   {
    "duration": 14,
    "start_time": "2021-08-28T10:03:41.289Z"
   },
   {
    "duration": 21,
    "start_time": "2021-08-28T10:03:46.558Z"
   },
   {
    "duration": 27,
    "start_time": "2021-08-28T10:03:47.094Z"
   },
   {
    "duration": 30,
    "start_time": "2021-08-28T10:03:47.481Z"
   },
   {
    "duration": 71,
    "start_time": "2021-08-28T10:03:48.418Z"
   },
   {
    "duration": 11,
    "start_time": "2021-08-28T10:03:48.933Z"
   },
   {
    "duration": 20,
    "start_time": "2021-08-28T10:03:52.013Z"
   },
   {
    "duration": 314,
    "start_time": "2021-08-28T10:03:55.867Z"
   },
   {
    "duration": 10,
    "start_time": "2021-08-28T10:03:59.168Z"
   },
   {
    "duration": 5,
    "start_time": "2021-08-28T10:04:51.844Z"
   },
   {
    "duration": 9,
    "start_time": "2021-08-28T10:05:08.057Z"
   },
   {
    "duration": 6,
    "start_time": "2021-08-28T10:07:11.950Z"
   },
   {
    "duration": 6,
    "start_time": "2021-08-28T10:07:49.381Z"
   },
   {
    "duration": 5,
    "start_time": "2021-08-28T10:08:18.350Z"
   },
   {
    "duration": 46,
    "start_time": "2021-08-28T10:08:36.404Z"
   },
   {
    "duration": 43,
    "start_time": "2021-08-28T10:08:41.573Z"
   },
   {
    "duration": 6,
    "start_time": "2021-08-28T10:08:42.038Z"
   },
   {
    "duration": 300,
    "start_time": "2021-08-28T10:08:45.331Z"
   },
   {
    "duration": 10,
    "start_time": "2021-08-28T10:08:48.184Z"
   },
   {
    "duration": 209,
    "start_time": "2021-08-28T10:08:49.862Z"
   },
   {
    "duration": 205,
    "start_time": "2021-08-28T10:08:52.085Z"
   },
   {
    "duration": 202,
    "start_time": "2021-08-28T10:08:53.206Z"
   },
   {
    "duration": 19,
    "start_time": "2021-08-28T10:08:54.473Z"
   },
   {
    "duration": 214,
    "start_time": "2021-08-28T10:08:55.198Z"
   },
   {
    "duration": 185,
    "start_time": "2021-08-28T10:09:00.207Z"
   },
   {
    "duration": 207,
    "start_time": "2021-08-28T10:09:02.769Z"
   },
   {
    "duration": 204,
    "start_time": "2021-08-28T10:09:04.431Z"
   },
   {
    "duration": 220,
    "start_time": "2021-08-28T10:09:05.872Z"
   }
  ],
  "kernelspec": {
   "display_name": "Python 3",
   "language": "python",
   "name": "python3"
  },
  "language_info": {
   "codemirror_mode": {
    "name": "ipython",
    "version": 3
   },
   "file_extension": ".py",
   "mimetype": "text/x-python",
   "name": "python",
   "nbconvert_exporter": "python",
   "pygments_lexer": "ipython3",
   "version": "3.7.8"
  },
  "toc": {
   "base_numbering": 1,
   "nav_menu": {},
   "number_sections": true,
   "sideBar": true,
   "skip_h1_title": true,
   "title_cell": "Table of Contents",
   "title_sidebar": "Contents",
   "toc_cell": false,
   "toc_position": {},
   "toc_section_display": true,
   "toc_window_display": false
  }
 },
 "nbformat": 4,
 "nbformat_minor": 2
}
