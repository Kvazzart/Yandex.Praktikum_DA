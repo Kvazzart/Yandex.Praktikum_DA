{
 "cells": [
  {
   "cell_type": "markdown",
   "metadata": {},
   "source": [
    "Привет! Ты теперь находишься на территории код-ревьюеров. У нас тут своя атмосфера и правила:  \n",
    "1. Меня зовут Алексей Свирин. Я работаю продуктовым аналитиком, поэтому мои комментарии больше ориентированы на визуальную и смысловую часть проекта, которая ориентирована на внешних пользователей, и меньше на сам код, его чистоту и оптимизацию.  \n",
    "2. Общаемся на ты.  \n",
    "3. Хочешь мне написать — пиши. Только нужно выбрать свой цвет для комментария.  \n",
    "4. Это учебный проект, тут можно не бояться сделать ошибку, но все остальное как в жизни, может быть сложно.  \n",
    "5. У тебя бесконечное количество ~~жизней~~ попыток для сдачи проекта.  \n",
    "6. Поехали!  \n",
    "\n",
    "---\n",
    "\n",
    "Я буду красить комментарии цветом, пожалуйста, не удаляй их:\n",
    "\n",
    "<div class=\"alert alert-block alert-danger\">\n",
    "    \n",
    "\n",
    "__Комментарий от ревьюера №1__\n",
    "\n",
    "Такой комментарий нужно исправить обязательно, он критически влияет на удачное выполнение проекта.\n",
    "</div>\n",
    "    \n",
    "---\n",
    "\n",
    "<div class=\"alert alert-block alert-warning\">\n",
    "    \n",
    "\n",
    "__Комментарий от ревьюера №1__\n",
    "\n",
    "\n",
    "Такой комментарий является рекомендацией или советом. Можешь использовать их на своё усмотрение.\n",
    "</div>\n",
    "\n",
    "---\n",
    "\n",
    "<div class=\"alert alert-block alert-success\">\n",
    "    \n",
    "\n",
    "__Комментарий от ревьюера №1__\n",
    "\n",
    "Такой комментарий  говорит о том, что было сделано что-то качественное и правильное =)\n",
    "</div>\n",
    "\n",
    "---"
   ]
  },
  {
   "cell_type": "markdown",
   "metadata": {},
   "source": [
    "<div class=\"alert alert-block alert-info\">\n",
    "    \n",
    "\n",
    "__Комментарий от ревьюера №1__\n",
    "\n",
    "Проект сделан очень хорошо. Отличный этап предобработки, правильный анализ данных, хорошие и развернутые выводы. К структуре нет никаких претензий. Проект принят.\n",
    "</div>"
   ]
  },
  {
   "cell_type": "markdown",
   "metadata": {},
   "source": [
    "# Аналитика в авиакомпании\n",
    "\n",
    "В качестве входных данных есть файлы, в которых содержатся результаты запросов из предыдущих заданий.\n",
    "\n",
    "**Описание данных**\n",
    "\n",
    "/datasets/query_1.csv — результат первого запроса. В нём содержится информация о:\n",
    "\n",
    "    model — модели самолета\n",
    "    flights_amount — количество рейсов для каждой модели самолетов model в сентябре 2018 года\n",
    "\n",
    "/datasets/query_3.csv — результат третьего запроса. В нём содержится информация о:\n",
    "\n",
    "    city — городах\n",
    "    average_flights — среднем количестве рейсов, прибывающих в город city за день в августе 2018 года\n"
   ]
  },
  {
   "cell_type": "markdown",
   "metadata": {},
   "source": [
    "В рамках этой части для двух наборов данных будут выполнены следующие шаги:\n",
    "\n",
    "    1. импортирование файлов;\n",
    "    2. изучение данных в них;\n",
    "    3. проверка типов данных на корректность;\n",
    "    4. выборка из топ-10 городов по количеству рейсов;\n",
    "    5. построение графиков: модели самолетов и количество рейсов, города и количество рейсов, топ-10 городов и количество рейсов;\n",
    "    6. формулировка выводов по каждому из графиков и интерпретация результата."
   ]
  },
  {
   "cell_type": "markdown",
   "metadata": {},
   "source": [
    "<h1>\n",
    "\tСодержание\n",
    "\t<span class=\"tocSkip\"></span>\n",
    "</h1>\n",
    "<div class=\"toc\">\n",
    "\t<ul class=\"toc-item\">\n",
    "\t\t<li>\n",
    "\t\t\t<span>\n",
    "\t\t\t\t<a href=\"#Импортирование файлов\" data-toc-modified-id=\"импортирование-файлов-1\">\n",
    "                    <span class=\"toc-item-num\">1&nbsp;&nbsp;\n",
    "                    </span>Импортирование файлов\n",
    "                </a>\n",
    "            </span>\n",
    "            <ul class=\"toc-item\">\n",
    "                <li>\n",
    "                    <span>\n",
    "                        <a href=\"#Вывод\" data-toc-modified-id=\"Вывод-1.1\">\n",
    "                            <span class=\"toc-item-num\">1.1&nbsp;&nbsp;\n",
    "                            </span>Вывод\n",
    "                        </a>\n",
    "                    </span>\n",
    "                </li>\n",
    "            </ul>\n",
    "        </li>        \n",
    "        <li>\n",
    "\t\t\t<span>\n",
    "\t\t\t\t<a href=\"#Изучение данных\" data-toc-modified-id=\"Изучение-данных-2\">\n",
    "                    <span class=\"toc-item-num\">2&nbsp;&nbsp;\n",
    "                    </span>Изучение данных\n",
    "                </a>\n",
    "            </span>\n",
    "            <ul class=\"toc-item\">\n",
    "                <li>\n",
    "                    <span>\n",
    "                        <a href=\"#Вывод\" data-toc-modified-id=\"Вывод-2.1\">\n",
    "                            <span class=\"toc-item-num\">2.1&nbsp;&nbsp;\n",
    "                            </span>Вывод\n",
    "                        </a>\n",
    "                    </span>\n",
    "                </li>\n",
    "            </ul>\n",
    "        </li>       \n",
    "        <li>\n",
    "\t\t\t<span>\n",
    "\t\t\t\t<a href=\"#Проверка типов данных на корректность\" data-toc-modified-id=\"Проверка-типов-данных-на-корректность-3\">\n",
    "                    <span class=\"toc-item-num\">3&nbsp;&nbsp;\n",
    "                    </span>Проверка типов данных на корректность\n",
    "                </a>\n",
    "            </span>\n",
    "            <ul class=\"toc-item\">\n",
    "                <li>\n",
    "                    <span>\n",
    "                        <a href=\"#Вывод\" data-toc-modified-id=\"Вывод-3.1\">\n",
    "                            <span class=\"toc-item-num\">3.1&nbsp;&nbsp;\n",
    "                            </span>Вывод\n",
    "                        </a>\n",
    "                    </span>\n",
    "                </li>\n",
    "            </ul>\n",
    "        </li>       \n",
    "        <li>\n",
    "\t\t\t<span>\n",
    "\t\t\t\t<a href=\"#Выборка из топ-10 городов по количеству рейсов\" data-toc-modified-id=\"Выборка-из-топ-10-городов-по-количеству-рейсов-4\">\n",
    "                    <span class=\"toc-item-num\">4&nbsp;&nbsp;\n",
    "                    </span>Выборка из топ-10 городов по количеству рейсов\n",
    "                </a>\n",
    "            </span>\n",
    "            <ul class=\"toc-item\">\n",
    "                <li>\n",
    "                    <span>\n",
    "                        <a href=\"#Вывод\" data-toc-modified-id=\"Вывод-4.1\">\n",
    "                            <span class=\"toc-item-num\">4.1&nbsp;&nbsp;\n",
    "                            </span>Вывод\n",
    "                        </a>\n",
    "                    </span>\n",
    "                </li>\n",
    "            </ul>\n",
    "        </li>       \n",
    "         <li>\n",
    "\t\t\t<span>\n",
    "\t\t\t\t<a href=\"#Построение графиков и интерпретация результата\" data-toc-modified-id=\"Построение-графиков-и-интерпретация-результата-5\">\n",
    "                    <span class=\"toc-item-num\">5&nbsp;&nbsp;\n",
    "                    </span>Построение графиков и интерпретация результата\n",
    "                </a>\n",
    "            </span>\n",
    "            <ul class=\"toc-item\">\n",
    "                <li>\n",
    "                    <span>\n",
    "                        <a href=\"#Вывод\" data-toc-modified-id=\"Вывод-5.1\">\n",
    "                            <span class=\"toc-item-num\">5.1&nbsp;&nbsp;\n",
    "                            </span>Вывод\n",
    "                        </a>\n",
    "                    </span>\n",
    "                </li>\n",
    "            </ul>\n",
    "        </li>        \n",
    "        <li>\n",
    "\t\t\t\t<span>\n",
    "\t\t\t\t\t<a href=\"#Общий-вывод\" data-toc-modified-id=\"Общий-вывод-6\">\n",
    "\t\t\t\t\t\t<span class=\"toc-item-num\">6&nbsp;&nbsp;\n",
    "\t\t\t\t\t\t</span>Общий вывод\n",
    "\t\t\t\t\t</a>\n",
    "\t\t\t\t</span>\n",
    "\t\t\t</li>\n",
    "\t\t</ul>\n",
    "\t</div>"
   ]
  },
  {
   "cell_type": "markdown",
   "metadata": {},
   "source": [
    "<div class=\"alert alert-block alert-success\">\n",
    "    \n",
    "\n",
    "__Комментарий от ревьюера №1__\n",
    "\n",
    "Хорошее начало проекта.\n",
    "</div>"
   ]
  },
  {
   "cell_type": "markdown",
   "metadata": {},
   "source": [
    "## Импортирование файлов "
   ]
  },
  {
   "cell_type": "code",
   "execution_count": 1,
   "metadata": {},
   "outputs": [],
   "source": [
    "# импортируем библиотеки\n",
    "import pandas as pd\n",
    "import matplotlib.pyplot as plt\n",
    "import numpy as np\n",
    "import seaborn as sns\n"
   ]
  },
  {
   "cell_type": "code",
   "execution_count": 2,
   "metadata": {},
   "outputs": [],
   "source": [
    "model_flights = pd.read_csv('/datasets/query_1.csv')\n",
    "city_flights = pd.read_csv('/datasets/query_3.csv')\n",
    "\n",
    "pd.options.display.max_columns = 40\n",
    "#игнорируем варнинги\n",
    "import warnings\n",
    "warnings.filterwarnings('ignore')"
   ]
  },
  {
   "cell_type": "markdown",
   "metadata": {},
   "source": [
    "### Вывод"
   ]
  },
  {
   "cell_type": "markdown",
   "metadata": {},
   "source": [
    "Мы импортировали файлы с результатами первого и третьего запросов с помощью функции read_csv(). \n",
    "Также были импортированы библиотеки, необходимые для выполнения проекта."
   ]
  },
  {
   "cell_type": "markdown",
   "metadata": {},
   "source": [
    "## Изучение данных"
   ]
  },
  {
   "cell_type": "markdown",
   "metadata": {},
   "source": [
    "Изучим данные с помощью метода info().\n",
    "Выведем первые строки таблицы методом head(), чтобы познакомиться с данными. Изучим числовые данные в столбцах с помощью describe()."
   ]
  },
  {
   "cell_type": "code",
   "execution_count": 3,
   "metadata": {},
   "outputs": [
    {
     "name": "stdout",
     "output_type": "stream",
     "text": [
      "<class 'pandas.core.frame.DataFrame'>\n",
      "RangeIndex: 8 entries, 0 to 7\n",
      "Data columns (total 2 columns):\n",
      "model             8 non-null object\n",
      "flights_amount    8 non-null int64\n",
      "dtypes: int64(1), object(1)\n",
      "memory usage: 256.0+ bytes\n"
     ]
    },
    {
     "data": {
      "text/html": [
       "<div>\n",
       "<style scoped>\n",
       "    .dataframe tbody tr th:only-of-type {\n",
       "        vertical-align: middle;\n",
       "    }\n",
       "\n",
       "    .dataframe tbody tr th {\n",
       "        vertical-align: top;\n",
       "    }\n",
       "\n",
       "    .dataframe thead th {\n",
       "        text-align: right;\n",
       "    }\n",
       "</style>\n",
       "<table border=\"1\" class=\"dataframe\">\n",
       "  <thead>\n",
       "    <tr style=\"text-align: right;\">\n",
       "      <th></th>\n",
       "      <th>flights_amount</th>\n",
       "    </tr>\n",
       "  </thead>\n",
       "  <tbody>\n",
       "    <tr>\n",
       "      <td>count</td>\n",
       "      <td>8.000000</td>\n",
       "    </tr>\n",
       "    <tr>\n",
       "      <td>mean</td>\n",
       "      <td>2035.625000</td>\n",
       "    </tr>\n",
       "    <tr>\n",
       "      <td>std</td>\n",
       "      <td>1965.203947</td>\n",
       "    </tr>\n",
       "    <tr>\n",
       "      <td>min</td>\n",
       "      <td>300.000000</td>\n",
       "    </tr>\n",
       "    <tr>\n",
       "      <td>25%</td>\n",
       "      <td>605.250000</td>\n",
       "    </tr>\n",
       "    <tr>\n",
       "      <td>50%</td>\n",
       "      <td>795.000000</td>\n",
       "    </tr>\n",
       "    <tr>\n",
       "      <td>75%</td>\n",
       "      <td>4250.250000</td>\n",
       "    </tr>\n",
       "    <tr>\n",
       "      <td>max</td>\n",
       "      <td>4557.000000</td>\n",
       "    </tr>\n",
       "  </tbody>\n",
       "</table>\n",
       "</div>"
      ],
      "text/plain": [
       "       flights_amount\n",
       "count        8.000000\n",
       "mean      2035.625000\n",
       "std       1965.203947\n",
       "min        300.000000\n",
       "25%        605.250000\n",
       "50%        795.000000\n",
       "75%       4250.250000\n",
       "max       4557.000000"
      ]
     },
     "metadata": {},
     "output_type": "display_data"
    },
    {
     "data": {
      "text/html": [
       "<div>\n",
       "<style scoped>\n",
       "    .dataframe tbody tr th:only-of-type {\n",
       "        vertical-align: middle;\n",
       "    }\n",
       "\n",
       "    .dataframe tbody tr th {\n",
       "        vertical-align: top;\n",
       "    }\n",
       "\n",
       "    .dataframe thead th {\n",
       "        text-align: right;\n",
       "    }\n",
       "</style>\n",
       "<table border=\"1\" class=\"dataframe\">\n",
       "  <thead>\n",
       "    <tr style=\"text-align: right;\">\n",
       "      <th></th>\n",
       "      <th>model</th>\n",
       "      <th>flights_amount</th>\n",
       "    </tr>\n",
       "  </thead>\n",
       "  <tbody>\n",
       "    <tr>\n",
       "      <td>0</td>\n",
       "      <td>Airbus A319-100</td>\n",
       "      <td>607</td>\n",
       "    </tr>\n",
       "    <tr>\n",
       "      <td>1</td>\n",
       "      <td>Airbus A321-200</td>\n",
       "      <td>960</td>\n",
       "    </tr>\n",
       "    <tr>\n",
       "      <td>2</td>\n",
       "      <td>Boeing 737-300</td>\n",
       "      <td>630</td>\n",
       "    </tr>\n",
       "    <tr>\n",
       "      <td>3</td>\n",
       "      <td>Boeing 767-300</td>\n",
       "      <td>600</td>\n",
       "    </tr>\n",
       "    <tr>\n",
       "      <td>4</td>\n",
       "      <td>Boeing 777-300</td>\n",
       "      <td>300</td>\n",
       "    </tr>\n",
       "    <tr>\n",
       "      <td>5</td>\n",
       "      <td>Bombardier CRJ-200</td>\n",
       "      <td>4446</td>\n",
       "    </tr>\n",
       "    <tr>\n",
       "      <td>6</td>\n",
       "      <td>Cessna 208 Caravan</td>\n",
       "      <td>4557</td>\n",
       "    </tr>\n",
       "    <tr>\n",
       "      <td>7</td>\n",
       "      <td>Sukhoi SuperJet-100</td>\n",
       "      <td>4185</td>\n",
       "    </tr>\n",
       "  </tbody>\n",
       "</table>\n",
       "</div>"
      ],
      "text/plain": [
       "                 model  flights_amount\n",
       "0      Airbus A319-100             607\n",
       "1      Airbus A321-200             960\n",
       "2       Boeing 737-300             630\n",
       "3       Boeing 767-300             600\n",
       "4       Boeing 777-300             300\n",
       "5   Bombardier CRJ-200            4446\n",
       "6   Cessna 208 Caravan            4557\n",
       "7  Sukhoi SuperJet-100            4185"
      ]
     },
     "metadata": {},
     "output_type": "display_data"
    },
    {
     "name": "stdout",
     "output_type": "stream",
     "text": [
      "<class 'pandas.core.frame.DataFrame'>\n",
      "RangeIndex: 101 entries, 0 to 100\n",
      "Data columns (total 2 columns):\n",
      "city               101 non-null object\n",
      "average_flights    101 non-null float64\n",
      "dtypes: float64(1), object(1)\n",
      "memory usage: 1.7+ KB\n"
     ]
    },
    {
     "data": {
      "text/html": [
       "<div>\n",
       "<style scoped>\n",
       "    .dataframe tbody tr th:only-of-type {\n",
       "        vertical-align: middle;\n",
       "    }\n",
       "\n",
       "    .dataframe tbody tr th {\n",
       "        vertical-align: top;\n",
       "    }\n",
       "\n",
       "    .dataframe thead th {\n",
       "        text-align: right;\n",
       "    }\n",
       "</style>\n",
       "<table border=\"1\" class=\"dataframe\">\n",
       "  <thead>\n",
       "    <tr style=\"text-align: right;\">\n",
       "      <th></th>\n",
       "      <th>average_flights</th>\n",
       "    </tr>\n",
       "  </thead>\n",
       "  <tbody>\n",
       "    <tr>\n",
       "      <td>count</td>\n",
       "      <td>101.000000</td>\n",
       "    </tr>\n",
       "    <tr>\n",
       "      <td>mean</td>\n",
       "      <td>5.494189</td>\n",
       "    </tr>\n",
       "    <tr>\n",
       "      <td>std</td>\n",
       "      <td>13.119790</td>\n",
       "    </tr>\n",
       "    <tr>\n",
       "      <td>min</td>\n",
       "      <td>1.000000</td>\n",
       "    </tr>\n",
       "    <tr>\n",
       "      <td>25%</td>\n",
       "      <td>2.000000</td>\n",
       "    </tr>\n",
       "    <tr>\n",
       "      <td>50%</td>\n",
       "      <td>3.000000</td>\n",
       "    </tr>\n",
       "    <tr>\n",
       "      <td>75%</td>\n",
       "      <td>5.870968</td>\n",
       "    </tr>\n",
       "    <tr>\n",
       "      <td>max</td>\n",
       "      <td>129.774194</td>\n",
       "    </tr>\n",
       "  </tbody>\n",
       "</table>\n",
       "</div>"
      ],
      "text/plain": [
       "       average_flights\n",
       "count       101.000000\n",
       "mean          5.494189\n",
       "std          13.119790\n",
       "min           1.000000\n",
       "25%           2.000000\n",
       "50%           3.000000\n",
       "75%           5.870968\n",
       "max         129.774194"
      ]
     },
     "metadata": {},
     "output_type": "display_data"
    },
    {
     "data": {
      "text/html": [
       "<div>\n",
       "<style scoped>\n",
       "    .dataframe tbody tr th:only-of-type {\n",
       "        vertical-align: middle;\n",
       "    }\n",
       "\n",
       "    .dataframe tbody tr th {\n",
       "        vertical-align: top;\n",
       "    }\n",
       "\n",
       "    .dataframe thead th {\n",
       "        text-align: right;\n",
       "    }\n",
       "</style>\n",
       "<table border=\"1\" class=\"dataframe\">\n",
       "  <thead>\n",
       "    <tr style=\"text-align: right;\">\n",
       "      <th></th>\n",
       "      <th>city</th>\n",
       "      <th>average_flights</th>\n",
       "    </tr>\n",
       "  </thead>\n",
       "  <tbody>\n",
       "    <tr>\n",
       "      <td>0</td>\n",
       "      <td>Абакан</td>\n",
       "      <td>3.870968</td>\n",
       "    </tr>\n",
       "    <tr>\n",
       "      <td>1</td>\n",
       "      <td>Анадырь</td>\n",
       "      <td>1.000000</td>\n",
       "    </tr>\n",
       "    <tr>\n",
       "      <td>2</td>\n",
       "      <td>Анапа</td>\n",
       "      <td>2.161290</td>\n",
       "    </tr>\n",
       "    <tr>\n",
       "      <td>3</td>\n",
       "      <td>Архангельск</td>\n",
       "      <td>5.354839</td>\n",
       "    </tr>\n",
       "    <tr>\n",
       "      <td>4</td>\n",
       "      <td>Астрахань</td>\n",
       "      <td>2.451613</td>\n",
       "    </tr>\n",
       "    <tr>\n",
       "      <td>5</td>\n",
       "      <td>Барнаул</td>\n",
       "      <td>2.612903</td>\n",
       "    </tr>\n",
       "    <tr>\n",
       "      <td>6</td>\n",
       "      <td>Белгород</td>\n",
       "      <td>6.000000</td>\n",
       "    </tr>\n",
       "    <tr>\n",
       "      <td>7</td>\n",
       "      <td>Белоярский</td>\n",
       "      <td>2.000000</td>\n",
       "    </tr>\n",
       "    <tr>\n",
       "      <td>8</td>\n",
       "      <td>Благовещенск</td>\n",
       "      <td>1.000000</td>\n",
       "    </tr>\n",
       "    <tr>\n",
       "      <td>9</td>\n",
       "      <td>Братск</td>\n",
       "      <td>1.000000</td>\n",
       "    </tr>\n",
       "  </tbody>\n",
       "</table>\n",
       "</div>"
      ],
      "text/plain": [
       "           city  average_flights\n",
       "0        Абакан         3.870968\n",
       "1       Анадырь         1.000000\n",
       "2         Анапа         2.161290\n",
       "3   Архангельск         5.354839\n",
       "4     Астрахань         2.451613\n",
       "5       Барнаул         2.612903\n",
       "6      Белгород         6.000000\n",
       "7    Белоярский         2.000000\n",
       "8  Благовещенск         1.000000\n",
       "9        Братск         1.000000"
      ]
     },
     "metadata": {},
     "output_type": "display_data"
    }
   ],
   "source": [
    "df_list = [model_flights, city_flights]\n",
    " \n",
    "for val in df_list:\n",
    "    val.info()\n",
    "    display(val.describe())\n",
    "    display(val.head(10))\n",
    "    "
   ]
  },
  {
   "cell_type": "markdown",
   "metadata": {},
   "source": [
    "В датасете по первому запросу (model_flights) всего 2 колонки, 8 строк. Первый столбец типа object, второй типа int64. \n",
    "Медианное значение числа полетов (2035.625) сильно разнится со средним(795), но это вполне объяснимо, учитывая, что строк в датасете всего 8, данных мало. Максимальное число полетов - 4557, минимальное - 300."
   ]
  },
  {
   "cell_type": "code",
   "execution_count": 4,
   "metadata": {},
   "outputs": [
    {
     "data": {
      "text/html": [
       "<div>\n",
       "<style scoped>\n",
       "    .dataframe tbody tr th:only-of-type {\n",
       "        vertical-align: middle;\n",
       "    }\n",
       "\n",
       "    .dataframe tbody tr th {\n",
       "        vertical-align: top;\n",
       "    }\n",
       "\n",
       "    .dataframe thead th {\n",
       "        text-align: right;\n",
       "    }\n",
       "</style>\n",
       "<table border=\"1\" class=\"dataframe\">\n",
       "  <thead>\n",
       "    <tr style=\"text-align: right;\">\n",
       "      <th></th>\n",
       "      <th>model</th>\n",
       "      <th>flights_amount</th>\n",
       "    </tr>\n",
       "  </thead>\n",
       "  <tbody>\n",
       "  </tbody>\n",
       "</table>\n",
       "</div>"
      ],
      "text/plain": [
       "Empty DataFrame\n",
       "Columns: [model, flights_amount]\n",
       "Index: []"
      ]
     },
     "execution_count": 4,
     "metadata": {},
     "output_type": "execute_result"
    }
   ],
   "source": [
    "#проверим данные на дубликаты\n",
    "model_flights[model_flights.duplicated()]"
   ]
  },
  {
   "cell_type": "markdown",
   "metadata": {},
   "source": [
    "Дублирующихся строк нет."
   ]
  },
  {
   "cell_type": "code",
   "execution_count": 5,
   "metadata": {},
   "outputs": [
    {
     "data": {
      "text/html": [
       "<style  type=\"text/css\" >\n",
       "    #T_1461e4a6_c92f_11eb_ac0b_02420a398e1frow0_col0 {\n",
       "            background-color:  #3b4cc0;\n",
       "            color:  #f1f1f1;\n",
       "        }    #T_1461e4a6_c92f_11eb_ac0b_02420a398e1frow1_col0 {\n",
       "            background-color:  #3b4cc0;\n",
       "            color:  #f1f1f1;\n",
       "        }</style><table id=\"T_1461e4a6_c92f_11eb_ac0b_02420a398e1f\" ><thead>    <tr>        <th class=\"blank level0\" ></th>        <th class=\"col_heading level0 col0\" >0</th>    </tr></thead><tbody>\n",
       "                <tr>\n",
       "                        <th id=\"T_1461e4a6_c92f_11eb_ac0b_02420a398e1flevel0_row0\" class=\"row_heading level0 row0\" >model</th>\n",
       "                        <td id=\"T_1461e4a6_c92f_11eb_ac0b_02420a398e1frow0_col0\" class=\"data row0 col0\" >0</td>\n",
       "            </tr>\n",
       "            <tr>\n",
       "                        <th id=\"T_1461e4a6_c92f_11eb_ac0b_02420a398e1flevel0_row1\" class=\"row_heading level0 row1\" >flights_amount</th>\n",
       "                        <td id=\"T_1461e4a6_c92f_11eb_ac0b_02420a398e1frow1_col0\" class=\"data row1 col0\" >0</td>\n",
       "            </tr>\n",
       "    </tbody></table>"
      ],
      "text/plain": [
       "<pandas.io.formats.style.Styler at 0x7f861925a550>"
      ]
     },
     "execution_count": 5,
     "metadata": {},
     "output_type": "execute_result"
    }
   ],
   "source": [
    "#посмотрим на нулевые значения\n",
    "pd.DataFrame(round((model_flights.isna().mean()*100),2)).style.background_gradient('coolwarm')"
   ]
  },
  {
   "cell_type": "markdown",
   "metadata": {},
   "source": [
    "Нулевых значений нет."
   ]
  },
  {
   "cell_type": "markdown",
   "metadata": {},
   "source": [
    "Переходим к датасету city_flights. В датасете также всего 2 колонки, первая типа object. Имеет смысл перевести ее в String, так как она содержит названия городов. Вторая колонка типа float64. Возможно, уменьшим количество цифр после запятой до 2х для наиболее удобного представления данных.\n",
    "Число строк - 101."
   ]
  },
  {
   "cell_type": "code",
   "execution_count": 6,
   "metadata": {},
   "outputs": [
    {
     "data": {
      "text/html": [
       "<div>\n",
       "<style scoped>\n",
       "    .dataframe tbody tr th:only-of-type {\n",
       "        vertical-align: middle;\n",
       "    }\n",
       "\n",
       "    .dataframe tbody tr th {\n",
       "        vertical-align: top;\n",
       "    }\n",
       "\n",
       "    .dataframe thead th {\n",
       "        text-align: right;\n",
       "    }\n",
       "</style>\n",
       "<table border=\"1\" class=\"dataframe\">\n",
       "  <thead>\n",
       "    <tr style=\"text-align: right;\">\n",
       "      <th></th>\n",
       "      <th>city</th>\n",
       "      <th>average_flights</th>\n",
       "    </tr>\n",
       "  </thead>\n",
       "  <tbody>\n",
       "  </tbody>\n",
       "</table>\n",
       "</div>"
      ],
      "text/plain": [
       "Empty DataFrame\n",
       "Columns: [city, average_flights]\n",
       "Index: []"
      ]
     },
     "execution_count": 6,
     "metadata": {},
     "output_type": "execute_result"
    }
   ],
   "source": [
    "#проверим данные на дубликаты\n",
    "city_flights[city_flights.duplicated()]"
   ]
  },
  {
   "cell_type": "markdown",
   "metadata": {},
   "source": [
    "Дублирующихся строк нет."
   ]
  },
  {
   "cell_type": "code",
   "execution_count": 7,
   "metadata": {},
   "outputs": [
    {
     "data": {
      "text/html": [
       "<style  type=\"text/css\" >\n",
       "    #T_14681060_c92f_11eb_ac0b_02420a398e1frow0_col0 {\n",
       "            background-color:  #3b4cc0;\n",
       "            color:  #f1f1f1;\n",
       "        }    #T_14681060_c92f_11eb_ac0b_02420a398e1frow1_col0 {\n",
       "            background-color:  #3b4cc0;\n",
       "            color:  #f1f1f1;\n",
       "        }</style><table id=\"T_14681060_c92f_11eb_ac0b_02420a398e1f\" ><thead>    <tr>        <th class=\"blank level0\" ></th>        <th class=\"col_heading level0 col0\" >0</th>    </tr></thead><tbody>\n",
       "                <tr>\n",
       "                        <th id=\"T_14681060_c92f_11eb_ac0b_02420a398e1flevel0_row0\" class=\"row_heading level0 row0\" >city</th>\n",
       "                        <td id=\"T_14681060_c92f_11eb_ac0b_02420a398e1frow0_col0\" class=\"data row0 col0\" >0</td>\n",
       "            </tr>\n",
       "            <tr>\n",
       "                        <th id=\"T_14681060_c92f_11eb_ac0b_02420a398e1flevel0_row1\" class=\"row_heading level0 row1\" >average_flights</th>\n",
       "                        <td id=\"T_14681060_c92f_11eb_ac0b_02420a398e1frow1_col0\" class=\"data row1 col0\" >0</td>\n",
       "            </tr>\n",
       "    </tbody></table>"
      ],
      "text/plain": [
       "<pandas.io.formats.style.Styler at 0x7f8618f107d0>"
      ]
     },
     "execution_count": 7,
     "metadata": {},
     "output_type": "execute_result"
    }
   ],
   "source": [
    "#посмотрим на нулевые значения\n",
    "pd.DataFrame(round((city_flights.isna().mean()*100),2)).style.background_gradient('coolwarm')"
   ]
  },
  {
   "cell_type": "markdown",
   "metadata": {},
   "source": [
    "Нулевых значений нет."
   ]
  },
  {
   "cell_type": "markdown",
   "metadata": {},
   "source": [
    "### Вывод"
   ]
  },
  {
   "cell_type": "markdown",
   "metadata": {},
   "source": [
    "В результате предварительного анализа видим, что в датасете по первому запросу (model_flights) всего 2 колонки, 8 строк. Первый столбец типа object, второй типа int64. \n",
    "Медианное значение числа полетов (2035.625) сильно разнится со средним (795), но это вполне объяснимо, учитывая, что строк в датасете всего 8, данных мало. Максимальное число полетов - 4557, минимальное - 300.\n",
    "\n",
    "В датасете по третьему запросу (city_flights) также всего 2 колонки, первая типа object. Имеет смысл перевести ее в String, так как она содержит названия городов. Вторая колонка типа float64. Возможно, уменьшим количество цифр после запятой до 2х для наиболее удобного представления данных. Число строк - 101.\n",
    "\n",
    "Данные в датасетах также проверены на пустые значения и дубликаты."
   ]
  },
  {
   "cell_type": "markdown",
   "metadata": {},
   "source": [
    "## Проверка типов данных"
   ]
  },
  {
   "cell_type": "markdown",
   "metadata": {},
   "source": [
    "Приведем значения в колонке city датасета city_flights к строковому типу."
   ]
  },
  {
   "cell_type": "code",
   "execution_count": 8,
   "metadata": {},
   "outputs": [],
   "source": [
    "city_flights['city'] = city_flights['city'].astype('str')"
   ]
  },
  {
   "cell_type": "markdown",
   "metadata": {},
   "source": [
    "Округлим количество цифр после запятой до 2х в колонке 'average_flights' для наиболее удобного представления данных"
   ]
  },
  {
   "cell_type": "code",
   "execution_count": 9,
   "metadata": {},
   "outputs": [
    {
     "data": {
      "text/html": [
       "<div>\n",
       "<style scoped>\n",
       "    .dataframe tbody tr th:only-of-type {\n",
       "        vertical-align: middle;\n",
       "    }\n",
       "\n",
       "    .dataframe tbody tr th {\n",
       "        vertical-align: top;\n",
       "    }\n",
       "\n",
       "    .dataframe thead th {\n",
       "        text-align: right;\n",
       "    }\n",
       "</style>\n",
       "<table border=\"1\" class=\"dataframe\">\n",
       "  <thead>\n",
       "    <tr style=\"text-align: right;\">\n",
       "      <th></th>\n",
       "      <th>city</th>\n",
       "      <th>average_flights</th>\n",
       "    </tr>\n",
       "  </thead>\n",
       "  <tbody>\n",
       "    <tr>\n",
       "      <td>0</td>\n",
       "      <td>Абакан</td>\n",
       "      <td>3.87</td>\n",
       "    </tr>\n",
       "    <tr>\n",
       "      <td>1</td>\n",
       "      <td>Анадырь</td>\n",
       "      <td>0.99</td>\n",
       "    </tr>\n",
       "    <tr>\n",
       "      <td>2</td>\n",
       "      <td>Анапа</td>\n",
       "      <td>2.16</td>\n",
       "    </tr>\n",
       "    <tr>\n",
       "      <td>3</td>\n",
       "      <td>Архангельск</td>\n",
       "      <td>5.35</td>\n",
       "    </tr>\n",
       "    <tr>\n",
       "      <td>4</td>\n",
       "      <td>Астрахань</td>\n",
       "      <td>2.45</td>\n",
       "    </tr>\n",
       "    <tr>\n",
       "      <td>...</td>\n",
       "      <td>...</td>\n",
       "      <td>...</td>\n",
       "    </tr>\n",
       "    <tr>\n",
       "      <td>96</td>\n",
       "      <td>Чита</td>\n",
       "      <td>1.58</td>\n",
       "    </tr>\n",
       "    <tr>\n",
       "      <td>97</td>\n",
       "      <td>Элиста</td>\n",
       "      <td>4.87</td>\n",
       "    </tr>\n",
       "    <tr>\n",
       "      <td>98</td>\n",
       "      <td>Южно-Сахалинск</td>\n",
       "      <td>4.29</td>\n",
       "    </tr>\n",
       "    <tr>\n",
       "      <td>99</td>\n",
       "      <td>Якутск</td>\n",
       "      <td>2.74</td>\n",
       "    </tr>\n",
       "    <tr>\n",
       "      <td>100</td>\n",
       "      <td>Ярославль</td>\n",
       "      <td>1.32</td>\n",
       "    </tr>\n",
       "  </tbody>\n",
       "</table>\n",
       "<p>101 rows × 2 columns</p>\n",
       "</div>"
      ],
      "text/plain": [
       "               city  average_flights\n",
       "0            Абакан             3.87\n",
       "1           Анадырь             0.99\n",
       "2             Анапа             2.16\n",
       "3       Архангельск             5.35\n",
       "4         Астрахань             2.45\n",
       "..              ...              ...\n",
       "96             Чита             1.58\n",
       "97           Элиста             4.87\n",
       "98   Южно-Сахалинск             4.29\n",
       "99           Якутск             2.74\n",
       "100       Ярославль             1.32\n",
       "\n",
       "[101 rows x 2 columns]"
      ]
     },
     "execution_count": 9,
     "metadata": {},
     "output_type": "execute_result"
    }
   ],
   "source": [
    "city_flights['average_flights'] = city_flights['average_flights'].floordiv(0.01).div(100)\n",
    "city_flights"
   ]
  },
  {
   "cell_type": "markdown",
   "metadata": {},
   "source": [
    "### Вывод"
   ]
  },
  {
   "cell_type": "markdown",
   "metadata": {},
   "source": [
    "В результате шага 3 значения в колонке city датасета city_flights были приведены к строковому типу. Также в колонке 'average_flights' было округлено количество цифр после запятой до двух для наиболее удобного представления данных.\n"
   ]
  },
  {
   "cell_type": "markdown",
   "metadata": {},
   "source": [
    "<div class=\"alert alert-block alert-success\">\n",
    "    \n",
    "\n",
    "__Комментарий от ревьюера №1__\n",
    "\n",
    "Первые три раздела сделаны отлично.\n",
    "</div>"
   ]
  },
  {
   "cell_type": "markdown",
   "metadata": {},
   "source": [
    "## Выборка из топ-10 городов по количеству рейсов"
   ]
  },
  {
   "cell_type": "markdown",
   "metadata": {},
   "source": [
    "Сделаем groupby по городу, посчитаем количество рейсов, отсортируем в обратном порядке по количеству рейсов и возьмем 10 первых.\n"
   ]
  },
  {
   "cell_type": "code",
   "execution_count": 10,
   "metadata": {},
   "outputs": [
    {
     "data": {
      "text/plain": [
       "['Москва',\n",
       " 'Санкт-Петербург',\n",
       " 'Новосибирск',\n",
       " 'Красноярск',\n",
       " 'Екатеринбург',\n",
       " 'Ростов-на-Дону',\n",
       " 'Пермь',\n",
       " 'Брянск',\n",
       " 'Сочи',\n",
       " 'Ульяновск']"
      ]
     },
     "execution_count": 10,
     "metadata": {},
     "output_type": "execute_result"
    }
   ],
   "source": [
    "#группируем по городу, сортируем и берем первые 10\n",
    "city_flights_10 = city_flights.groupby(['city']).sum().sort_values(by='average_flights', ascending=False).head(10)\n",
    "#сохраняем список топ-10\n",
    "a = city_flights_10.index[:10].to_list()\n",
    "a"
   ]
  },
  {
   "cell_type": "markdown",
   "metadata": {},
   "source": [
    "### Вывод"
   ]
  },
  {
   "cell_type": "markdown",
   "metadata": {},
   "source": [
    "На первых местах ожидаемо Москва и Санкт-Петербург. Новосибирск - третий после Москвы и Петербурга по числу жителей город России. Весьма неожиданно, что здесь есть Брянск и Ульяновск. С другой стороны, Брянск и Ульяновск - столицы областей, важные транспортные узлы. Также можно предположить, что у нас данные не по всем авиакомпаниям, или вообще данные только какой-то определенной авиакомпании."
   ]
  },
  {
   "cell_type": "markdown",
   "metadata": {},
   "source": [
    "## Построение графиков и интерпретация результата "
   ]
  },
  {
   "cell_type": "markdown",
   "metadata": {},
   "source": [
    "Изучим количество рейсов в зависимости от модели самолетов."
   ]
  },
  {
   "cell_type": "code",
   "execution_count": 11,
   "metadata": {},
   "outputs": [
    {
     "data": {
      "image/png": "[encoded data removed]",
      "text/plain": [
       "<Figure size 576x432 with 1 Axes>"
      ]
     },
     "metadata": {
      "needs_background": "light"
     },
     "output_type": "display_data"
    }
   ],
   "source": [
    "model_flights.plot(kind='bar',\n",
    "          x='model', # столбец значений для горизонтальной оси\n",
    "          y='flights_amount', # столбец значений для вертикальной оси\n",
    "          style='o-', # стиль заполнения:'o'(точечный) или 'o-'(точечно-линейный)\n",
    "          ylim=(0, 5000), # границы по оси Y\n",
    "          figsize=(8, 6), # размеры картинки: (x_size, y_size)\n",
    "          grid=True,# отображать сетку или нет\n",
    "          colormap='Set3') \n",
    "plt.title('Количество рейсов по моделям самолетов в сентябре 2018 года')\n",
    "plt.xlabel('Модель')\n",
    "plt.ylabel('Число рейсов')\n",
    "plt.xticks(rotation=45)\n",
    "plt.show()"
   ]
  },
  {
   "cell_type": "markdown",
   "metadata": {},
   "source": [
    "<div class=\"alert alert-block alert-warning\">\n",
    "    \n",
    "\n",
    "__Комментарий от ревьюера №1__\n",
    "\n",
    "В наших случаях легенды на графиках выглядят лишними, у нас нет раздела данных на категории.\n",
    "</div>"
   ]
  },
  {
   "cell_type": "markdown",
   "metadata": {},
   "source": [
    "Больше всего рейсов приходится на три модели самолетов, они сильно выбиваются среди общей картины, - это Bombardier CRJ-200 (4446),Cessna 208 Caravan (4557 рейсов), Sukhoi SuperJet-100 (4185). Остальные модели самолетов выполнили до 1000 рейсов за сентябрь 2018 года."
   ]
  },
  {
   "cell_type": "markdown",
   "metadata": {},
   "source": [
    "Изучим среднее количество рейсов за день в августе 2018 года в зависимости от города."
   ]
  },
  {
   "cell_type": "code",
   "execution_count": 12,
   "metadata": {},
   "outputs": [],
   "source": [
    "#отсортируем города по количеству рейсов в порядке убывания\n",
    "city_flights = city_flights.sort_values(['average_flights'], ascending=False).reset_index(drop=True)\n",
    "\n",
    "#разделим данные на две части для более удобного представления на графике\n",
    "part1 = city_flights.iloc[:51, :]\n",
    "\n",
    "part2 = city_flights.iloc[51:, :]\n"
   ]
  },
  {
   "cell_type": "code",
   "execution_count": 15,
   "metadata": {},
   "outputs": [
    {
     "data": {
      "image/png": "[encoded data removed]",
      "text/plain": [
       "<Figure size 1800x1440 with 2 Axes>"
      ]
     },
     "metadata": {},
     "output_type": "display_data"
    }
   ],
   "source": [
    "fig, axes = plt.subplots(1, 2, figsize=(25,20))\n",
    "fig.suptitle('Среднее количество рейсов по городам в сентябре 2018 года')\n",
    "axes[0].set_title('Первый 51 город')\n",
    "axes[1].set_title('Последние 50 городов')\n",
    "ax1 = sns.barplot(ax=axes[0], data=part1, x='average_flights', y='city')\n",
    "ax2 = sns.barplot(ax=axes[1], data=part2, x='average_flights', y='city')\n",
    "ax1.set(xlabel='Среднее количество рейсов', ylabel='Город')\n",
    "ax2.set(xlabel='Среднее количество рейсов', ylabel='')\n",
    "sns.set_style(\"whitegrid\")\n",
    "plt.xlim(0,130)\n",
    "plt.show()"
   ]
  },
  {
   "cell_type": "markdown",
   "metadata": {},
   "source": [
    "Построен барплот, где города расположены по оси Y. Предварительно датасет был отсортирован по убываню числа полетов и  разделен на две группы (по 50 и 51 городу), после чего был использован сабплот с двумя колонками. В итоге диаграмма получилась не такой громоздкой."
   ]
  },
  {
   "cell_type": "markdown",
   "metadata": {},
   "source": [
    "Судя по графику, самое большое число полетов совершилось в Москву (порядка 135), в Санкт-Петербург уже значительно меньше (около 30 в день), далее идут Новосибирск(~ 15), Красноярск, Екатеринбург, Ростов-на-Дону, Пермь и Брянск (~ 10 полетов). Немного странно то, Брянск в среднем больше рейсов в день принимает в сентябре, чем Сочи. Скорее всего, это всё-таки данные по какой-то одной авиакомпании. Или же у нас в выборке пассажиропоток \"по работе\" больше, чем \"на отдых\". В любом случае, здесь явно не хватает данных для полноценного анализа."
   ]
  },
  {
   "cell_type": "markdown",
   "metadata": {},
   "source": [
    "Изучим среднее количество рейсов в день за август 2018 года для топ-10 городов"
   ]
  },
  {
   "cell_type": "code",
   "execution_count": 16,
   "metadata": {},
   "outputs": [
    {
     "data": {
      "image/png": "[encoded data removed]",
      "text/plain": [
       "<Figure size 720x720 with 1 Axes>"
      ]
     },
     "metadata": {},
     "output_type": "display_data"
    }
   ],
   "source": [
    "city_flights_10.plot(\n",
    "                kind='bar', \n",
    "                title='Среднее количество рейсов в день для топ-10 городов за август 2018 года', \n",
    "                figsize=(10,10), \n",
    "                colormap='Reds_r',\n",
    "                grid=True\n",
    "                )\n",
    "plt.xlabel('Город')\n",
    "plt.ylabel('Среднее количество рейсов')\n",
    "plt.xticks(rotation=45)\n",
    "plt.yticks(np.arange(0, 140, 10)) #зададим шаг по oy\n",
    "plt.show()"
   ]
  },
  {
   "cell_type": "markdown",
   "metadata": {},
   "source": [
    "На графике показано среднее количество рейсов в день для топ-10 городов за август 2018 года. Видим здесь Брянск и Пензу, я предполагаю, что это региональные пересадочные узлы. Брянск близко к Беларуси, возможно, оттуда удобней лететь в какие-то небольшие города. Рейсы в Ульяновск, возможно, имеют промышленный характер, так как там расположен авиационный завод, так что можно предположить, что туда совершаются регулярные грузоперевозки."
   ]
  },
  {
   "cell_type": "markdown",
   "metadata": {},
   "source": [
    "### Вывод"
   ]
  },
  {
   "cell_type": "markdown",
   "metadata": {},
   "source": [
    "На данном этапе были построены графики: модели самолетов и количество рейсов, города и количество рейсов, топ-10 городов и количество рейсов. \n",
    "\n",
    "1. Изучено количество рейсов в зависимости от модели самолетов за сентябрь 2018 года. Больше всего рейсов приходится на три модели самолетов, они сильно выбиваются среди общей картины, - это Bombardier CRJ-200 (4446),Cessna 208 Caravan (4557 рейсов), Sukhoi SuperJet-100 (4185). Остальные модели самолетов выполнили менее 1000 рейсов за сентябрь 2018 года.\n",
    " \n",
    "2. Изучено среднее количество рейсов за день в августе 2018 года в зависимости от города. Построен барплот, где города расположены по оси Y. Предварительно датасет был отсортирован по убываню числа полетов и  разделен на две группы (по 50 и 51 городу), после чего был использован сабплот с двумя колонками. В итоге диаграмма получилась не такой громоздкой. \n",
    "    Судя по графику, самое большое число полетов совершилось в Москву (порядка 135), в Санкт-Петербург уже значительно меньше (около 30 в день), далее идут Новосибирск(~ 15), Красноярск, Екатеринбург, Ростов-на-Дону, Пермь и Брянск (~ 10 полетов). Немного странно то, Брянск в среднем больше рейсов в день принимает в сентябре, чем Сочи. Скорее всего, это всё-таки данные по какой-то одной авиакомпании. Или же у нас в выборке пассажиропоток \"по работе\" больше, чем \"на отдых\". В любом случае, здесь явно не хватает данных для полноценного анализа.\n",
    "    \n",
    "3. Изучено среднее количество рейсов в день за август 2018 года для топ-10 городов. Сильно выбивается Москва по количеству рейсов, но это объяснимо, тк она является столицей, туда выполняются как пассажирские потоки, так и грузовые. Для городов с 4 по 10 места среднее количество полетов в день практически на одном уровне. Видим на графике Брянск и Пензу, предполагаю, что это региональные пересадочные узлы. Брянск близко к Беларуси, возможно, оттуда удобней лететь в какие-то небольшие города. Рейсы в Ульяновск, возможно, имеют промышленный характер, так как там расположен авиационный завод, так что можно предположить, что туда совершаются регулярные грузоперевозки."
   ]
  },
  {
   "cell_type": "markdown",
   "metadata": {},
   "source": [
    "## Общий вывод"
   ]
  },
  {
   "cell_type": "markdown",
   "metadata": {},
   "source": [
    "В данном проекте была выполнена аналитика в авиакомпании.\n",
    "В качестве входных данных представлены файлы, в которых содержатся данные о моделях самолетов и количестве рейсов для каждой модели самолетов в сентябре 2018 года, а также данные о городах и среднем количестве рейсов, прибывающих в эти города за день в августе 2018 года.\n",
    "\n",
    "Сначала были импортированы файлы с результатами первого и третьего запросов с помощью функции read_csv(). \n",
    "Также были импортированы библиотеки, необходимые для выполнения проекта.\n",
    "\n",
    "Далее данные были изучены с помощью метода info(). Выведены первые строки таблицы методом head(), чтобы познакомиться с данными. \n",
    "Изучены числовые данные в столбцах с помощью describe().\n",
    "\n",
    "В датасете по первому запросу (model_flights) всего 2 колонки, 8 строк. Первый столбец типа object, второй типа int64. \n",
    "Медианное значение числа полетов (2035.625) сильно разнится со средним (795), но это вполне объяснимо, учитывая, что строк в датасете всего 8, данных мало. Максимальное число полетов - 4557, минимальное - 300.\n",
    "В датасете по третьему запросу (city_flights) также всего 2 колонки, первая типа object. Имеет смысл перевести ее в String, так как она содержит названия городов. Вторая колонка типа float64. Возможно, уменьшим количество цифр после запятой до 2х для наиболее удобного представления данных. Число строк - 101.\n",
    "Данные в датасетах также проверены на пустые значения и дубликаты.\n",
    "\n",
    "Значения в колонке city датасета city_flights были приведены к строковому типу. Также в колонке 'average_flights' было округлено количество цифр после запятой до двух для наиболее удобного представления данных.\n",
    "\n",
    "Далее была сделана выборка из топ-10 городов по количеству рейсов. На первых местах ожидаемо Москва и Санкт-Петербург. Новосибирск - третий после Москвы и Петербурга по числу жителей город России. Весьма неожиданно, что здесь есть Брянск и Ульяновск. С другой стороны, Брянск и Ульяновск - столицы областей, важные транспортные узлы. Также можно предположить, что у нас данные не по всем авиакомпаниям, или вообще данные только какой-то определенной авиакомпании.\n",
    "\n",
    "Для более детального анализа были построены графики:\n",
    "\n",
    "1. Изучено количество рейсов в зависимости от модели самолетов за сентябрь 2018 года. Больше всего рейсов приходится на три модели самолетов, они сильно выбиваются среди общей картины, - это Bombardier CRJ-200 (4446),Cessna 208 Caravan (4557 рейсов), Sukhoi SuperJet-100 (4185). Остальные модели самолетов выполнили менее 1000 рейсов за сентябрь 2018 года.\n",
    "    \n",
    "2. Изучено среднее количество рейсов за день в августе 2018 года в зависимости от города. Построен барплот, где города расположены по оси Y. Предварительно датасет был отсортирован по убываню числа полетов и  разделен на две группы (по 50 и 51 городу), после чего был использован сабплот с двумя колонками. В итоге диаграмма получилась не такой громоздкой. \n",
    "    Судя по графику, самое большое число полетов совершилось в Москву (порядка 135), в Санкт-Петербург уже значительно меньше (около 30 в день), далее идут Новосибирск(~ 15), Красноярск, Екатеринбург, Ростов-на-Дону, Пермь и Брянск (~ 10 полетов). Немного странно то, Брянск в среднем больше рейсов в день принимает в сентябре, чем Сочи. Скорее всего, это всё-таки данные по какой-то одной авиакомпании. Или же у нас в выборке пассажиропоток \"по работе\" больше, чем \"на отдых\". В любом случае, здесь явно не хватает данных для полноценного анализа.\n",
    "    \n",
    "3. Изучено среднее количество рейсов в день за август 2018 года для топ-10 городов. Сильно выбивается Москва по количеству рейсов, но это объяснимо, тк она является столицей, туда выполняются как пассажирские потоки, так и грузовые. Для городов с 4 по 10 места среднее количество полетов в день практически на одном уровне. Видим на графике Брянск и Пензу, предполагаю, что это региональные пересадочные узлы. Брянск близко к Беларуси, возможно, оттуда удобней лететь в какие-то небольшие города. Рейсы в Ульяновск, возможно, имеют промышленный характер, так как там расположен авиационный завод, так что можно предположить, что туда совершаются регулярные грузоперевозки."
   ]
  },
  {
   "cell_type": "markdown",
   "metadata": {},
   "source": [
    "<div class=\"alert alert-block alert-success\">\n",
    "    \n",
    "\n",
    "__Комментарий от ревьюера №1__\n",
    "\n",
    "Отличные общие выводы.\n",
    "</div>"
   ]
  },
  {
   "cell_type": "code",
   "execution_count": null,
   "metadata": {},
   "outputs": [],
   "source": []
  }
 ],
 "metadata": {
  "ExecuteTimeLog": [
   {
    "duration": 1533,
    "start_time": "2021-06-08T13:36:25.180Z"
   },
   {
    "duration": 35,
    "start_time": "2021-06-08T13:36:27.634Z"
   },
   {
    "duration": 35,
    "start_time": "2021-06-08T13:37:15.725Z"
   },
   {
    "duration": 64,
    "start_time": "2021-06-08T13:37:22.723Z"
   },
   {
    "duration": 60,
    "start_time": "2021-06-08T13:37:44.793Z"
   },
   {
    "duration": 10,
    "start_time": "2021-06-08T13:40:24.996Z"
   },
   {
    "duration": 11,
    "start_time": "2021-06-08T13:40:28.201Z"
   },
   {
    "duration": 809,
    "start_time": "2021-06-08T13:40:31.824Z"
   },
   {
    "duration": 11,
    "start_time": "2021-06-08T14:28:55.375Z"
   },
   {
    "duration": 18,
    "start_time": "2021-06-08T14:29:17.044Z"
   },
   {
    "duration": 6,
    "start_time": "2021-06-08T14:29:39.308Z"
   },
   {
    "duration": 481,
    "start_time": "2021-06-08T14:50:45.204Z"
   },
   {
    "duration": 10,
    "start_time": "2021-06-08T14:50:53.535Z"
   },
   {
    "duration": 7686,
    "start_time": "2021-06-08T14:57:54.621Z"
   },
   {
    "duration": 378,
    "start_time": "2021-06-08T14:58:24.559Z"
   },
   {
    "duration": 374,
    "start_time": "2021-06-08T14:58:43.826Z"
   },
   {
    "duration": 618,
    "start_time": "2021-06-08T15:01:32.553Z"
   },
   {
    "duration": 368,
    "start_time": "2021-06-08T15:02:28.760Z"
   },
   {
    "duration": 314,
    "start_time": "2021-06-08T15:16:41.325Z"
   },
   {
    "duration": 105,
    "start_time": "2021-06-08T15:17:23.118Z"
   },
   {
    "duration": 550,
    "start_time": "2021-06-08T15:17:34.009Z"
   },
   {
    "duration": 1012,
    "start_time": "2021-06-08T15:35:14.904Z"
   },
   {
    "duration": 5099,
    "start_time": "2021-06-08T15:37:45.036Z"
   },
   {
    "duration": 2166,
    "start_time": "2021-06-08T15:38:13.912Z"
   },
   {
    "duration": 2331,
    "start_time": "2021-06-08T15:38:51.377Z"
   },
   {
    "duration": 2541,
    "start_time": "2021-06-08T15:39:13.966Z"
   },
   {
    "duration": 2481,
    "start_time": "2021-06-08T15:39:43.441Z"
   },
   {
    "duration": 2608,
    "start_time": "2021-06-08T15:41:09.096Z"
   },
   {
    "duration": 13,
    "start_time": "2021-06-08T15:42:32.227Z"
   },
   {
    "duration": 2651,
    "start_time": "2021-06-08T15:57:41.768Z"
   },
   {
    "duration": 1518,
    "start_time": "2021-06-09T11:12:10.104Z"
   },
   {
    "duration": 34,
    "start_time": "2021-06-09T11:12:11.625Z"
   },
   {
    "duration": 57,
    "start_time": "2021-06-09T11:12:11.662Z"
   },
   {
    "duration": 9,
    "start_time": "2021-06-09T11:12:11.722Z"
   },
   {
    "duration": 537,
    "start_time": "2021-06-09T11:12:11.756Z"
   },
   {
    "duration": 12,
    "start_time": "2021-06-09T11:12:12.296Z"
   },
   {
    "duration": 18,
    "start_time": "2021-06-09T11:12:12.310Z"
   },
   {
    "duration": 22,
    "start_time": "2021-06-09T11:12:12.332Z"
   },
   {
    "duration": 13,
    "start_time": "2021-06-09T11:12:12.358Z"
   },
   {
    "duration": 395,
    "start_time": "2021-06-09T11:12:12.374Z"
   },
   {
    "duration": 2648,
    "start_time": "2021-06-09T11:12:12.771Z"
   },
   {
    "duration": 786,
    "start_time": "2021-06-09T11:12:15.422Z"
   },
   {
    "duration": -558,
    "start_time": "2021-06-09T11:12:16.768Z"
   },
   {
    "duration": 2616,
    "start_time": "2021-06-09T11:17:02.503Z"
   },
   {
    "duration": 18,
    "start_time": "2021-06-09T11:26:01.465Z"
   },
   {
    "duration": 18,
    "start_time": "2021-06-09T11:26:17.227Z"
   },
   {
    "duration": 17,
    "start_time": "2021-06-09T11:27:10.209Z"
   },
   {
    "duration": 18,
    "start_time": "2021-06-09T11:27:19.434Z"
   },
   {
    "duration": 17,
    "start_time": "2021-06-09T11:27:50.088Z"
   },
   {
    "duration": 18,
    "start_time": "2021-06-09T11:27:58.665Z"
   },
   {
    "duration": 18,
    "start_time": "2021-06-09T11:28:05.295Z"
   },
   {
    "duration": 660,
    "start_time": "2021-06-09T11:28:32.588Z"
   },
   {
    "duration": 2448,
    "start_time": "2021-06-09T11:38:34.541Z"
   },
   {
    "duration": 7,
    "start_time": "2021-06-09T11:39:04.431Z"
   },
   {
    "duration": 8,
    "start_time": "2021-06-09T11:39:40.976Z"
   },
   {
    "duration": 1045,
    "start_time": "2021-06-09T11:43:41.026Z"
   },
   {
    "duration": 941,
    "start_time": "2021-06-09T11:43:56.715Z"
   },
   {
    "duration": 2561,
    "start_time": "2021-06-09T11:44:27.951Z"
   },
   {
    "duration": 922,
    "start_time": "2021-06-09T11:45:25.280Z"
   },
   {
    "duration": 2760,
    "start_time": "2021-06-09T11:47:52.243Z"
   },
   {
    "duration": 2570,
    "start_time": "2021-06-09T11:48:11.628Z"
   },
   {
    "duration": 2722,
    "start_time": "2021-06-09T11:48:24.232Z"
   },
   {
    "duration": 2850,
    "start_time": "2021-06-09T11:48:52.706Z"
   },
   {
    "duration": 2734,
    "start_time": "2021-06-09T11:49:06.446Z"
   },
   {
    "duration": 3782,
    "start_time": "2021-06-09T11:49:28.088Z"
   },
   {
    "duration": 957,
    "start_time": "2021-06-09T11:50:21.603Z"
   },
   {
    "duration": 2814,
    "start_time": "2021-06-09T11:50:47.622Z"
   },
   {
    "duration": 2735,
    "start_time": "2021-06-09T11:52:32.178Z"
   },
   {
    "duration": 3719,
    "start_time": "2021-06-09T11:52:55.093Z"
   },
   {
    "duration": 8393,
    "start_time": "2021-06-09T11:53:09.730Z"
   },
   {
    "duration": 6404,
    "start_time": "2021-06-09T11:53:33.230Z"
   },
   {
    "duration": 3700,
    "start_time": "2021-06-09T11:55:53.091Z"
   },
   {
    "duration": 3386,
    "start_time": "2021-06-09T11:57:00.276Z"
   },
   {
    "duration": 3845,
    "start_time": "2021-06-09T11:57:29.796Z"
   },
   {
    "duration": 3718,
    "start_time": "2021-06-09T11:57:47.157Z"
   },
   {
    "duration": 3725,
    "start_time": "2021-06-09T11:58:12.001Z"
   },
   {
    "duration": 10,
    "start_time": "2021-06-09T12:12:27.338Z"
   },
   {
    "duration": 10,
    "start_time": "2021-06-09T12:13:00.565Z"
   },
   {
    "duration": 510,
    "start_time": "2021-06-09T12:14:31.574Z"
   },
   {
    "duration": 531,
    "start_time": "2021-06-09T12:15:24.936Z"
   },
   {
    "duration": 283,
    "start_time": "2021-06-09T12:16:03.571Z"
   },
   {
    "duration": 729,
    "start_time": "2021-06-09T12:16:15.058Z"
   },
   {
    "duration": 519,
    "start_time": "2021-06-09T12:17:50.175Z"
   },
   {
    "duration": 534,
    "start_time": "2021-06-09T12:18:42.851Z"
   },
   {
    "duration": 535,
    "start_time": "2021-06-09T12:18:52.481Z"
   },
   {
    "duration": 32,
    "start_time": "2021-06-09T12:26:17.945Z"
   },
   {
    "duration": 4,
    "start_time": "2021-06-09T12:26:26.133Z"
   },
   {
    "duration": 32,
    "start_time": "2021-06-09T12:26:28.540Z"
   },
   {
    "duration": 51,
    "start_time": "2021-06-09T12:27:22.007Z"
   },
   {
    "duration": 10,
    "start_time": "2021-06-09T12:28:31.168Z"
   },
   {
    "duration": 16,
    "start_time": "2021-06-09T12:28:33.994Z"
   },
   {
    "duration": 10,
    "start_time": "2021-06-09T12:31:42.796Z"
   },
   {
    "duration": 16,
    "start_time": "2021-06-09T12:31:45.382Z"
   },
   {
    "duration": 5,
    "start_time": "2021-06-09T12:31:51.792Z"
   },
   {
    "duration": 5,
    "start_time": "2021-06-09T12:31:59.640Z"
   },
   {
    "duration": 16,
    "start_time": "2021-06-09T12:32:06.873Z"
   },
   {
    "duration": 31,
    "start_time": "2021-06-09T12:33:10.761Z"
   },
   {
    "duration": 5,
    "start_time": "2021-06-09T12:33:20.807Z"
   },
   {
    "duration": 16,
    "start_time": "2021-06-09T12:33:22.962Z"
   },
   {
    "duration": 1416,
    "start_time": "2021-06-09T12:51:57.483Z"
   },
   {
    "duration": 34,
    "start_time": "2021-06-09T12:51:58.901Z"
   },
   {
    "duration": 74,
    "start_time": "2021-06-09T12:51:58.938Z"
   },
   {
    "duration": 12,
    "start_time": "2021-06-09T12:51:59.015Z"
   },
   {
    "duration": 610,
    "start_time": "2021-06-09T12:51:59.053Z"
   },
   {
    "duration": 12,
    "start_time": "2021-06-09T12:51:59.666Z"
   },
   {
    "duration": 19,
    "start_time": "2021-06-09T12:51:59.681Z"
   },
   {
    "duration": 6,
    "start_time": "2021-06-09T12:51:59.704Z"
   },
   {
    "duration": 18,
    "start_time": "2021-06-09T12:51:59.756Z"
   },
   {
    "duration": 14,
    "start_time": "2021-06-09T12:51:59.777Z"
   },
   {
    "duration": 427,
    "start_time": "2021-06-09T12:51:59.794Z"
   },
   {
    "duration": 10,
    "start_time": "2021-06-09T12:52:00.224Z"
   },
   {
    "duration": 3207,
    "start_time": "2021-06-09T12:52:00.237Z"
   },
   {
    "duration": 842,
    "start_time": "2021-06-09T12:52:03.446Z"
   },
   {
    "duration": 1632,
    "start_time": "2021-06-09T12:53:29.672Z"
   },
   {
    "duration": 3149,
    "start_time": "2021-06-09T12:53:46.663Z"
   },
   {
    "duration": 247,
    "start_time": "2021-06-09T12:54:21.386Z"
   },
   {
    "duration": 3406,
    "start_time": "2021-06-09T14:23:03.017Z"
   },
   {
    "duration": 3300,
    "start_time": "2021-06-09T14:23:34.690Z"
   },
   {
    "duration": 3192,
    "start_time": "2021-06-09T14:24:15.073Z"
   },
   {
    "duration": 3813,
    "start_time": "2021-06-09T14:24:36.094Z"
   },
   {
    "duration": 1785,
    "start_time": "2021-06-09T14:25:21.201Z"
   },
   {
    "duration": 3625,
    "start_time": "2021-06-09T14:25:34.521Z"
   },
   {
    "duration": 3602,
    "start_time": "2021-06-09T14:26:13.382Z"
   },
   {
    "duration": 3525,
    "start_time": "2021-06-09T14:26:20.629Z"
   },
   {
    "duration": 3315,
    "start_time": "2021-06-09T14:27:07.439Z"
   },
   {
    "duration": 3449,
    "start_time": "2021-06-09T14:27:23.533Z"
   },
   {
    "duration": 1431,
    "start_time": "2021-06-09T14:27:42.739Z"
   },
   {
    "duration": 32,
    "start_time": "2021-06-09T14:27:44.173Z"
   },
   {
    "duration": 64,
    "start_time": "2021-06-09T14:27:44.208Z"
   },
   {
    "duration": 11,
    "start_time": "2021-06-09T14:27:44.275Z"
   },
   {
    "duration": 611,
    "start_time": "2021-06-09T14:27:44.289Z"
   },
   {
    "duration": 11,
    "start_time": "2021-06-09T14:27:44.903Z"
   },
   {
    "duration": 41,
    "start_time": "2021-06-09T14:27:44.917Z"
   },
   {
    "duration": 6,
    "start_time": "2021-06-09T14:27:44.961Z"
   },
   {
    "duration": 43,
    "start_time": "2021-06-09T14:27:44.970Z"
   },
   {
    "duration": 31,
    "start_time": "2021-06-09T14:27:45.015Z"
   },
   {
    "duration": 386,
    "start_time": "2021-06-09T14:27:45.048Z"
   },
   {
    "duration": 7,
    "start_time": "2021-06-09T14:27:45.436Z"
   },
   {
    "duration": 3143,
    "start_time": "2021-06-09T14:27:45.454Z"
   },
   {
    "duration": 924,
    "start_time": "2021-06-09T14:27:48.600Z"
   },
   {
    "duration": 3325,
    "start_time": "2021-06-09T14:28:29.900Z"
   },
   {
    "duration": 795,
    "start_time": "2021-06-09T14:28:43.881Z"
   },
   {
    "duration": 1477,
    "start_time": "2021-06-09T14:29:18.477Z"
   },
   {
    "duration": 35,
    "start_time": "2021-06-09T14:29:19.957Z"
   },
   {
    "duration": 74,
    "start_time": "2021-06-09T14:29:19.995Z"
   },
   {
    "duration": 9,
    "start_time": "2021-06-09T14:29:20.072Z"
   },
   {
    "duration": 676,
    "start_time": "2021-06-09T14:29:20.084Z"
   },
   {
    "duration": 11,
    "start_time": "2021-06-09T14:29:20.763Z"
   },
   {
    "duration": 23,
    "start_time": "2021-06-09T14:29:20.776Z"
   },
   {
    "duration": 6,
    "start_time": "2021-06-09T14:29:20.802Z"
   },
   {
    "duration": 31,
    "start_time": "2021-06-09T14:29:20.810Z"
   },
   {
    "duration": 22,
    "start_time": "2021-06-09T14:29:20.843Z"
   },
   {
    "duration": 535,
    "start_time": "2021-06-09T14:29:20.867Z"
   },
   {
    "duration": 50,
    "start_time": "2021-06-09T14:29:21.405Z"
   },
   {
    "duration": 3208,
    "start_time": "2021-06-09T14:29:21.457Z"
   },
   {
    "duration": 543,
    "start_time": "2021-06-09T14:29:24.667Z"
   },
   {
    "duration": 3441,
    "start_time": "2021-06-09T14:29:43.187Z"
   },
   {
    "duration": 514,
    "start_time": "2021-06-09T14:29:58.640Z"
   }
  ],
  "kernelspec": {
   "display_name": "Python 3",
   "language": "python",
   "name": "python3"
  },
  "language_info": {
   "codemirror_mode": {
    "name": "ipython",
    "version": 3
   },
   "file_extension": ".py",
   "mimetype": "text/x-python",
   "name": "python",
   "nbconvert_exporter": "python",
   "pygments_lexer": "ipython3",
   "version": "3.7.8"
  },
  "toc": {
   "base_numbering": 1,
   "nav_menu": {},
   "number_sections": true,
   "sideBar": true,
   "skip_h1_title": true,
   "title_cell": "Table of Contents",
   "title_sidebar": "Contents",
   "toc_cell": false,
   "toc_position": {},
   "toc_section_display": true,
   "toc_window_display": false
  }
 },
 "nbformat": 4,
 "nbformat_minor": 2
}
